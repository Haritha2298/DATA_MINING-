{
  "nbformat": 4,
  "nbformat_minor": 0,
  "metadata": {
    "colab": {
      "name": "Untitled0.ipynb",
      "provenance": [],
      "collapsed_sections": []
    },
    "kernelspec": {
      "name": "python3",
      "display_name": "Python 3"
    }
  },
  "cells": [
    {
      "cell_type": "code",
      "metadata": {
        "id": "rDeJFGdvd5Eg",
        "colab_type": "code",
        "colab": {
          "base_uri": "https://localhost:8080/",
          "height": 122
        },
        "outputId": "a5424db1-8c2f-440d-a19d-00778017e7eb"
      },
      "source": [
        "from google.colab import drive \n",
        "drive.mount('/content/gdrive')"
      ],
      "execution_count": 2,
      "outputs": [
        {
          "output_type": "stream",
          "text": [
            "Go to this URL in a browser: https://accounts.google.com/o/oauth2/auth?client_id=947318989803-6bn6qk8qdgf4n4g3pfee6491hc0brc4i.apps.googleusercontent.com&redirect_uri=urn%3aietf%3awg%3aoauth%3a2.0%3aoob&response_type=code&scope=email%20https%3a%2f%2fwww.googleapis.com%2fauth%2fdocs.test%20https%3a%2f%2fwww.googleapis.com%2fauth%2fdrive%20https%3a%2f%2fwww.googleapis.com%2fauth%2fdrive.photos.readonly%20https%3a%2f%2fwww.googleapis.com%2fauth%2fpeopleapi.readonly\n",
            "\n",
            "Enter your authorization code:\n",
            "··········\n",
            "Mounted at /content/gdrive\n"
          ],
          "name": "stdout"
        }
      ]
    },
    {
      "cell_type": "code",
      "metadata": {
        "id": "857Kq7kld8aE",
        "colab_type": "code",
        "colab": {}
      },
      "source": [
        "import pandas as pd \n",
        "#train = pd.read_csv('gdrive/My Drive/train_sample.csv')\n",
        "#test = pd.read_csv('gdrive/My Drive/test_sample.csv')\n",
        "#train = pd.read_csv('gdrive/My Drive/training_1perc_ranked_balanced_100K.csv')\n",
        "#test = pd.read_csv('gdrive/My Drive/validation_1perc_ranked.csv')\n",
        "train = pd.read_csv('gdrive/My Drive/training_set_VU_DM.csv')\n",
        "test = pd.read_csv('gdrive/My Drive/test_set_VU_DM.csv')"
      ],
      "execution_count": 0,
      "outputs": []
    },
    {
      "cell_type": "code",
      "metadata": {
        "id": "vsgCrrSYCGY0",
        "colab_type": "code",
        "colab": {}
      },
      "source": [
        "length = round(4958347 / 20)\n",
        "train = train.head(length)"
      ],
      "execution_count": 0,
      "outputs": []
    },
    {
      "cell_type": "code",
      "metadata": {
        "id": "MwxXpjlLcJ9B",
        "colab_type": "code",
        "colab": {}
      },
      "source": [
        "D = 8"
      ],
      "execution_count": 0,
      "outputs": []
    },
    {
      "cell_type": "code",
      "metadata": {
        "id": "UzUO3YNbTMtI",
        "colab_type": "code",
        "colab": {
          "base_uri": "https://localhost:8080/",
          "height": 646
        },
        "outputId": "aaef1076-fc67-422c-ffee-de56099aac98"
      },
      "source": [
        "print(train.columns)\n",
        "print(test.columns)\n",
        "#train = train.drop('rank_score', axis=1)\n",
        "#test = test.drop('rank_score', axis=1)\n",
        "#top = train.head(8000)\n",
        "#bot = train.tail(8000)\n",
        "#train = pd.concat([top,bot])\n",
        "#top = test.head(2000)\n",
        "#bot = test.tail(2000)\n",
        "#test = pd.concat([top,bot])\n",
        "#print(len(train))\n",
        "#print(len(test))\n",
        "#print(len(test['srch_id'].unique()))"
      ],
      "execution_count": 6,
      "outputs": [
        {
          "output_type": "stream",
          "text": [
            "Index(['srch_id', 'date_time', 'site_id', 'visitor_location_country_id',\n",
            "       'visitor_hist_starrating', 'visitor_hist_adr_usd', 'prop_country_id',\n",
            "       'prop_id', 'prop_starrating', 'prop_review_score', 'prop_brand_bool',\n",
            "       'prop_location_score1', 'prop_location_score2',\n",
            "       'prop_log_historical_price', 'position', 'price_usd', 'promotion_flag',\n",
            "       'srch_destination_id', 'srch_length_of_stay', 'srch_booking_window',\n",
            "       'srch_adults_count', 'srch_children_count', 'srch_room_count',\n",
            "       'srch_saturday_night_bool', 'srch_query_affinity_score',\n",
            "       'orig_destination_distance', 'random_bool', 'comp1_rate', 'comp1_inv',\n",
            "       'comp1_rate_percent_diff', 'comp2_rate', 'comp2_inv',\n",
            "       'comp2_rate_percent_diff', 'comp3_rate', 'comp3_inv',\n",
            "       'comp3_rate_percent_diff', 'comp4_rate', 'comp4_inv',\n",
            "       'comp4_rate_percent_diff', 'comp5_rate', 'comp5_inv',\n",
            "       'comp5_rate_percent_diff', 'comp6_rate', 'comp6_inv',\n",
            "       'comp6_rate_percent_diff', 'comp7_rate', 'comp7_inv',\n",
            "       'comp7_rate_percent_diff', 'comp8_rate', 'comp8_inv',\n",
            "       'comp8_rate_percent_diff', 'click_bool', 'gross_bookings_usd',\n",
            "       'booking_bool'],\n",
            "      dtype='object')\n",
            "Index(['srch_id', 'date_time', 'site_id', 'visitor_location_country_id',\n",
            "       'visitor_hist_starrating', 'visitor_hist_adr_usd', 'prop_country_id',\n",
            "       'prop_id', 'prop_starrating', 'prop_review_score', 'prop_brand_bool',\n",
            "       'prop_location_score1', 'prop_location_score2',\n",
            "       'prop_log_historical_price', 'price_usd', 'promotion_flag',\n",
            "       'srch_destination_id', 'srch_length_of_stay', 'srch_booking_window',\n",
            "       'srch_adults_count', 'srch_children_count', 'srch_room_count',\n",
            "       'srch_saturday_night_bool', 'srch_query_affinity_score',\n",
            "       'orig_destination_distance', 'random_bool', 'comp1_rate', 'comp1_inv',\n",
            "       'comp1_rate_percent_diff', 'comp2_rate', 'comp2_inv',\n",
            "       'comp2_rate_percent_diff', 'comp3_rate', 'comp3_inv',\n",
            "       'comp3_rate_percent_diff', 'comp4_rate', 'comp4_inv',\n",
            "       'comp4_rate_percent_diff', 'comp5_rate', 'comp5_inv',\n",
            "       'comp5_rate_percent_diff', 'comp6_rate', 'comp6_inv',\n",
            "       'comp6_rate_percent_diff', 'comp7_rate', 'comp7_inv',\n",
            "       'comp7_rate_percent_diff', 'comp8_rate', 'comp8_inv',\n",
            "       'comp8_rate_percent_diff'],\n",
            "      dtype='object')\n"
          ],
          "name": "stdout"
        }
      ]
    },
    {
      "cell_type": "code",
      "metadata": {
        "id": "i2VJHCkPeDyz",
        "colab_type": "code",
        "colab": {
          "base_uri": "https://localhost:8080/",
          "height": 646
        },
        "outputId": "c06b7590-6574-4588-83d2-cb8f274bc918"
      },
      "source": [
        "#train = train.drop('Unnamed: 0', axis=1)\n",
        "#test= test.drop('Unnamed: 0', axis=1)\n",
        "print(train.columns)\n",
        "print(test.columns)\n",
        "#df = df.sample(1000)\n",
        "#import random\n",
        "#srch_id_list = list(df['srch_id'].unique())\n",
        "#srch_id_list = random.sample(srch_id_list, 10000)\n",
        "#df = df[~df['srch_id'].isin(srch_id_list)]"
      ],
      "execution_count": 7,
      "outputs": [
        {
          "output_type": "stream",
          "text": [
            "Index(['srch_id', 'date_time', 'site_id', 'visitor_location_country_id',\n",
            "       'visitor_hist_starrating', 'visitor_hist_adr_usd', 'prop_country_id',\n",
            "       'prop_id', 'prop_starrating', 'prop_review_score', 'prop_brand_bool',\n",
            "       'prop_location_score1', 'prop_location_score2',\n",
            "       'prop_log_historical_price', 'position', 'price_usd', 'promotion_flag',\n",
            "       'srch_destination_id', 'srch_length_of_stay', 'srch_booking_window',\n",
            "       'srch_adults_count', 'srch_children_count', 'srch_room_count',\n",
            "       'srch_saturday_night_bool', 'srch_query_affinity_score',\n",
            "       'orig_destination_distance', 'random_bool', 'comp1_rate', 'comp1_inv',\n",
            "       'comp1_rate_percent_diff', 'comp2_rate', 'comp2_inv',\n",
            "       'comp2_rate_percent_diff', 'comp3_rate', 'comp3_inv',\n",
            "       'comp3_rate_percent_diff', 'comp4_rate', 'comp4_inv',\n",
            "       'comp4_rate_percent_diff', 'comp5_rate', 'comp5_inv',\n",
            "       'comp5_rate_percent_diff', 'comp6_rate', 'comp6_inv',\n",
            "       'comp6_rate_percent_diff', 'comp7_rate', 'comp7_inv',\n",
            "       'comp7_rate_percent_diff', 'comp8_rate', 'comp8_inv',\n",
            "       'comp8_rate_percent_diff', 'click_bool', 'gross_bookings_usd',\n",
            "       'booking_bool'],\n",
            "      dtype='object')\n",
            "Index(['srch_id', 'date_time', 'site_id', 'visitor_location_country_id',\n",
            "       'visitor_hist_starrating', 'visitor_hist_adr_usd', 'prop_country_id',\n",
            "       'prop_id', 'prop_starrating', 'prop_review_score', 'prop_brand_bool',\n",
            "       'prop_location_score1', 'prop_location_score2',\n",
            "       'prop_log_historical_price', 'price_usd', 'promotion_flag',\n",
            "       'srch_destination_id', 'srch_length_of_stay', 'srch_booking_window',\n",
            "       'srch_adults_count', 'srch_children_count', 'srch_room_count',\n",
            "       'srch_saturday_night_bool', 'srch_query_affinity_score',\n",
            "       'orig_destination_distance', 'random_bool', 'comp1_rate', 'comp1_inv',\n",
            "       'comp1_rate_percent_diff', 'comp2_rate', 'comp2_inv',\n",
            "       'comp2_rate_percent_diff', 'comp3_rate', 'comp3_inv',\n",
            "       'comp3_rate_percent_diff', 'comp4_rate', 'comp4_inv',\n",
            "       'comp4_rate_percent_diff', 'comp5_rate', 'comp5_inv',\n",
            "       'comp5_rate_percent_diff', 'comp6_rate', 'comp6_inv',\n",
            "       'comp6_rate_percent_diff', 'comp7_rate', 'comp7_inv',\n",
            "       'comp7_rate_percent_diff', 'comp8_rate', 'comp8_inv',\n",
            "       'comp8_rate_percent_diff'],\n",
            "      dtype='object')\n"
          ],
          "name": "stdout"
        }
      ]
    },
    {
      "cell_type": "code",
      "metadata": {
        "id": "iQdiHH8W5s9l",
        "colab_type": "code",
        "colab": {}
      },
      "source": [
        "#import numpy as np\n",
        "#msk = np.random.rand(len(df)) < 0.8\n",
        "#train = df[msk]\n",
        "#test = df[~msk]\n",
        "#test_columns = test"
      ],
      "execution_count": 0,
      "outputs": []
    },
    {
      "cell_type": "code",
      "metadata": {
        "id": "4fFWJ55o5mYq",
        "colab_type": "code",
        "colab": {}
      },
      "source": [
        "#from google.colab import files\n",
        "#train.to_csv(r'train_sample.csv', sep=',', encoding='utf-8', index = True)\n",
        "#test.to_csv(r'test_sample.csv', sep=',', encoding='utf-8', index = True)\n"
      ],
      "execution_count": 0,
      "outputs": []
    },
    {
      "cell_type": "code",
      "metadata": {
        "id": "whlcg6qX8Ghw",
        "colab_type": "code",
        "colab": {}
      },
      "source": [
        "#files.download('train_sample.csv')\n",
        "#files.download('test_sample.csv')"
      ],
      "execution_count": 0,
      "outputs": []
    },
    {
      "cell_type": "code",
      "metadata": {
        "id": "qeVluYfK_Zpc",
        "colab_type": "code",
        "colab": {}
      },
      "source": [
        "#train = train.sort_values('srch_id')\n",
        "#test = test.sort_values('srch_id')\n",
        "#train = train.head(16000)\n",
        "#test = test.head(40000)\n",
        "test_columns = test"
      ],
      "execution_count": 0,
      "outputs": []
    },
    {
      "cell_type": "code",
      "metadata": {
        "id": "XXasdwf3fvkt",
        "colab_type": "code",
        "colab": {}
      },
      "source": [
        "import numpy as np \n",
        "from scipy import stats\n"
      ],
      "execution_count": 0,
      "outputs": []
    },
    {
      "cell_type": "code",
      "metadata": {
        "id": "YnAS9rSuBiOy",
        "colab_type": "code",
        "colab": {}
      },
      "source": [
        "train['month'] = pd.DatetimeIndex(train['date_time']).month\n",
        "train = train.drop('date_time', axis=1)\n",
        "test['month'] = pd.DatetimeIndex(test['date_time']).month\n",
        "test= test.drop('date_time', axis=1)"
      ],
      "execution_count": 0,
      "outputs": []
    },
    {
      "cell_type": "code",
      "metadata": {
        "id": "6WzE9K6eDH0O",
        "colab_type": "code",
        "colab": {}
      },
      "source": [
        "def remove_outlier(df_in, col_name):\n",
        "    q1 = df_in[col_name].quantile(0.25)\n",
        "    q3 = df_in[col_name].quantile(0.75)\n",
        "    iqr = q3-q1 #Interquartile range\n",
        "    fence_low  = q1-1.5*iqr\n",
        "    fence_high = q3+1.5*iqr\n",
        "    df_out = df_in.loc[(df_in[col_name] > fence_low) & (df_in[col_name] < fence_high)]\n",
        "    return df_out\n",
        "\n",
        "columns = ['prop_location_score1', 'prop_location_score2', 'prop_log_historical_price', 'price_usd',\n",
        "           'orig_destination_distance', 'srch_booking_window', 'srch_query_affinity_score', 'visitor_hist_starrating', 'visitor_hist_adr_usd',\n",
        "           'comp1_rate_percent_diff', 'comp2_rate_percent_diff','comp3_rate_percent_diff','comp4_rate_percent_diff','comp5_rate_percent_diff',\n",
        "           'comp6_rate_percent_diff','comp7_rate_percent_diff','comp8_rate_percent_diff']\n",
        "\n",
        "for column in columns:\n",
        "  train[column] = remove_outlier(train, column)\n",
        "  test[column] = remove_outlier(test, column)\n"
      ],
      "execution_count": 0,
      "outputs": []
    },
    {
      "cell_type": "code",
      "metadata": {
        "id": "YprqdH4ZA3Ly",
        "colab_type": "code",
        "colab": {}
      },
      "source": [
        "def NaN_percentage(df):\n",
        "\n",
        "    # look for percentage of NaN values\n",
        "    percent_missing = df.isnull().sum() * 100 / len(df)\n",
        "    missing_value_df = pd.DataFrame({'column_name': df.columns,\n",
        "                                     'percent_missing': percent_missing})\n",
        "    missing_value_df = missing_value_df.reset_index(drop=True)\n",
        "    print(missing_value_df)\n",
        "\n",
        "#NaN_percentage(train)"
      ],
      "execution_count": 0,
      "outputs": []
    },
    {
      "cell_type": "code",
      "metadata": {
        "id": "4XzFLE3kgT0X",
        "colab_type": "code",
        "colab": {
          "base_uri": "https://localhost:8080/",
          "height": 153
        },
        "outputId": "9983c58c-0ad2-47a5-a62d-688027036596"
      },
      "source": [
        "print(train['comp1_rate_percent_diff'].max())\n",
        "print(train['comp2_rate_percent_diff'].max())\n",
        "print(train['comp3_rate_percent_diff'].max())\n",
        "print(train['comp4_rate_percent_diff'].max())\n",
        "print(train['comp5_rate_percent_diff'].max())\n",
        "print(train['comp6_rate_percent_diff'].max())\n",
        "print(train['comp7_rate_percent_diff'].max())\n",
        "print(train['comp8_rate_percent_diff'].max())\n"
      ],
      "execution_count": 16,
      "outputs": [
        {
          "output_type": "stream",
          "text": [
            "10679.0\n",
            "168893.0\n",
            "143583.0\n",
            "159249.0\n",
            "159205.0\n",
            "1058.0\n",
            "1461.0\n",
            "144900.0\n"
          ],
          "name": "stdout"
        }
      ]
    },
    {
      "cell_type": "code",
      "metadata": {
        "id": "F3jNKGCafiPZ",
        "colab_type": "code",
        "colab": {
          "base_uri": "https://localhost:8080/",
          "height": 1000
        },
        "outputId": "22d6bf28-8ff5-4fe4-c0ba-945a45698fad"
      },
      "source": [
        "def buckets(df):\n",
        "  #print(df['prop_location_score1'].astype(float).head())\n",
        "  df['prop_location_score1'] = df['prop_location_score1'].round()\n",
        "  df['prop_location_score2'] = df['prop_location_score2'].round(1)\n",
        "  df['prop_log_historical_price'] = df['prop_log_historical_price'].round() \n",
        "  print(df['price_usd'].head(20))\n",
        "  df['price_usd'] = df['price_usd'].round(-2)\n",
        "  print(df['price_usd'].head(20))\n",
        "  df['orig_destination_distance'] = df['orig_destination_distance'].round(-3)\n",
        "  df['comp1_rate_percent_diff'] = df['comp1_rate_percent_diff'].round(-2)\n",
        "  df['comp2_rate_percent_diff'] = df['comp2_rate_percent_diff'].round(-2)\n",
        "  df['comp3_rate_percent_diff'] = df['comp3_rate_percent_diff'].round(-2)\n",
        "  df['comp4_rate_percent_diff'] = df['comp4_rate_percent_diff'].round(-2)\n",
        "  df['comp5_rate_percent_diff'] = df['comp5_rate_percent_diff'].round(-2)\n",
        "  df['comp6_rate_percent_diff'] = df['comp6_rate_percent_diff'].round(-2)\n",
        "  df['comp7_rate_percent_diff'] = df['comp7_rate_percent_diff'].round(-2)\n",
        "  df['comp8_rate_percent_diff'] = df['comp8_rate_percent_diff'].round(-2)\n",
        "  df['srch_booking_window'] = df['srch_booking_window'].round(-1)\n",
        "  df['srch_query_affinity_score'] = df['srch_query_affinity_score'].round()\n",
        "  df['visitor_hist_starrating'] = df['visitor_hist_starrating'].round()\n",
        "  df['visitor_hist_adr_usd'] = df['visitor_hist_adr_usd'].round(-2)\n",
        "\n",
        "  return df\n",
        "\n",
        "train = buckets(train)\n",
        "test = buckets(test)"
      ],
      "execution_count": 17,
      "outputs": [
        {
          "output_type": "stream",
          "text": [
            "0     104.77\n",
            "1     170.74\n",
            "2     179.80\n",
            "3     602.77\n",
            "4     143.58\n",
            "5     195.32\n",
            "6     129.35\n",
            "7      85.37\n",
            "8     150.05\n",
            "9     280.69\n",
            "10    190.14\n",
            "11    100.89\n",
            "12    100.89\n",
            "13    210.84\n",
            "14    138.40\n",
            "15    100.89\n",
            "16    152.63\n",
            "17    138.40\n",
            "18    115.12\n",
            "19    191.44\n",
            "Name: price_usd, dtype: float64\n",
            "0     100.0\n",
            "1     200.0\n",
            "2     200.0\n",
            "3     600.0\n",
            "4     100.0\n",
            "5     200.0\n",
            "6     100.0\n",
            "7     100.0\n",
            "8     200.0\n",
            "9     300.0\n",
            "10    200.0\n",
            "11    100.0\n",
            "12    100.0\n",
            "13    200.0\n",
            "14    100.0\n",
            "15    100.0\n",
            "16    200.0\n",
            "17    100.0\n",
            "18    100.0\n",
            "19    200.0\n",
            "Name: price_usd, dtype: float64\n",
            "0     119.00\n",
            "1     118.00\n",
            "2      49.00\n",
            "3     143.00\n",
            "4      79.00\n",
            "5      84.15\n",
            "6      79.00\n",
            "7      52.40\n",
            "8      49.99\n",
            "9      83.30\n",
            "10    145.00\n",
            "11     45.00\n",
            "12     88.88\n",
            "13    103.98\n",
            "14     79.00\n",
            "15    149.00\n",
            "16     89.99\n",
            "17    158.87\n",
            "18    104.00\n",
            "19     58.57\n",
            "Name: price_usd, dtype: float64\n",
            "0     100.0\n",
            "1     100.0\n",
            "2       0.0\n",
            "3     100.0\n",
            "4     100.0\n",
            "5     100.0\n",
            "6     100.0\n",
            "7     100.0\n",
            "8       0.0\n",
            "9     100.0\n",
            "10    100.0\n",
            "11      0.0\n",
            "12    100.0\n",
            "13    100.0\n",
            "14    100.0\n",
            "15    100.0\n",
            "16    100.0\n",
            "17    200.0\n",
            "18    100.0\n",
            "19    100.0\n",
            "Name: price_usd, dtype: float64\n"
          ],
          "name": "stdout"
        }
      ]
    },
    {
      "cell_type": "code",
      "metadata": {
        "id": "vhAxa0ud-jvV",
        "colab_type": "code",
        "colab": {}
      },
      "source": [
        ""
      ],
      "execution_count": 0,
      "outputs": []
    },
    {
      "cell_type": "code",
      "metadata": {
        "id": "nQvhvmGF_F29",
        "colab_type": "code",
        "colab": {}
      },
      "source": [
        ""
      ],
      "execution_count": 0,
      "outputs": []
    },
    {
      "cell_type": "code",
      "metadata": {
        "id": "7XpkA2BZlPY1",
        "colab_type": "code",
        "colab": {}
      },
      "source": [
        "from sklearn.tree import DecisionTreeClassifier\n",
        "\n",
        "def discretizer(X_train, X_test, y_train, y_test, column, D):\n",
        "\n",
        "    X_train = X_train.fillna(X_train.median())\n",
        "    X_test = X_test.fillna(X_test.median())\n",
        "    X_train = X_train.fillna(X_train.median())\n",
        "    X_test = X_test.fillna(X_test.median())\n",
        "\n",
        "    tree_model = DecisionTreeClassifier(max_depth=D)\n",
        "    tree_model.fit(X_train.price_usd.to_frame(), X_train.booking_bool)\n",
        "    X_train['probabilities']=tree_model.predict_proba(X_train[column].to_frame())[:,1] \n",
        "    X_train.probabilities.unique()\n",
        "\n",
        "    #X_train.groupby(['probabilities'])['booking_bool'].count().plot.bar()\n",
        "\n",
        "    df_cuts = pd.concat( [X_train.groupby(['probabilities'])[column].min(),\n",
        "                X_train.groupby(['probabilities'])[column].max()], axis=1).reset_index()\n",
        "    df_cuts.columns = ['prob', 'min', 'max']\n",
        "    df_cuts = df_cuts.sort_values('min').reset_index(drop=True)\n",
        "    #print(df_cuts)\n",
        "\n",
        "    cut_labels = list(df_cuts['prob'])\n",
        "    cut_bins = list(df_cuts['min'])\n",
        "    cut_bins.append(float('inf'))\n",
        "    cut_bins[0] = float('-inf')\n",
        "    #print(len(cut_labels))\n",
        "    #print(len(cut_bins))\n",
        "\n",
        "    train[column] = pd.cut(train[column], bins=cut_bins, labels=cut_labels)\n",
        "    test[column] = pd.cut(test[column], bins=cut_bins, labels=cut_labels)\n",
        "    #print('TRAIN', column)\n",
        "    #print(df[column].head(10))\n",
        "    #print('TEST', column)\n",
        "    #print(df_test[column].head(10))\n",
        "    return train[column], test[column]\n",
        "  \n",
        "def discretize(df, df_test, columns, D):\n",
        "    from sklearn.model_selection import train_test_split\n",
        "    from sklearn.tree import DecisionTreeClassifier\n",
        "\n",
        "    X_train, X_test, y_train, y_test = train_test_split(df , df['booking_bool'] , test_size = 0.3)\n",
        "\n",
        "    for column in columns:\n",
        "      train[column], test[column] = discretizer(X_train, X_test, y_train, y_test, column, D)\n",
        "    # replace NaN values (make this mode)\n",
        "    #df = df.fillna(df.median())\n",
        "    #df_test = df_test.fillna(df.median())\n",
        "    return train, test\n",
        "  \n",
        "#train, test = discretize(train, test, columns, D)"
      ],
      "execution_count": 0,
      "outputs": []
    },
    {
      "cell_type": "code",
      "metadata": {
        "id": "cBBFObKBeG2I",
        "colab_type": "code",
        "colab": {}
      },
      "source": [
        "#import numpy as np\n",
        "#msk = np.random.rand(len(df)) < 0.8\n",
        "#train = df[msk]\n",
        "#test = df[~msk]\n",
        "#test_columns = test"
      ],
      "execution_count": 0,
      "outputs": []
    },
    {
      "cell_type": "code",
      "metadata": {
        "id": "IMor0ig4ebdk",
        "colab_type": "code",
        "colab": {}
      },
      "source": [
        "#test = test.drop(['srch_id', 'prop_id', 'srch_destination_id', 'gross_bookings_usd', 'position', 'click_bool', 'booking_bool'], axis = 1)\n",
        "#print(test.columns)\n",
        "test = test.drop(['srch_id', 'prop_id', 'srch_destination_id'], axis = 1)"
      ],
      "execution_count": 0,
      "outputs": []
    },
    {
      "cell_type": "code",
      "metadata": {
        "id": "qDnGFAntevPX",
        "colab_type": "code",
        "colab": {}
      },
      "source": [
        ""
      ],
      "execution_count": 0,
      "outputs": []
    },
    {
      "cell_type": "code",
      "metadata": {
        "id": "hLctb32me3xd",
        "colab_type": "code",
        "colab": {}
      },
      "source": [
        ""
      ],
      "execution_count": 0,
      "outputs": []
    },
    {
      "cell_type": "code",
      "metadata": {
        "id": "07iZ0H81fOTx",
        "colab_type": "code",
        "colab": {}
      },
      "source": [
        "def chances(column, df, df_test):\n",
        "    k = 1\n",
        "    import statistics as s\n",
        "    df_column = df.groupby([column, 'booking_bool']).size().reset_index(name ='Total_Amount')\n",
        "    #print(df_column)\n",
        "    values = list(df_column[column].unique())\n",
        "    #print(df_column)\n",
        "    \n",
        "    prob_yes_list = []\n",
        "\n",
        "    for i in range(len(values)):\n",
        "        #print('yes', column, categories[i])\n",
        "        #print(df_column[(df_column[column] == categories[i]) & (df_column['booking_bool'] == 1)].Total_Amount)\n",
        "        #print('no', column, categories[i])\n",
        "        #print(df_column[(df_column[column] == categories[i]) & (df_column['booking_bool'] == 0)].Total_Amount)\n",
        "        \n",
        "        try:\n",
        "            yes = int(df_column[(df_column[column] == values[i]) & (df_column['booking_bool'] == 1)].Total_Amount)\n",
        "        except:\n",
        "            yes = 0\n",
        "        try:\n",
        "            no = int(df_column[(df_column[column] == values[i]) & (df_column['booking_bool'] == 0)].Total_Amount)\n",
        "        except:\n",
        "            no = 0\n",
        "        #print(yes, column, categories[i])\n",
        "        #print(no, column, categories[i])\n",
        "        prob_yes = (yes + k) / (yes + no + k)\n",
        "        #prob_no = (no + k) / (yes + no + k)\n",
        "        #Gini = 1 - (prob_yes)**2 - (prob_no)**2\n",
        "        #Gini_leafs.append(Gini)\n",
        "        #sizes.append(yes+no)\n",
        "        prob_yes_list.append(prob_yes)\n",
        "    \n",
        "    print(len(values))\n",
        "    print(len(prob_yes_list))\n",
        "    print((values))\n",
        "    print((prob_yes_list))\n",
        "    \n",
        "    mean_prob_yes = s.mean(prob_yes_list)\n",
        "    df_test[column] = df_test[column].apply(lambda i: i if i in values else mean_prob_yes)\n",
        "    df_test[column] = df_test[column].replace(values, prob_yes_list)\n",
        "    #print(df_test[column])\n",
        "    \n",
        "    return df_test[column]"
      ],
      "execution_count": 0,
      "outputs": []
    },
    {
      "cell_type": "code",
      "metadata": {
        "id": "CMjTRbh-fVI5",
        "colab_type": "code",
        "colab": {
          "base_uri": "https://localhost:8080/",
          "height": 1000
        },
        "outputId": "fc9c86ae-af34-4066-e5b5-7c0162320f06"
      },
      "source": [
        "import time\n",
        "start_time = time.time()\n",
        "\n",
        "for column in test.loc[:, test.columns != 'srch_id'].columns:\n",
        "    print(column)\n",
        "    test[column] = chances(column, train, test)\n",
        "\n",
        "end_time = time.time()\n",
        "print('Running time:', end_time - start_time, 'seconds.')"
      ],
      "execution_count": 23,
      "outputs": [
        {
          "output_type": "stream",
          "text": [
            "site_id\n",
            "31\n",
            "31\n",
            "[1, 2, 3, 4, 5, 6, 7, 9, 10, 11, 12, 13, 14, 15, 16, 17, 18, 19, 21, 22, 23, 24, 25, 26, 27, 28, 29, 30, 31, 32, 34]\n",
            "[0.0267639902676399, 0.019169329073482427, 0.04395604395604396, 0.021621621621621623, 0.028106678928612485, 0.03759398496240601, 0.03698534542916958, 0.02205005959475566, 0.023310023310023312, 0.02424830261881668, 0.025806451612903226, 0.03482587064676617, 0.027159105652380746, 0.029413682906150134, 0.02575107296137339, 0.03225806451612903, 0.028550906805530615, 0.019850022055580063, 0.022900763358778626, 0.02657423454650491, 0.03289473684210526, 0.029965892480103947, 0.018518518518518517, 0.02765486725663717, 0.045662100456621, 0.023952095808383235, 0.029411764705882353, 0.047337278106508875, 0.04507042253521127, 0.024666092201637225, 0.0390625]\n",
            "visitor_location_country_id\n",
            "123\n",
            "123\n",
            "[2, 4, 5, 6, 9, 10, 11, 13, 14, 15, 16, 18, 21, 22, 23, 26, 28, 31, 32, 33, 35, 36, 37, 38, 39, 40, 41, 42, 45, 47, 50, 51, 53, 55, 56, 57, 59, 60, 63, 65, 68, 69, 70, 72, 73, 74, 77, 78, 79, 80, 81, 84, 85, 86, 88, 90, 91, 92, 93, 97, 98, 99, 100, 102, 103, 106, 107, 109, 113, 114, 115, 117, 120, 123, 125, 126, 127, 128, 129, 130, 131, 132, 134, 137, 138, 142, 145, 146, 149, 153, 154, 155, 157, 158, 160, 162, 164, 167, 173, 177, 178, 181, 184, 186, 187, 194, 202, 204, 205, 206, 211, 212, 213, 214, 215, 216, 219, 220, 221, 223, 224, 229, 230]\n",
            "[0.0365296803652968, 0.028985507246376812, 0.01, 0.05660377358490566, 0.03571428571428571, 0.06818181818181818, 0.0379746835443038, 0.024390243902439025, 0.03316326530612245, 0.027972027972027972, 0.029850746268656716, 0.035398230088495575, 0.0625, 0.2, 0.028720626631853787, 0.025210084033613446, 0.03225806451612903, 0.02627102627102627, 0.03436988543371522, 0.03133903133903134, 0.041353383458646614, 0.030303030303030304, 0.09523809523809523, 0.06060606060606061, 0.028824833702882482, 0.056179775280898875, 0.03, 0.03333333333333333, 0.06666666666666667, 0.06666666666666667, 0.023373983739837397, 0.0625, 0.06542056074766354, 0.02921317348766708, 0.023026315789473683, 0.037037037037037035, 0.02379182156133829, 0.02158273381294964, 0.045454545454545456, 0.05357142857142857, 0.02912621359223301, 0.012903225806451613, 0.06060606060606061, 0.04225352112676056, 0.022452504317789293, 0.03125, 0.027450980392156862, 0.07407407407407407, 0.0423728813559322, 0.030470914127423823, 0.03272727272727273, 0.03225806451612903, 0.04411764705882353, 0.06451612903225806, 0.046875, 0.020895522388059702, 0.047619047619047616, 0.027389903329752954, 0.0625, 0.07142857142857142, 0.030478955007256895, 0.02837347410095678, 0.027830487033523088, 0.10344827586206896, 0.025222551928783383, 0.0625, 0.04838709677419355, 0.046875, 0.06451612903225806, 0.03125, 0.18181818181818182, 0.033820138355111454, 0.0625, 0.026595744680851064, 0.027777777777777776, 0.075, 0.05217391304347826, 0.0625, 0.02804995196926033, 0.058823529411764705, 0.06451612903225806, 0.031604538087520256, 0.07692307692307693, 0.0332409972299169, 0.045774647887323945, 0.07142857142857142, 0.0625, 0.2222222222222222, 0.0851063829787234, 0.075, 0.0410958904109589, 0.0625, 0.06060606060606061, 0.022540983606557378, 0.02564102564102564, 0.0851063829787234, 0.05084745762711865, 0.1111111111111111, 0.038461538461538464, 0.06451612903225806, 0.035897435897435895, 0.031609195402298854, 0.08695652173913043, 0.043010752688172046, 0.031746031746031744, 0.04081632653061224, 0.034482758620689655, 0.08695652173913043, 0.03609022556390978, 0.03278688524590164, 0.029850746268656716, 0.03558718861209965, 0.03125, 0.047337278106508875, 0.019704433497536946, 0.02938581009530533, 0.028021929012028022, 0.02461706783369803, 0.04838709677419355, 0.05263157894736842, 0.03225806451612903, 0.03508771929824561, 0.04477611940298507]\n",
            "visitor_hist_starrating\n",
            "4\n",
            "4\n",
            "[2.0, 3.0, 4.0, 5.0]\n",
            "[0.03653250773993808, 0.0391304347826087, 0.033580396309181665, 0.04338842975206612]\n",
            "visitor_hist_adr_usd\n",
            "9\n",
            "9\n",
            "[0.0, 100.0, 200.0, 300.0, 400.0, 500.0, 600.0, 700.0, 800.0]\n",
            "[0.05027932960893855, 0.036642009289523485, 0.03584868290750644, 0.03375796178343949, 0.042492917847025496, 0.05847953216374269, 0.03296703296703297, 0.04838709677419355, 0.03636363636363636]\n",
            "prop_country_id\n",
            "124\n",
            "124\n",
            "[2, 4, 9, 10, 11, 13, 14, 15, 16, 17, 18, 20, 21, 23, 26, 27, 30, 31, 32, 33, 34, 35, 37, 38, 39, 40, 41, 42, 45, 47, 48, 50, 53, 55, 56, 59, 60, 61, 63, 68, 69, 70, 71, 73, 74, 76, 77, 80, 81, 83, 86, 88, 90, 91, 92, 93, 96, 97, 98, 99, 100, 102, 103, 106, 109, 112, 113, 117, 119, 122, 123, 125, 127, 129, 131, 132, 134, 137, 138, 145, 149, 151, 152, 153, 154, 155, 156, 157, 158, 159, 161, 162, 164, 173, 178, 181, 182, 184, 185, 186, 187, 189, 190, 194, 195, 197, 200, 202, 203, 205, 206, 211, 212, 213, 215, 216, 219, 220, 221, 223, 224, 225, 229, 230]\n",
            "[0.04195804195804196, 0.03333333333333333, 0.03694581280788178, 0.04225352112676056, 0.3333333333333333, 0.0430622009569378, 0.02774813233724653, 0.02667744543249798, 0.030120481927710843, 0.024, 0.021788990825688075, 0.3333333333333333, 0.16666666666666666, 0.02040816326530612, 0.029748283752860413, 0.014705882352941176, 0.0410958904109589, 0.02666666666666667, 0.02959028831562974, 0.03488372093023256, 0.029411764705882353, 0.03293807641633729, 0.03260869565217391, 0.06451612903225806, 0.02463382157123835, 0.16666666666666666, 0.031067961165048542, 0.04411764705882353, 0.016260162601626018, 0.06451612903225806, 0.023109243697478993, 0.028189910979228485, 0.03225806451612903, 0.029623961521644076, 0.02608695652173913, 0.023612750885478158, 0.025604551920341393, 0.022988505747126436, 0.16666666666666666, 0.03414634146341464, 0.05263157894736842, 0.021235521235521235, 0.029411764705882353, 0.028376844494892167, 0.030303030303030304, 0.06451612903225806, 0.1111111111111111, 0.025069637883008356, 0.02544769085768143, 0.23076923076923078, 0.0625, 0.02834008097165992, 0.15384615384615385, 0.02631578947368421, 0.034916201117318434, 0.0625, 0.2, 0.018867924528301886, 0.02186154355746936, 0.027889634601043996, 0.030634278002699054, 0.05405405405405406, 0.03463203463203463, 0.015625, 0.026124818577648767, 0.14285714285714285, 0.02197802197802198, 0.034944670937682006, 0.0784313725490196, 0.02702702702702703, 0.06976744186046512, 0.07142857142857142, 0.02127659574468085, 0.030042918454935622, 0.05263157894736842, 0.03271028037383177, 0.047619047619047616, 0.03398058252427184, 0.032989690721649485, 0.047619047619047616, 0.07142857142857142, 0.027777777777777776, 0.10344827586206896, 0.03508771929824561, 0.03819444444444445, 0.18181818181818182, 0.019230769230769232, 0.039634146341463415, 0.022704837117472853, 0.02702702702702703, 0.1111111111111111, 0.08108108108108109, 0.025974025974025976, 0.15384615384615385, 0.023809523809523808, 0.03866432337434095, 0.0625, 0.14285714285714285, 0.18181818181818182, 0.03225806451612903, 0.09433962264150944, 0.11764705882352941, 0.2857142857142857, 0.04819277108433735, 0.027777777777777776, 0.07142857142857142, 0.034482758620689655, 0.021505376344086023, 0.2222222222222222, 0.02314499659632403, 0.045112781954887216, 0.03205128205128205, 0.02617801047120419, 0.03214285714285714, 0.02290266367936271, 0.02743142144638404, 0.02796332678454486, 0.027713027713027714, 0.027472527472527472, 0.038461538461538464, 0.04040404040404041, 0.02877697841726619, 0.03546099290780142, 0.0472972972972973]\n",
            "prop_starrating\n",
            "6\n",
            "6\n",
            "[0, 1, 2, 3, 4, 5]\n",
            "[0.016656460502143294, 0.00980392156862745, 0.020935180155712475, 0.028521141257359297, 0.033241937589763675, 0.024985722444317533]\n",
            "prop_review_score\n",
            "10\n",
            "10\n",
            "[0.0, 1.0, 1.5, 2.0, 2.5, 3.0, 3.5, 4.0, 4.5, 5.0]\n",
            "[0.012527432333577176, 0.007530120481927711, 0.004398826979472141, 0.014123320702721322, 0.01627069834413247, 0.019237039452233453, 0.029065833983866772, 0.0330764535327331, 0.029367450649914452, 0.020313705322705065]\n",
            "prop_brand_bool\n",
            "2\n",
            "2\n",
            "[0, 1]\n",
            "[0.025880056539005183, 0.028971450524950086]\n",
            "prop_location_score1\n",
            "8\n",
            "8\n",
            "[0.0, 1.0, 2.0, 3.0, 4.0, 5.0, 6.0, 7.0]\n",
            "[0.02584447970981637, 0.027627192346716914, 0.029882549477524164, 0.02901207139154262, 0.026526721469424572, 0.02591012186214585, 0.026300008566778034, 0.021800947867298578]\n",
            "prop_location_score2\n",
            "11\n",
            "11\n",
            "[0.0, 0.1, 0.2, 0.3, 0.4, 0.5, 0.6, 0.7, 0.8, 0.9, 1.0]\n",
            "[0.01859253875968992, 0.03545133264614932, 0.04439090129456446, 0.04558153212762829, 0.0506591796875, 0.04889622446874355, 0.046511627906976744, 0.061455525606469004, 0.06612410986775177, 0.09523809523809523, 0.3142857142857143]\n",
            "prop_log_historical_price\n",
            "6\n",
            "6\n",
            "[0.0, 2.0, 3.0, 4.0, 5.0, 6.0]\n",
            "[0.027721490487447934, 0.2, 0.03018867924528302, 0.023696526267220356, 0.03009654016244183, 0.023806780207877208]\n",
            "price_usd\n",
            "180\n",
            "180\n",
            "[0.0, 100.0, 200.0, 300.0, 400.0, 500.0, 600.0, 700.0, 800.0, 900.0, 1000.0, 1100.0, 1200.0, 1300.0, 1400.0, 1500.0, 1600.0, 1700.0, 1800.0, 1900.0, 2000.0, 2100.0, 2200.0, 2300.0, 2400.0, 2500.0, 2600.0, 2700.0, 2800.0, 2900.0, 3000.0, 3100.0, 3200.0, 3300.0, 3400.0, 3500.0, 3600.0, 3700.0, 3800.0, 3900.0, 4000.0, 4100.0, 4200.0, 4300.0, 4400.0, 4500.0, 4600.0, 4700.0, 4800.0, 4900.0, 5000.0, 5100.0, 5300.0, 5400.0, 5500.0, 5600.0, 5800.0, 5900.0, 6000.0, 6100.0, 6200.0, 6300.0, 6400.0, 6500.0, 6600.0, 6700.0, 6800.0, 6900.0, 7000.0, 7100.0, 7200.0, 7300.0, 7500.0, 7600.0, 7700.0, 7800.0, 8100.0, 8200.0, 8300.0, 8400.0, 8500.0, 8600.0, 9000.0, 9100.0, 9600.0, 9800.0, 9900.0, 10000.0, 10100.0, 10200.0, 10400.0, 10500.0, 10600.0, 10700.0, 10900.0, 11000.0, 11100.0, 11300.0, 11400.0, 11500.0, 11600.0, 12000.0, 12100.0, 12300.0, 12400.0, 12500.0, 12600.0, 12800.0, 13000.0, 13100.0, 13200.0, 13300.0, 13400.0, 13700.0, 13900.0, 14000.0, 14200.0, 14700.0, 14900.0, 15100.0, 15600.0, 15700.0, 15900.0, 16000.0, 16100.0, 16400.0, 16500.0, 16600.0, 16900.0, 17100.0, 17300.0, 17400.0, 17800.0, 18800.0, 19000.0, 19100.0, 19200.0, 19300.0, 19600.0, 20000.0, 21400.0, 21600.0, 23700.0, 24000.0, 25000.0, 26700.0, 27400.0, 48000.0, 49200.0, 50500.0, 53400.0, 57300.0, 60400.0, 62500.0, 64100.0, 64600.0, 68400.0, 73600.0, 78200.0, 78900.0, 79400.0, 83600.0, 86600.0, 96700.0, 97700.0, 102600.0, 114000.0, 123000.0, 132500.0, 139000.0, 144800.0, 146600.0, 155500.0, 172700.0, 176000.0, 195500.0, 206000.0, 210400.0, 211400.0, 250900.0]\n",
            "[0.02605546723193782, 0.03183270162212352, 0.025296799078294845, 0.019064216307562314, 0.012109264995775838, 0.00876577840112202, 0.0109375, 0.011834319526627219, 0.004784688995215311, 0.009009009009009009, 0.015873015873015872, 0.009259259259259259, 0.034482758620689655, 0.015873015873015872, 0.03225806451612903, 0.034482758620689655, 0.04, 0.06666666666666667, 0.041666666666666664, 0.16666666666666666, 0.08333333333333333, 0.14285714285714285, 0.1111111111111111, 0.25, 0.14285714285714285, 0.16666666666666666, 0.2, 0.1, 0.16666666666666666, 0.25, 0.2, 0.5, 0.2, 0.1111111111111111, 0.2, 0.3333333333333333, 0.14285714285714285, 0.25, 0.3333333333333333, 0.5, 0.2, 0.5, 0.25, 0.3333333333333333, 0.3333333333333333, 0.25, 0.5, 0.4, 0.2, 0.3333333333333333, 0.16666666666666666, 0.25, 0.3333333333333333, 0.5, 0.3333333333333333, 0.5, 0.25, 0.16666666666666666, 0.3333333333333333, 0.14285714285714285, 0.2, 0.25, 0.2, 0.2, 0.2, 0.5, 0.5, 0.5, 0.5, 0.2, 0.5, 0.5, 0.2, 0.3333333333333333, 0.07692307692307693, 0.3333333333333333, 0.25, 0.5, 0.25, 0.3333333333333333, 0.3333333333333333, 0.3333333333333333, 0.3333333333333333, 0.5, 0.5, 0.6666666666666666, 0.5, 0.2, 0.5, 0.25, 0.5, 0.5, 0.6666666666666666, 0.3333333333333333, 0.3333333333333333, 0.3333333333333333, 0.3333333333333333, 0.5, 0.5, 0.5, 0.5, 0.3333333333333333, 0.3333333333333333, 0.3333333333333333, 0.25, 0.5, 0.5, 0.5, 0.5, 0.5, 0.5, 0.5, 0.5, 0.3333333333333333, 0.5, 0.5, 0.5, 0.5, 0.6666666666666666, 0.5, 0.3333333333333333, 0.5, 0.3333333333333333, 0.5, 0.5, 0.25, 0.5, 0.5, 0.5, 0.3333333333333333, 0.5, 0.25, 0.3333333333333333, 0.5, 0.6666666666666666, 0.5, 0.5, 0.5, 0.3333333333333333, 0.5, 0.5, 0.5, 0.5, 0.5, 0.5, 0.5, 0.5, 0.5, 0.5, 0.5, 1.0, 0.5, 0.5, 0.5, 0.5, 0.5, 0.5, 0.5, 0.5, 0.5, 0.5, 0.5, 0.5, 0.5, 0.5, 0.5, 0.5, 0.5, 0.5, 0.5, 0.5, 0.5, 1.0, 0.5, 0.5, 0.5, 0.5, 0.5, 0.5, 0.5]\n",
            "promotion_flag\n",
            "2\n",
            "2\n",
            "[0, 1]\n",
            "[0.024829595766149792, 0.03882626921285515]\n",
            "srch_length_of_stay\n",
            "25\n",
            "25\n",
            "[1, 2, 3, 4, 5, 6, 7, 8, 9, 10, 11, 12, 13, 14, 15, 16, 17, 18, 20, 21, 22, 24, 25, 27, 28]\n",
            "[0.03153428566134919, 0.028206229150840572, 0.025293223595537838, 0.022723702811665532, 0.020297862118664425, 0.024736267733721354, 0.01310985728509791, 0.021788990825688075, 0.016243654822335026, 0.019851116625310174, 0.021798365122615803, 0.027439024390243903, 0.016853932584269662, 0.017513134851138354, 0.016574585635359115, 0.041666666666666664, 0.033707865168539325, 0.029411764705882353, 0.027777777777777776, 0.034482758620689655, 0.03225806451612903, 0.045454545454545456, 0.03125, 0.020833333333333332, 0.03125]\n",
            "srch_booking_window\n",
            "41\n",
            "41\n",
            "[0, 10, 20, 30, 40, 50, 60, 70, 80, 90, 100, 110, 120, 130, 140, 150, 160, 170, 180, 190, 200, 210, 220, 230, 240, 250, 260, 270, 280, 290, 300, 310, 320, 330, 340, 350, 360, 380, 390, 440, 470]\n",
            "[0.03211725214460361, 0.029463968761093362, 0.028311999495554574, 0.026333879752524984, 0.026497551174180584, 0.02622762515554705, 0.02247691109380216, 0.024670287044220324, 0.022260009275003864, 0.02100656455142232, 0.021915406530791146, 0.023552502453385672, 0.023670458038733477, 0.024330900243309004, 0.022603599832565928, 0.02214022140221402, 0.021328162869607366, 0.02457757296466974, 0.018461538461538463, 0.021521906225980016, 0.020054694621695533, 0.0273109243697479, 0.0226928895612708, 0.023655913978494623, 0.02586206896551724, 0.0225, 0.014256619144602852, 0.022964509394572025, 0.03404255319148936, 0.028846153846153848, 0.01639344262295082, 0.046511627906976744, 0.02158273381294964, 0.05555555555555555, 0.024096385542168676, 0.125, 0.016129032258064516, 0.0425531914893617, 0.2, 0.2857142857142857, 0.06666666666666667]\n",
            "srch_adults_count\n",
            "9\n",
            "9\n",
            "[1, 2, 3, 4, 5, 6, 7, 8, 9]\n",
            "[0.03092324805339266, 0.026783297655077386, 0.02769715565138071, 0.027706516162134428, 0.027210884353741496, 0.03125, 0.02512562814070352, 0.03667953667953668, 0.023255813953488372]\n",
            "srch_children_count\n",
            "7\n",
            "7\n",
            "[0, 1, 2, 3, 4, 5, 6]\n",
            "[0.027347585114806016, 0.031386665873322825, 0.026606037151702785, 0.029135642602784072, 0.03254769921436588, 0.035211267605633804, 0.029850746268656716]\n",
            "srch_room_count\n",
            "8\n",
            "8\n",
            "[1, 2, 3, 4, 5, 6, 7, 8]\n",
            "[0.027306159300609985, 0.0345514950166113, 0.032723239046034386, 0.026194144838212634, 0.030973451327433628, 0.015625, 0.06060606060606061, 0.08571428571428572]\n",
            "srch_saturday_night_bool\n",
            "2\n",
            "2\n",
            "[0, 1]\n",
            "[0.027028788347806254, 0.028675066514329543]\n",
            "srch_query_affinity_score\n",
            "124\n",
            "124\n",
            "[-143.0, -141.0, -139.0, -138.0, -137.0, -136.0, -135.0, -134.0, -133.0, -132.0, -131.0, -129.0, -127.0, -126.0, -124.0, -123.0, -122.0, -121.0, -120.0, -119.0, -117.0, -116.0, -115.0, -114.0, -113.0, -110.0, -108.0, -107.0, -100.0, -99.0, -98.0, -97.0, -96.0, -95.0, -94.0, -93.0, -92.0, -91.0, -90.0, -88.0, -87.0, -86.0, -85.0, -84.0, -83.0, -82.0, -81.0, -80.0, -79.0, -78.0, -77.0, -76.0, -75.0, -74.0, -73.0, -72.0, -71.0, -70.0, -69.0, -68.0, -67.0, -66.0, -65.0, -64.0, -63.0, -62.0, -61.0, -60.0, -59.0, -58.0, -57.0, -56.0, -55.0, -54.0, -53.0, -52.0, -51.0, -50.0, -49.0, -48.0, -47.0, -46.0, -45.0, -44.0, -43.0, -42.0, -41.0, -40.0, -39.0, -38.0, -37.0, -36.0, -35.0, -34.0, -33.0, -32.0, -31.0, -30.0, -29.0, -28.0, -27.0, -26.0, -25.0, -24.0, -23.0, -22.0, -21.0, -20.0, -19.0, -18.0, -17.0, -16.0, -15.0, -14.0, -13.0, -12.0, -11.0, -10.0, -9.0, -8.0, -7.0, -6.0, -5.0, -4.0]\n",
            "[0.5, 0.3333333333333333, 0.5, 0.3333333333333333, 0.5, 0.5, 0.3333333333333333, 0.5, 0.3333333333333333, 0.5, 0.5, 0.25, 0.3333333333333333, 0.3333333333333333, 0.25, 0.16666666666666666, 0.2, 0.3333333333333333, 0.5, 0.5, 0.5, 0.5, 0.3333333333333333, 0.5, 0.5, 0.3333333333333333, 0.5, 1.0, 0.5, 0.5, 0.3333333333333333, 0.6666666666666666, 0.3333333333333333, 0.25, 0.2, 0.25, 0.25, 0.6, 0.5, 0.6666666666666666, 0.3333333333333333, 0.5, 0.4, 0.25, 0.2222222222222222, 0.05555555555555555, 0.05555555555555555, 0.041666666666666664, 0.09090909090909091, 0.1, 0.1, 0.2857142857142857, 0.09090909090909091, 0.05263157894736842, 0.2, 0.05, 0.05555555555555555, 0.10526315789473684, 0.05555555555555555, 0.15384615384615385, 0.08333333333333333, 0.05263157894736842, 0.14285714285714285, 0.1111111111111111, 0.038461538461538464, 0.027777777777777776, 0.038461538461538464, 0.030303030303030304, 0.022222222222222223, 0.047619047619047616, 0.028169014084507043, 0.058823529411764705, 0.06666666666666667, 0.03571428571428571, 0.039473684210526314, 0.029850746268656716, 0.046153846153846156, 0.025974025974025976, 0.05128205128205128, 0.03529411764705882, 0.012658227848101266, 0.0410958904109589, 0.03333333333333333, 0.02608695652173913, 0.056818181818181816, 0.007042253521126761, 0.025157232704402517, 0.064, 0.043795620437956206, 0.06140350877192982, 0.03723404255319149, 0.02242152466367713, 0.022727272727272728, 0.02531645569620253, 0.025454545454545455, 0.02553191489361702, 0.020833333333333332, 0.017421602787456445, 0.02894736842105263, 0.042483660130718956, 0.024475524475524476, 0.053156146179401995, 0.03579952267303103, 0.042435424354243544, 0.04522613065326633, 0.029013539651837523, 0.03070175438596491, 0.029748283752860413, 0.020785219399538105, 0.04294478527607362, 0.04150943396226415, 0.04419889502762431, 0.0380517503805175, 0.04785276073619632, 0.05042016806722689, 0.03656597774244833, 0.033873343151693665, 0.040968342644320296, 0.04562043795620438, 0.0391644908616188, 0.04700854700854701, 0.03428571428571429, 0.03861003861003861, 0.039603960396039604]\n",
            "orig_destination_distance\n",
            "13\n",
            "13\n",
            "[0.0, 1000.0, 2000.0, 3000.0, 4000.0, 5000.0, 6000.0, 7000.0, 8000.0, 9000.0, 10000.0, 11000.0, 12000.0]\n",
            "[0.028551133351710098, 0.02664319961157978, 0.027860823102856053, 0.026897214217098942, 0.027462411782755446, 0.023117569352708058, 0.02936482604532397, 0.029559748427672956, 0.02749719416386083, 0.02780191138140747, 0.02342225113858165, 0.033766233766233764, 0.045454545454545456]\n",
            "random_bool\n",
            "2\n",
            "2\n",
            "[0, 1]\n",
            "[0.03741150937871402, 0.005301838693930683]\n",
            "comp1_rate\n",
            "3\n",
            "3\n",
            "[-1.0, 0.0, 1.0]\n",
            "[0.024213075060532687, 0.023674242424242424, 0.02642517814726841]\n",
            "comp1_inv\n",
            "3\n",
            "3\n",
            "[-1.0, 0.0, 1.0]\n",
            "[0.02666666666666667, 0.024495917347108816, 0.033962264150943396]\n",
            "comp1_rate_percent_diff\n",
            "33\n",
            "33\n",
            "[0.0, 100.0, 200.0, 400.0, 1200.0, 1300.0, 1400.0, 1600.0, 1700.0, 2000.0, 2100.0, 2500.0, 2700.0, 2800.0, 2900.0, 3100.0, 3200.0, 3300.0, 3400.0, 5200.0, 5500.0, 5800.0, 5900.0, 6000.0, 6100.0, 6300.0, 6400.0, 6500.0, 6600.0, 7000.0, 7100.0, 7300.0, 10700.0]\n",
            "[0.025476295968099246, 0.05970149253731343, 0.5, 0.5, 0.5, 0.5, 0.2, 0.2, 0.09090909090909091, 0.5, 0.25, 0.25, 0.5, 0.3333333333333333, 0.5, 0.5, 0.25, 0.6666666666666666, 0.08333333333333333, 1.0, 0.3333333333333333, 0.5, 0.5, 0.3333333333333333, 0.11428571428571428, 0.5, 0.5, 0.1111111111111111, 0.2, 0.5, 0.5, 0.3333333333333333, 0.5]\n",
            "comp2_rate\n",
            "3\n",
            "3\n",
            "[-1.0, 0.0, 1.0]\n",
            "[0.024602573807721424, 0.027822875484886416, 0.03688980760057243]\n",
            "comp2_inv\n",
            "3\n",
            "3\n",
            "[-1.0, 0.0, 1.0]\n",
            "[0.039647577092511016, 0.028722705467863614, 0.028054118583366493]\n",
            "comp2_rate_percent_diff\n",
            "18\n",
            "18\n",
            "[0.0, 100.0, 200.0, 300.0, 400.0, 500.0, 600.0, 800.0, 900.0, 1000.0, 1200.0, 1300.0, 1600.0, 2600.0, 3600.0, 7100.0, 7700.0, 168900.0]\n",
            "[0.03215165876777251, 0.05188199389623601, 0.060240963855421686, 0.08333333333333333, 0.1, 0.14285714285714285, 0.2, 0.4, 0.25, 0.5, 0.5, 0.3333333333333333, 0.5, 0.5, 0.3333333333333333, 0.5, 0.5, 0.5]\n",
            "comp3_rate\n",
            "3\n",
            "3\n",
            "[-1.0, 0.0, 1.0]\n",
            "[0.02902445579145391, 0.028367158671586717, 0.036811926605504586]\n",
            "comp3_inv\n",
            "3\n",
            "3\n",
            "[-1.0, 0.0, 1.0]\n",
            "[0.03295932678821879, 0.029415275254300228, 0.023592854735422986]\n",
            "comp3_rate_percent_diff\n",
            "21\n",
            "21\n",
            "[0.0, 100.0, 200.0, 300.0, 400.0, 500.0, 600.0, 800.0, 900.0, 1000.0, 1300.0, 2100.0, 2500.0, 2800.0, 17600.0, 31800.0, 47600.0, 76200.0, 107500.0, 119400.0, 143600.0]\n",
            "[0.031247237691151772, 0.04810126582278481, 0.08641975308641975, 0.07692307692307693, 0.16666666666666666, 0.3333333333333333, 0.3333333333333333, 0.3333333333333333, 0.5, 0.3333333333333333, 0.3333333333333333, 0.2, 0.3333333333333333, 0.5, 0.5, 0.5, 0.5, 0.5, 0.5, 0.3333333333333333, 0.5]\n",
            "comp4_rate\n",
            "3\n",
            "3\n",
            "[-1.0, 0.0, 1.0]\n",
            "[0.023039762170196952, 0.029900658994787055, 0.029077117572692796]\n",
            "comp4_inv\n",
            "3\n",
            "3\n",
            "[-1.0, 0.0, 1.0]\n",
            "[0.0380952380952381, 0.028517367211785376, 0.027440633245382585]\n",
            "comp4_rate_percent_diff\n",
            "13\n",
            "13\n",
            "[0.0, 100.0, 200.0, 300.0, 400.0, 500.0, 600.0, 700.0, 800.0, 2900.0, 13100.0, 25800.0, 159200.0]\n",
            "[0.0284651463690765, 0.018433179723502304, 0.2, 0.07692307692307693, 0.16666666666666666, 0.16666666666666666, 0.5, 0.3333333333333333, 0.5, 0.5, 0.5, 0.5, 0.5]\n",
            "comp5_rate\n",
            "3\n",
            "3\n",
            "[-1.0, 0.0, 1.0]\n",
            "[0.024216628751742863, 0.028153208701228234, 0.03497904900710512]\n",
            "comp5_inv\n",
            "3\n",
            "3\n",
            "[-1.0, 0.0, 1.0]\n",
            "[0.032857142857142856, 0.028696986862060774, 0.027834910187851364]\n",
            "comp5_rate_percent_diff\n",
            "21\n",
            "21\n",
            "[0.0, 100.0, 200.0, 300.0, 400.0, 500.0, 600.0, 700.0, 1000.0, 1500.0, 18500.0, 24800.0, 26400.0, 57400.0, 71600.0, 111700.0, 112300.0, 119400.0, 127400.0, 153700.0, 159200.0]\n",
            "[0.03041439614750982, 0.035, 0.011494252873563218, 0.08, 0.125, 0.2, 0.25, 0.5, 0.5, 0.5, 0.5, 0.5, 0.5, 0.5, 0.5, 0.5, 0.5, 0.3333333333333333, 0.5, 0.5, 0.5]\n",
            "comp6_rate\n",
            "3\n",
            "3\n",
            "[-1.0, 0.0, 1.0]\n",
            "[0.027955271565495207, 0.033785363572597614, 0.032081911262798635]\n",
            "comp6_inv\n",
            "3\n",
            "3\n",
            "[-1.0, 0.0, 1.0]\n",
            "[0.034722222222222224, 0.03276455980132981, 0.024752475247524754]\n",
            "comp6_rate_percent_diff\n",
            "9\n",
            "9\n",
            "[0.0, 100.0, 200.0, 300.0, 400.0, 600.0, 800.0, 1000.0, 1100.0]\n",
            "[0.03256003256003256, 0.06060606060606061, 0.1111111111111111, 0.14285714285714285, 0.5, 0.6666666666666666, 0.5, 0.5, 0.5]\n",
            "comp7_rate\n",
            "3\n",
            "3\n",
            "[-1.0, 0.0, 1.0]\n",
            "[0.022968197879858657, 0.032758116408306524, 0.03466286799620133]\n",
            "comp7_inv\n",
            "3\n",
            "3\n",
            "[-1.0, 0.0, 1.0]\n",
            "[0.04017857142857143, 0.031743108000245594, 0.025043680838672103]\n",
            "comp7_rate_percent_diff\n",
            "12\n",
            "12\n",
            "[0.0, 100.0, 200.0, 300.0, 400.0, 500.0, 600.0, 700.0, 800.0, 900.0, 1300.0, 1500.0]\n",
            "[0.0314339026840821, 0.06792452830188679, 0.038461538461538464, 0.25, 0.14285714285714285, 0.2, 0.25, 0.14285714285714285, 0.3333333333333333, 0.6666666666666666, 0.5, 0.5]\n",
            "comp8_rate\n",
            "3\n",
            "3\n",
            "[-1.0, 0.0, 1.0]\n",
            "[0.0232454179704962, 0.028517935637922615, 0.042210673089111424]\n",
            "comp8_inv\n",
            "3\n",
            "3\n",
            "[-1.0, 0.0, 1.0]\n",
            "[0.027912621359223302, 0.028859585996698134, 0.03209393346379648]\n",
            "comp8_rate_percent_diff\n",
            "14\n",
            "14\n",
            "[0.0, 100.0, 200.0, 300.0, 400.0, 500.0, 600.0, 900.0, 1400.0, 2800.0, 4500.0, 55400.0, 127400.0, 144900.0]\n",
            "[0.030075441196281825, 0.058823529411764705, 0.1, 0.08333333333333333, 0.14285714285714285, 0.3333333333333333, 0.25, 0.3333333333333333, 0.5, 0.5, 0.5, 0.5, 0.5, 0.5]\n",
            "month\n",
            "8\n",
            "8\n",
            "[1, 2, 3, 4, 5, 6, 11, 12]\n",
            "[0.025890074918782736, 0.027726495726495725, 0.027288550609198454, 0.02824097291875627, 0.02886036336240619, 0.02811769184750095, 0.028810085463475, 0.02816460647785949]\n",
            "Running time: 333.78064036369324 seconds.\n"
          ],
          "name": "stdout"
        }
      ]
    },
    {
      "cell_type": "code",
      "metadata": {
        "id": "fULtjzvPfyYR",
        "colab_type": "code",
        "colab": {}
      },
      "source": [
        "#cols = []\n",
        "\n",
        "#for col in test.columns:\n",
        "#    print(col)\n",
        "#    print(len(test[col].unique()))\n",
        "#    cols.append(len(test[col].unique()))\n",
        "\n",
        "#print('Mean amount of buckets:', np.average(cols))"
      ],
      "execution_count": 0,
      "outputs": []
    },
    {
      "cell_type": "code",
      "metadata": {
        "id": "jYE5-lc86HyE",
        "colab_type": "code",
        "colab": {}
      },
      "source": [
        "#print(len(test.columns))\n",
        "#less_nan =['site_id', 'visitor_location_country_id',\n",
        "#        'prop_country_id', 'prop_starrating', 'prop_review_score', 'prop_brand_bool',\n",
        "#       'prop_location_score1', 'prop_location_score2',\n",
        "#       'prop_log_historical_price', 'price_usd', 'promotion_flag', 'srch_length_of_stay', 'srch_booking_window',\n",
        "#       'srch_adults_count', 'srch_children_count', 'srch_room_count',\n",
        "#       'srch_saturday_night_bool', \n",
        "# 'random_bool', 'month']\n",
        "#print(len(less_nan))\n",
        "#test = test[less_nan]\n"
      ],
      "execution_count": 0,
      "outputs": []
    },
    {
      "cell_type": "code",
      "metadata": {
        "id": "o-O7-PX2ftct",
        "colab_type": "code",
        "colab": {}
      },
      "source": [
        "\n",
        "#test = test.drop([['srch_query_affinity_score', 'comp1_rate_percent_diff', 'comp2_rate_percent_diff', 'comp3_rate_percent_diff', 'comp4_rate_percent_diff', 'comp5_rate_percent_diff', 'comp6_rate_percent_diff', 'comp7_rate_percent_diff', 'comp8_rate_percent_diff']], axis=1)\n",
        "test['prob'] = test.prod(axis = 1)"
      ],
      "execution_count": 0,
      "outputs": []
    },
    {
      "cell_type": "code",
      "metadata": {
        "id": "cKr1maD9Cm-9",
        "colab_type": "code",
        "colab": {}
      },
      "source": [
        "submission = test.sort_values('prob')\n",
        "#submission['prob'] = submission['prob'] * 900000000000000000\n",
        "submission[['srch_id', 'prop_id']] = test_columns[['srch_id', 'prop_id']]\n",
        "submission = submission[['srch_id', 'prop_id', 'prob']]"
      ],
      "execution_count": 0,
      "outputs": []
    },
    {
      "cell_type": "code",
      "metadata": {
        "id": "KosUqZcCCqW-",
        "colab_type": "code",
        "colab": {
          "base_uri": "https://localhost:8080/",
          "height": 221
        },
        "outputId": "d5938c31-dcd0-463e-e54b-999ac80e7e38"
      },
      "source": [
        "submission_byprob = submission\n",
        "#submission_bysrchid = submission.sort_values('srch_id')\n",
        "#submission_bysrchid = submission_bysrchid.sort_values('prob', ascending = False)\n",
        "#submission_bysrchid = submission_bysrchid.sort_values('srch_id', ascending = True)\n",
        "submission_bysrchid = submission.sort_values(['srch_id','prob'],ascending=[True,False])\n",
        "#print(submission_byprob.head())\n",
        "#print(submission_bysrchid.head())\n",
        "submission_byprob = submission_byprob[['srch_id', 'prop_id']]\n",
        "submission_bysrchid= submission_bysrchid[['srch_id', 'prop_id']]\n",
        "print(submission_byprob.head())\n",
        "print(submission_bysrchid.head())\n",
        "from google.colab import files\n",
        "#results.to_csv(r'RFtrees2.csv', sep=',', encoding='utf-8', index = True)\n",
        "#results2.to_csv(r'RFtreeshead2.csv', sep=',', encoding='utf-8', index = True)\n",
        "#files.download('RFtrees2.csv')\n",
        "#files.download('RFtreeshead2.csv')"
      ],
      "execution_count": 28,
      "outputs": [
        {
          "output_type": "stream",
          "text": [
            "         srch_id  prop_id\n",
            "4486043   301158    32887\n",
            "4260920   286060    86639\n",
            "4958176   332721   131357\n",
            "1185517    79644     7523\n",
            "4685202   314594    12857\n",
            "    srch_id  prop_id\n",
            "9         1    54937\n",
            "12        1    61934\n",
            "5         1    28181\n",
            "16        1    74045\n",
            "10        1    56050\n"
          ],
          "name": "stdout"
        }
      ]
    },
    {
      "cell_type": "code",
      "metadata": {
        "id": "aMPVJYPdJ2Dw",
        "colab_type": "code",
        "colab": {
          "base_uri": "https://localhost:8080/",
          "height": 867
        },
        "outputId": "ff660d75-98c8-452c-a269-bc8faa7af1ff"
      },
      "source": [
        "from google.colab import files\n",
        "submission_bysrchid.to_csv(r'NBsrch_id_end2.csv', sep=',', encoding='utf-8', index = False)\n",
        "submission_byprob.to_csv(r'NBprob_end2.csv', sep=',', encoding='utf-8', index = False)\n",
        "files.download('NBsrch_id_end2.csv')\n",
        "files.download('NBprob_end2.csv')"
      ],
      "execution_count": 30,
      "outputs": [
        {
          "output_type": "stream",
          "text": [
            "----------------------------------------\n",
            "Exception happened during processing of request from ('::ffff:127.0.0.1', 53486, 0, 0)\n",
            "Traceback (most recent call last):\n",
            "  File \"/usr/lib/python3.6/socketserver.py\", line 320, in _handle_request_noblock\n",
            "    self.process_request(request, client_address)\n",
            "  File \"/usr/lib/python3.6/socketserver.py\", line 351, in process_request\n",
            "    self.finish_request(request, client_address)\n",
            "  File \"/usr/lib/python3.6/socketserver.py\", line 364, in finish_request\n",
            "    self.RequestHandlerClass(request, client_address, self)\n",
            "  File \"/usr/lib/python3.6/socketserver.py\", line 724, in __init__\n",
            "    self.handle()\n",
            "  File \"/usr/lib/python3.6/http/server.py\", line 418, in handle\n",
            "    self.handle_one_request()\n",
            "  File \"/usr/lib/python3.6/http/server.py\", line 406, in handle_one_request\n",
            "    method()\n",
            "  File \"/usr/lib/python3.6/http/server.py\", line 639, in do_GET\n",
            "    self.copyfile(f, self.wfile)\n",
            "  File \"/usr/lib/python3.6/http/server.py\", line 800, in copyfile\n",
            "    shutil.copyfileobj(source, outputfile)\n",
            "  File \"/usr/lib/python3.6/shutil.py\", line 82, in copyfileobj\n",
            "    fdst.write(buf)\n",
            "  File \"/usr/lib/python3.6/socketserver.py\", line 803, in write\n",
            "    self._sock.sendall(b)\n",
            "ConnectionResetError: [Errno 104] Connection reset by peer\n",
            "----------------------------------------\n",
            "----------------------------------------\n",
            "Exception happened during processing of request from ('::ffff:127.0.0.1', 39132, 0, 0)\n",
            "Traceback (most recent call last):\n",
            "  File \"/usr/lib/python3.6/socketserver.py\", line 320, in _handle_request_noblock\n",
            "    self.process_request(request, client_address)\n",
            "  File \"/usr/lib/python3.6/socketserver.py\", line 351, in process_request\n",
            "    self.finish_request(request, client_address)\n",
            "  File \"/usr/lib/python3.6/socketserver.py\", line 364, in finish_request\n",
            "    self.RequestHandlerClass(request, client_address, self)\n",
            "  File \"/usr/lib/python3.6/socketserver.py\", line 724, in __init__\n",
            "    self.handle()\n",
            "  File \"/usr/lib/python3.6/http/server.py\", line 418, in handle\n",
            "    self.handle_one_request()\n",
            "  File \"/usr/lib/python3.6/http/server.py\", line 406, in handle_one_request\n",
            "    method()\n",
            "  File \"/usr/lib/python3.6/http/server.py\", line 639, in do_GET\n",
            "    self.copyfile(f, self.wfile)\n",
            "  File \"/usr/lib/python3.6/http/server.py\", line 800, in copyfile\n",
            "    shutil.copyfileobj(source, outputfile)\n",
            "  File \"/usr/lib/python3.6/shutil.py\", line 82, in copyfileobj\n",
            "    fdst.write(buf)\n",
            "  File \"/usr/lib/python3.6/socketserver.py\", line 803, in write\n",
            "    self._sock.sendall(b)\n",
            "ConnectionResetError: [Errno 104] Connection reset by peer\n",
            "----------------------------------------\n"
          ],
          "name": "stderr"
        }
      ]
    },
    {
      "cell_type": "code",
      "metadata": {
        "id": "WFQL6TQFi-Wy",
        "colab_type": "code",
        "colab": {}
      },
      "source": [
        "def evaluation(ranking, test_column):\n",
        "\n",
        "  val = ranking\n",
        "  val[['srch_id', 'prop_id', 'click_bool', 'booking_bool']] = test_columns[['srch_id', 'prop_id', 'click_bool', 'booking_bool']]\n",
        "  val = val[['srch_id', 'prop_id', 'click_bool', 'booking_bool', 'prob']]\n",
        "  val['rank'] = val['click_bool'] + (val['booking_bool'] * 4)\n",
        "\n",
        "  val_check = test_columns[['srch_id', 'prop_id', 'click_bool', 'booking_bool']]\n",
        "  val_check['rank'] = val['rank']\n",
        "\n",
        "  val = val.sort_values('prob', ascending = False)\n",
        "  val_check = val.sort_values('rank', ascending = False)\n",
        "\n",
        "  import statistics as s\n",
        "  #print(s.mean(accuracies))\n",
        "\n",
        "  val_gold = val_check[['srch_id', 'rank']]\n",
        "  val_pred = val[['srch_id', 'rank']]\n",
        "\n",
        "  import numpy as np\n",
        "\n",
        "  def dcgm38(sequence):\n",
        "      score = 0\n",
        "      i = 1\n",
        "      for _, s in sequence.iterrows():\n",
        "          score += (2**s['rank']-1)/np.log2(i+1)\n",
        "          i += 1\n",
        "      return score\n",
        "\n",
        "  # with sorting\n",
        "  srch_ids = np.unique(val_gold['srch_id'])\n",
        "  dcgm_max = np.empty(len(srch_ids))\n",
        "  for i, s in enumerate(srch_ids):\n",
        "      dcgm_max[i] = dcgm38(val_gold.loc[val_gold['srch_id']==s])\n",
        "\n",
        "  srch_ids = np.unique(val_pred['srch_id'])\n",
        "  dcgm_pred = np.empty(len(srch_ids))\n",
        "  for i, s in enumerate(srch_ids):\n",
        "      dcgm_pred[i] = dcgm38(val_pred.loc[val_pred['srch_id']==s])\n",
        "\n",
        "  #print(dcgm_max)\n",
        "  #print(dcgm_max)\n",
        "\n",
        "  maximum = np.average(dcgm_max)\n",
        "  prediction_score = np.average(dcgm_pred)\n",
        "  print(maximum, prediction_score)\n",
        "  grouped = np.mean(np.divide(prediction_score, maximum))\n",
        "  #print('mean NDCG (grouped by \"srch_id\"):', np.mean(np.divide(prediction_score, maximum)))\n",
        "\n",
        "  #without sorting\n",
        "  dcgm_max = dcgm38(val_gold)\n",
        "  #print(val_gold)\n",
        "  #print(dcgm_max)\n",
        "\n",
        "  #rch_ids = np.unique(val_pred['srch_id'])\n",
        "  #cgm_pred = np.empty(len(srch_ids))\n",
        "  #or i, s in enumerate(srch_ids):\n",
        "  dcgm_pred = dcgm38(val_pred)\n",
        "\n",
        "  #print(dcgm_max)\n",
        "  #print(dcgm_max)\n",
        "\n",
        "  #maximum = np.average(dcgm_max)\n",
        "  #prediction_score = np.average(dcgm_pred)\n",
        "  maximum = np.average(dcgm_max)\n",
        "  prediction_score = np.average(dcgm_pred)\n",
        "  print(maximum, prediction_score)\n",
        "  not_grouped = np.mean(np.divide(prediction_score, maximum))\n",
        "  #print('mean NDCG (only sorted by \"prob\"):', np.mean(np.divide(prediction_score, maximum)))\n",
        "  return grouped, not_grouped"
      ],
      "execution_count": 0,
      "outputs": []
    },
    {
      "cell_type": "code",
      "metadata": {
        "id": "sW31CPz9X9hg",
        "colab_type": "code",
        "colab": {}
      },
      "source": [
        "submission = test_columns[['srch_id', 'prop_id']]\n",
        "submission['prob'] = test['prob']\n",
        "submission = submission.sort_values('prob', ascending = False)\n",
        "#submission = submission.sort_values('srch_id', ascending = True)\n",
        "submission = submission.drop('prob', axis=1)\n",
        "#print(submission[1520316])\n",
        "from google.colab import files\n",
        "#submission.to_csv(r'submissionNBnallnr2.csv', sep=',', encoding='utf-8', index = False)\n",
        "#files.download('submissionNBnallnr2.csv')\n",
        "\n"
      ],
      "execution_count": 0,
      "outputs": []
    },
    {
      "cell_type": "code",
      "metadata": {
        "id": "ndQmdBr2ogK9",
        "colab_type": "code",
        "colab": {}
      },
      "source": [
        "#print(submission[1520316])"
      ],
      "execution_count": 0,
      "outputs": []
    },
    {
      "cell_type": "code",
      "metadata": {
        "id": "aotqD3UDbCYz",
        "colab_type": "code",
        "colab": {}
      },
      "source": [
        "submission.head()"
      ],
      "execution_count": 0,
      "outputs": []
    },
    {
      "cell_type": "code",
      "metadata": {
        "id": "eQOrZmNigKZ5",
        "colab_type": "code",
        "colab": {}
      },
      "source": [
        "val = test\n",
        "val[['srch_id', 'prop_id', 'click_bool', 'booking_bool']] = test_columns[['srch_id', 'prop_id', 'click_bool', 'booking_bool']]\n",
        "val = val[['srch_id', 'prop_id', 'click_bool', 'booking_bool', 'prob']]\n",
        "val['rank'] = val['click_bool'] + (val['booking_bool'] * 4)\n",
        "\n",
        "val_check = test_columns[['srch_id', 'prop_id', 'click_bool', 'booking_bool']]\n",
        "val_check['rank'] = val['rank']\n",
        "\n",
        "val = val.sort_values('prob', ascending = False)\n",
        "val_check = val.sort_values('rank', ascending = False)"
      ],
      "execution_count": 0,
      "outputs": []
    },
    {
      "cell_type": "code",
      "metadata": {
        "id": "zutwSoUUX0V_",
        "colab_type": "code",
        "colab": {}
      },
      "source": [
        "import statistics as s\n",
        "#print(s.mean(accuracies))\n",
        "print('When depth is', D,':')\n",
        "print('Amount of bins from DT:', 2**D)\n",
        "print('Mean amount of buckets:', np.average(cols))\n",
        "print('Running time:', end_time - start_time, 'seconds.')\n",
        "\n",
        "val_gold = val_check[['srch_id', 'rank']]\n",
        "val_pred = val[['srch_id', 'rank']]\n",
        "\n",
        "import numpy as np\n",
        "\n",
        "def dcgm38(sequence):\n",
        "      score = 0\n",
        "      i = 1\n",
        "      for _, s in sequence.iterrows():\n",
        "          score += (2**s['rank']-1)/np.log2(i+1)\n",
        "          i += 1\n",
        "      return score\n",
        "\n",
        "# with sorting\n",
        "srch_ids = np.unique(val_gold['srch_id'])\n",
        "dcgm_max = np.empty(len(srch_ids))\n",
        "for i, s in enumerate(srch_ids):\n",
        "    dcgm_max[i] = dcgm38(val_gold.loc[val_gold['srch_id']==s])\n",
        "\n",
        "srch_ids = np.unique(val_pred['srch_id'])\n",
        "dcgm_pred = np.empty(len(srch_ids))\n",
        "for i, s in enumerate(srch_ids):\n",
        "    dcgm_pred[i] = dcgm38(val_pred.loc[val_pred['srch_id']==s])\n",
        "\n",
        "#print(dcgm_max)\n",
        "#print(dcgm_max)\n",
        "\n",
        "maximum = np.average(dcgm_max)\n",
        "prediction_score = np.average(dcgm_pred)\n",
        "#print(maximum, prediction_score)\n",
        "grouped = np.mean(np.divide(prediction_score, maximum))\n",
        "print('mean NDCG (grouped by \"srch_id\"):', grouped)\n",
        "\n",
        "#without sorting\n",
        "dcgm_max = dcgm38(val_gold)\n",
        "#print(val_gold)\n",
        "#print(dcgm_max)\n",
        "\n",
        "#rch_ids = np.unique(val_pred['srch_id'])\n",
        "#cgm_pred = np.empty(len(srch_ids))\n",
        "#or i, s in enumerate(srch_ids):\n",
        "dcgm_pred = dcgm38(val_pred)\n",
        "\n",
        "#print(dcgm_max)\n",
        "#print(dcgm_max)\n",
        "\n",
        "#maximum = np.average(dcgm_max)\n",
        "#prediction_score = np.average(dcgm_pred)\n",
        "maximum = np.average(dcgm_max)\n",
        "prediction_score = np.average(dcgm_pred)\n",
        "#print(maximum, prediction_score)\n",
        "not_grouped = np.mean(np.divide(prediction_score, maximum))\n",
        "print('mean NDCG (only sorted by \"prob\"):', not_grouped)"
      ],
      "execution_count": 0,
      "outputs": []
    },
    {
      "cell_type": "code",
      "metadata": {
        "id": "IMLgaLisRr6K",
        "colab_type": "code",
        "colab": {}
      },
      "source": [
        "#from google.colab import files\n",
        "#val_pred.to_csv(r'val_predNB.csv', sep=',', encoding='utf-8', index = True)\n",
        "#val_gold.to_csv(r'val_goldNB.csv', sep=',', encoding='utf-8', index = True)"
      ],
      "execution_count": 0,
      "outputs": []
    },
    {
      "cell_type": "code",
      "metadata": {
        "id": "FeT68JJGR78w",
        "colab_type": "code",
        "colab": {}
      },
      "source": [
        "#files.download('val_predNB.csv')\n",
        "#files.download('val_goldNB.csv')"
      ],
      "execution_count": 0,
      "outputs": []
    }
  ]
}