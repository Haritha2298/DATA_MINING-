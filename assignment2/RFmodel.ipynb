{
  "nbformat": 4,
  "nbformat_minor": 0,
  "metadata": {
    "kernelspec": {
      "display_name": "Python 3",
      "language": "python",
      "name": "python3"
    },
    "language_info": {
      "codemirror_mode": {
        "name": "ipython",
        "version": 3
      },
      "file_extension": ".py",
      "mimetype": "text/x-python",
      "name": "python",
      "nbconvert_exporter": "python",
      "pygments_lexer": "ipython3",
      "version": "3.7.4"
    },
    "colab": {
      "name": "HotelSteps.ipynb",
      "provenance": [],
      "collapsed_sections": []
    }
  },
  "cells": [
    {
      "cell_type": "code",
      "metadata": {
        "id": "CreklR2NLz2L",
        "colab_type": "code",
        "outputId": "f17f0e62-8dae-41bd-c9c6-7499b1e9334b",
        "colab": {
          "base_uri": "https://localhost:8080/",
          "height": 34
        }
      },
      "source": [
        "from google.colab import drive \n",
        "drive.mount('/content/gdrive')"
      ],
      "execution_count": 1,
      "outputs": [
        {
          "output_type": "stream",
          "text": [
            "Drive already mounted at /content/gdrive; to attempt to forcibly remount, call drive.mount(\"/content/gdrive\", force_remount=True).\n"
          ],
          "name": "stdout"
        }
      ]
    },
    {
      "cell_type": "code",
      "metadata": {
        "id": "P1DVSaPnLz2Q",
        "colab_type": "code",
        "colab": {
          "base_uri": "https://localhost:8080/",
          "height": 51
        },
        "outputId": "8de861fb-292a-47b8-b59f-672d1c4d3f5d"
      },
      "source": [
        "import pandas as pd \n",
        "#train = pd.read_csv('gdrive/My Drive/train_sample.csv')\n",
        "#test = pd.read_csv('gdrive/My Drive/test_sample.csv')\n",
        "#train = pd.read_csv('gdrive/My Drive/training_1perc_ranked_balanced_100K.csv')\n",
        "#test = pd.read_csv('gdrive/My Drive/validation_1perc_ranked.csv')\n",
        "train = pd.read_csv('gdrive/My Drive/training_set_VU_DM.csv')\n",
        "test = pd.read_csv('gdrive/My Drive/test_set_VU_DM.csv')\n",
        "print(len(train))\n",
        "print(len(test))\n",
        "#test = train.head(2000)"
      ],
      "execution_count": 2,
      "outputs": [
        {
          "output_type": "stream",
          "text": [
            "4958347\n",
            "4959183\n"
          ],
          "name": "stdout"
        }
      ]
    },
    {
      "cell_type": "code",
      "metadata": {
        "id": "jT9rxpqknh7v",
        "colab_type": "code",
        "colab": {}
      },
      "source": [
        "length = round(4958347 / 20)\n",
        "train = train.head(length)"
      ],
      "execution_count": 0,
      "outputs": []
    },
    {
      "cell_type": "code",
      "metadata": {
        "id": "7Zj_yhpHXtXO",
        "colab_type": "code",
        "colab": {}
      },
      "source": [
        "#n_list = [4,8,32,64,128,256,512,1024,2048,4096]\n",
        "n = 512"
      ],
      "execution_count": 0,
      "outputs": []
    },
    {
      "cell_type": "code",
      "metadata": {
        "id": "1UrUasotLz2U",
        "colab_type": "code",
        "colab": {
          "base_uri": "https://localhost:8080/",
          "height": 646
        },
        "outputId": "cddbcf5d-372a-4575-f4df-9eea75fe646f"
      },
      "source": [
        "print(train.columns)\n",
        "print(test.columns)\n",
        "#train = train.drop('rank_score', axis=1)\n",
        "#test = test.drop('rank_score', axis=1)\n",
        "#top = train.head(8000)\n",
        "#bot = train.tail(8000)\n",
        "#train = pd.concat([top,bot])\n",
        "#top = test.head(2000)\n",
        "#bot = test.tail(2000)\n",
        "#test = pd.concat([top,bot])\n",
        "#print(len(train))\n",
        "#print(len(test))\n",
        "#print(len(test['srch_id'].unique()))"
      ],
      "execution_count": 5,
      "outputs": [
        {
          "output_type": "stream",
          "text": [
            "Index(['srch_id', 'date_time', 'site_id', 'visitor_location_country_id',\n",
            "       'visitor_hist_starrating', 'visitor_hist_adr_usd', 'prop_country_id',\n",
            "       'prop_id', 'prop_starrating', 'prop_review_score', 'prop_brand_bool',\n",
            "       'prop_location_score1', 'prop_location_score2',\n",
            "       'prop_log_historical_price', 'position', 'price_usd', 'promotion_flag',\n",
            "       'srch_destination_id', 'srch_length_of_stay', 'srch_booking_window',\n",
            "       'srch_adults_count', 'srch_children_count', 'srch_room_count',\n",
            "       'srch_saturday_night_bool', 'srch_query_affinity_score',\n",
            "       'orig_destination_distance', 'random_bool', 'comp1_rate', 'comp1_inv',\n",
            "       'comp1_rate_percent_diff', 'comp2_rate', 'comp2_inv',\n",
            "       'comp2_rate_percent_diff', 'comp3_rate', 'comp3_inv',\n",
            "       'comp3_rate_percent_diff', 'comp4_rate', 'comp4_inv',\n",
            "       'comp4_rate_percent_diff', 'comp5_rate', 'comp5_inv',\n",
            "       'comp5_rate_percent_diff', 'comp6_rate', 'comp6_inv',\n",
            "       'comp6_rate_percent_diff', 'comp7_rate', 'comp7_inv',\n",
            "       'comp7_rate_percent_diff', 'comp8_rate', 'comp8_inv',\n",
            "       'comp8_rate_percent_diff', 'click_bool', 'gross_bookings_usd',\n",
            "       'booking_bool'],\n",
            "      dtype='object')\n",
            "Index(['srch_id', 'date_time', 'site_id', 'visitor_location_country_id',\n",
            "       'visitor_hist_starrating', 'visitor_hist_adr_usd', 'prop_country_id',\n",
            "       'prop_id', 'prop_starrating', 'prop_review_score', 'prop_brand_bool',\n",
            "       'prop_location_score1', 'prop_location_score2',\n",
            "       'prop_log_historical_price', 'price_usd', 'promotion_flag',\n",
            "       'srch_destination_id', 'srch_length_of_stay', 'srch_booking_window',\n",
            "       'srch_adults_count', 'srch_children_count', 'srch_room_count',\n",
            "       'srch_saturday_night_bool', 'srch_query_affinity_score',\n",
            "       'orig_destination_distance', 'random_bool', 'comp1_rate', 'comp1_inv',\n",
            "       'comp1_rate_percent_diff', 'comp2_rate', 'comp2_inv',\n",
            "       'comp2_rate_percent_diff', 'comp3_rate', 'comp3_inv',\n",
            "       'comp3_rate_percent_diff', 'comp4_rate', 'comp4_inv',\n",
            "       'comp4_rate_percent_diff', 'comp5_rate', 'comp5_inv',\n",
            "       'comp5_rate_percent_diff', 'comp6_rate', 'comp6_inv',\n",
            "       'comp6_rate_percent_diff', 'comp7_rate', 'comp7_inv',\n",
            "       'comp7_rate_percent_diff', 'comp8_rate', 'comp8_inv',\n",
            "       'comp8_rate_percent_diff'],\n",
            "      dtype='object')\n"
          ],
          "name": "stdout"
        }
      ]
    },
    {
      "cell_type": "code",
      "metadata": {
        "id": "ZdLxKDHtLz2Y",
        "colab_type": "code",
        "colab": {}
      },
      "source": [
        "#train = train.head(16000)\n",
        "#test = test.head(40000)\n",
        "test_columns = test"
      ],
      "execution_count": 0,
      "outputs": []
    },
    {
      "cell_type": "code",
      "metadata": {
        "id": "4HWNotfIMXPs",
        "colab_type": "code",
        "colab": {}
      },
      "source": [
        "train['month'] = pd.DatetimeIndex(train['date_time']).month\n",
        "train = train.drop('date_time', axis=1)\n",
        "test['month'] = pd.DatetimeIndex(test['date_time']).month\n",
        "test= test.drop('date_time', axis=1)"
      ],
      "execution_count": 0,
      "outputs": []
    },
    {
      "cell_type": "code",
      "metadata": {
        "id": "d5HAQYwDLz2c",
        "colab_type": "code",
        "colab": {}
      },
      "source": [
        "def remove_outlier(df_in, col_name):\n",
        "    q1 = df_in[col_name].quantile(0.25)\n",
        "    q3 = df_in[col_name].quantile(0.75)\n",
        "    iqr = q3-q1 #Interquartile range\n",
        "    fence_low  = q1-1.5*iqr\n",
        "    fence_high = q3+1.5*iqr\n",
        "    df_out = df_in.loc[(df_in[col_name] > fence_low) & (df_in[col_name] < fence_high)]\n",
        "    return df_out\n",
        "\n",
        "columns = ['prop_location_score1', 'prop_location_score2', 'prop_log_historical_price', 'price_usd',\n",
        "           'orig_destination_distance', 'srch_booking_window', 'srch_query_affinity_score', 'visitor_hist_starrating', 'visitor_hist_adr_usd',\n",
        "           'comp1_rate_percent_diff', 'comp2_rate_percent_diff','comp3_rate_percent_diff','comp4_rate_percent_diff','comp5_rate_percent_diff',\n",
        "           'comp6_rate_percent_diff','comp7_rate_percent_diff','comp8_rate_percent_diff']\n",
        "\n",
        "for column in columns:\n",
        "  train[column] = remove_outlier(train, column)\n",
        "  test[column] = remove_outlier(test, column)"
      ],
      "execution_count": 0,
      "outputs": []
    },
    {
      "cell_type": "code",
      "metadata": {
        "id": "n8TfEYbkTpSL",
        "colab_type": "code",
        "colab": {}
      },
      "source": [
        "def Vis(column, df):\n",
        "    print('start')\n",
        "    import matplotlib.pyplot as plt\n",
        "    from matplotlib.patches import Patch\n",
        "    # visualise discretization process for sepal lengths\n",
        "    sorted_df = df.sort_values(by=[column])\n",
        "    sorted_df = sorted_df[[column, 'colours']]\n",
        "    sorted_df[column].plot(kind = 'bar', color = sorted_df['colours'], title = column)\n",
        "\n",
        "    legend_elements = [Patch(facecolor='g', edgecolor='black',\n",
        "                             label='booked'), Patch(facecolor='r', edgecolor='black',\n",
        "                             label= 'not booked')]\n",
        "    plt.legend(handles=legend_elements, loc='upper left')\n",
        "    # The x-ticks were unreadible, so were removed. The plot is stil understandable (the instances are sorted in increasing order)\n",
        "    plt.xlabel('Class of instance')\n",
        "    # Set the y axis label of the current axis.\n",
        "    plt.ylabel('Price usd')\n",
        "    # Set a title of the current axes.\n",
        "    #plt.title('Distribution of classes based on a sample of price_usd under 10000 usd')\n",
        "    plt.xticks([], [])\n",
        "\n",
        "visualisation = train.sample(1000)\n",
        "visualisation = visualisation[visualisation['price_usd'] < 10000]\n",
        "visualisation['colours'] = visualisation['booking_bool'].replace([0, 1], ['r', 'g'])\n",
        "\n",
        "#Vis('price_usd', visualisation)"
      ],
      "execution_count": 0,
      "outputs": []
    },
    {
      "cell_type": "code",
      "metadata": {
        "id": "3M4201_LLz2g",
        "colab_type": "code",
        "colab": {}
      },
      "source": [
        "def NaN_percentage(df):\n",
        "\n",
        "    # look for percentage of NaN values\n",
        "    percent_missing = df.isnull().sum() * 100 / len(df)\n",
        "    missing_value_df = pd.DataFrame({'column_name': df.columns,\n",
        "                                     'percent_missing': percent_missing})\n",
        "    missing_value_df = missing_value_df.reset_index(drop=True)\n",
        "    print(missing_value_df)\n",
        "\n",
        "#NaN_percentage(train)"
      ],
      "execution_count": 0,
      "outputs": []
    },
    {
      "cell_type": "code",
      "metadata": {
        "id": "d9fy_mGFLz2k",
        "colab_type": "code",
        "colab": {}
      },
      "source": [
        "#test = test.drop(['srch_id', 'prop_id', 'srch_destination_id', 'gross_bookings_usd', 'position', 'click_bool', 'booking_bool'], axis = 1)\n",
        "#print(test.columns)\n",
        "test = test.drop(['srch_id', 'prop_id', 'srch_destination_id'], axis = 1)"
      ],
      "execution_count": 0,
      "outputs": []
    },
    {
      "cell_type": "code",
      "metadata": {
        "id": "wAp50ApFLz2p",
        "colab_type": "code",
        "colab": {}
      },
      "source": [
        ""
      ],
      "execution_count": 0,
      "outputs": []
    },
    {
      "cell_type": "code",
      "metadata": {
        "id": "DIFJ6OGwLz2v",
        "colab_type": "code",
        "colab": {}
      },
      "source": [
        ""
      ],
      "execution_count": 0,
      "outputs": []
    },
    {
      "cell_type": "markdown",
      "metadata": {
        "id": "UDCV0AkrLz2z",
        "colab_type": "text"
      },
      "source": [
        "Replacing NaN values"
      ]
    },
    {
      "cell_type": "code",
      "metadata": {
        "id": "ViRjXYxILz20",
        "colab_type": "code",
        "colab": {}
      },
      "source": [
        "def NaN_for_median(df, df_test):\n",
        "    # replace NaN values\n",
        "    df = df.fillna(df.median())\n",
        "    df_test = df_test.fillna(df.median())\n",
        "    return df, df_test\n",
        "\n",
        "def NaN_for_mean(df, df_test):\n",
        "    # replace NaN values\n",
        "    df = df.fillna(df.mean())\n",
        "    df_test = df_test.fillna(df.mean())\n",
        "    return df, df_test\n",
        "\n",
        "train, test = NaN_for_median(train, test)\n",
        "#train, test= NaN_for_mean(train, test)"
      ],
      "execution_count": 0,
      "outputs": []
    },
    {
      "cell_type": "code",
      "metadata": {
        "id": "5z60ytR1Lz23",
        "colab_type": "code",
        "colab": {}
      },
      "source": [
        ""
      ],
      "execution_count": 0,
      "outputs": []
    },
    {
      "cell_type": "code",
      "metadata": {
        "id": "0RrSW8HPLz28",
        "colab_type": "code",
        "colab": {}
      },
      "source": [
        ""
      ],
      "execution_count": 0,
      "outputs": []
    },
    {
      "cell_type": "code",
      "metadata": {
        "id": "-aJ0r3pKLz3C",
        "colab_type": "code",
        "colab": {}
      },
      "source": [
        ""
      ],
      "execution_count": 0,
      "outputs": []
    },
    {
      "cell_type": "markdown",
      "metadata": {
        "id": "74N6oMpnLz3F",
        "colab_type": "text"
      },
      "source": [
        "Outlier removal"
      ]
    },
    {
      "cell_type": "code",
      "metadata": {
        "id": "-mWXAPKrLz3F",
        "colab_type": "code",
        "colab": {}
      },
      "source": [
        ""
      ],
      "execution_count": 0,
      "outputs": []
    },
    {
      "cell_type": "code",
      "metadata": {
        "id": "zREiAtrgLz3J",
        "colab_type": "code",
        "colab": {}
      },
      "source": [
        ""
      ],
      "execution_count": 0,
      "outputs": []
    },
    {
      "cell_type": "markdown",
      "metadata": {
        "id": "IC0WDe8ALz3M",
        "colab_type": "text"
      },
      "source": [
        "Discretization"
      ]
    },
    {
      "cell_type": "code",
      "metadata": {
        "id": "qGi7z41RLz3O",
        "colab_type": "code",
        "colab": {}
      },
      "source": [
        ""
      ],
      "execution_count": 0,
      "outputs": []
    },
    {
      "cell_type": "code",
      "metadata": {
        "id": "Ewiu_gNtLz3T",
        "colab_type": "code",
        "colab": {}
      },
      "source": [
        ""
      ],
      "execution_count": 0,
      "outputs": []
    },
    {
      "cell_type": "code",
      "metadata": {
        "id": "LyPL_MGkLz3Y",
        "colab_type": "code",
        "colab": {}
      },
      "source": [
        ""
      ],
      "execution_count": 0,
      "outputs": []
    },
    {
      "cell_type": "markdown",
      "metadata": {
        "id": "mkbr-cL0Lz3b",
        "colab_type": "text"
      },
      "source": [
        "Calculate Gini"
      ]
    },
    {
      "cell_type": "code",
      "metadata": {
        "id": "wQLmip7YLz3b",
        "colab_type": "code",
        "colab": {}
      },
      "source": [
        "# calculate Gini \n",
        "def Gini(column, df):\n",
        "\n",
        "    df_column = df.groupby([column, 'booking_bool']).size().reset_index(name ='Total_Amount')\n",
        "    #print(df_column)\n",
        "    categories = list(df_column[column].unique())\n",
        "    #print(df_column)\n",
        "    \n",
        "    Gini_leafs = []\n",
        "    sizes = []\n",
        "\n",
        "    for i in range(len(categories)):\n",
        "        #print('yes', column, categories[i])\n",
        "        #print(df_column[(df_column[column] == categories[i]) & (df_column['booking_bool'] == 1)].Total_Amount)\n",
        "        #print('no', column, categories[i])\n",
        "        #print(df_column[(df_column[column] == categories[i]) & (df_column['booking_bool'] == 0)].Total_Amount)\n",
        "        try:\n",
        "            yes = int(df_column[(df_column[column] == categories[i]) & (df_column['booking_bool'] == 1)].Total_Amount)\n",
        "        except:\n",
        "            yes = 0\n",
        "        try:\n",
        "            no = int(df_column[(df_column[column] == categories[i]) & (df_column['booking_bool'] == 0)].Total_Amount)\n",
        "        except:\n",
        "            no = 0\n",
        "        #print(yes, column, categories[i])\n",
        "        #print(no, column, categories[i])\n",
        "        prob_yes = yes / (yes + no)\n",
        "        prob_no = no / (yes + no)\n",
        "        Gini = 1 - (prob_yes)**2 - (prob_no)**2\n",
        "        Gini_leafs.append(Gini)\n",
        "        sizes.append(yes+no)\n",
        "\n",
        "    Gini = 0\n",
        "    for i in range(len(Gini_leafs)):\n",
        "        new_score = (sizes[i] / sum(sizes)) * Gini_leafs[i]\n",
        "        #print('new_score', new_score)\n",
        "        Gini += new_score\n",
        "        #print('Gini', Gini)\n",
        "\n",
        "    return Gini\n"
      ],
      "execution_count": 0,
      "outputs": []
    },
    {
      "cell_type": "code",
      "metadata": {
        "id": "9TyjKUKrLz3f",
        "colab_type": "code",
        "colab": {}
      },
      "source": [
        "def calc_Gini(df):\n",
        "\n",
        "    Gini_list = []\n",
        "\n",
        "    for column in df.loc[:, df.columns != 'booking_bool'].columns:\n",
        "        number = Gini(column, df)\n",
        "        #print(column)\n",
        "        #print(number)\n",
        "        Gini_list.append(number)\n",
        "    \n",
        "    return Gini_list"
      ],
      "execution_count": 0,
      "outputs": []
    },
    {
      "cell_type": "markdown",
      "metadata": {
        "id": "KIjUtBPOLz3h",
        "colab_type": "text"
      },
      "source": [
        "Calculate feature importance"
      ]
    },
    {
      "cell_type": "code",
      "metadata": {
        "id": "meg5GOvQLz3i",
        "colab_type": "code",
        "colab": {}
      },
      "source": [
        "def feature_importance(df):\n",
        "    FI_list = []\n",
        "\n",
        "    from sklearn.datasets import make_classification\n",
        "    from sklearn.ensemble import RandomForestClassifier\n",
        "    from matplotlib import pyplot\n",
        "    # define dataset\n",
        "    X, y = df.loc[:, df.columns != 'booking_bool'], df['booking_bool']\n",
        "    # define the model\n",
        "    model = RandomForestClassifier()\n",
        "    # fit the model\n",
        "    model.fit(X, y)\n",
        "    # get importance\n",
        "    importance = model.feature_importances_\n",
        "    # summarize feature importance\n",
        "    for i,v in enumerate(importance):\n",
        "        FI_list.append(v)\n",
        "        #print(f'Feature %0d ({df.columns[i]}), Score: %.5f' % (i,v))\n",
        "    # plot feature importance\n",
        "    #pyplot.bar([x for x in range(len(importance))], importance)\n",
        "    #pyplot.show()\n",
        "    return FI_list"
      ],
      "execution_count": 0,
      "outputs": []
    },
    {
      "cell_type": "code",
      "metadata": {
        "id": "x_Wru8n_Lz3k",
        "colab_type": "code",
        "colab": {}
      },
      "source": [
        "def importance_overview(df):\n",
        "#print(len(df.loc[:, df.columns != 'booking_bool'].columns))\n",
        "#print(len(Gini_list))\n",
        "#print(len(FI_list))\n",
        "    Gini_list = calc_Gini(df)\n",
        "    FI_list = feature_importance(df) \n",
        "\n",
        "    d = {'feature':  df.loc[:, df.columns != 'booking_bool'].columns, 'Gini': Gini_list, 'FI': FI_list}\n",
        "    df_Gini_FI = pd.DataFrame(data=d)\n",
        "    df_Gini_FI['diff'] = df_Gini_FI['Gini'] - df_Gini_FI['FI']\n",
        "    df_Gini_FI['both'] = df_Gini_FI['Gini'] * df_Gini_FI['FI']\n",
        "    print(df_Gini_FI)\n",
        "\n",
        "    print('Mean Gini:', df_Gini_FI['Gini'].mean())\n",
        "    print('Mean FI:', df_Gini_FI['FI'].mean())\n",
        "    print('Mean both:', df_Gini_FI['both'].mean())\n",
        "    \n",
        "    return df_Gini_FI"
      ],
      "execution_count": 0,
      "outputs": []
    },
    {
      "cell_type": "code",
      "metadata": {
        "id": "ovVAkByLLz3n",
        "colab_type": "code",
        "colab": {}
      },
      "source": [
        "def topn(df_Gini_FI, n):\n",
        "    topn_Gini = list(df_Gini_FI.sort_values('Gini').feature.head(n))\n",
        "    topn_FI = list(df_Gini_FI.sort_values('FI').feature.head(n))\n",
        "    topn_both = list(df_Gini_FI.sort_values('both').feature.head(n))\n",
        "    d = {'Gini': topn_Gini, 'FI': topn_FI, 'both': topn_both}\n",
        "    TopNValues= pd.DataFrame(data=d)\n",
        "    TopNValues\n",
        "    return TopNValues"
      ],
      "execution_count": 0,
      "outputs": []
    },
    {
      "cell_type": "code",
      "metadata": {
        "id": "NjXJqL1XM6y1",
        "colab_type": "code",
        "colab": {}
      },
      "source": [
        "#for_calc = test\n",
        "#for_calc['booking_bool'] = test_columns['booking_bool']\n",
        "# calculate Gini and Feature Importance (run first before second)\n",
        "#df_Gini_FI = importance_overview(for_calc)\n",
        "# calculate top n best for each score\n",
        "#TopN = topn(df_Gini_FI, n = 5)\n",
        "# select topn"
      ],
      "execution_count": 0,
      "outputs": []
    },
    {
      "cell_type": "code",
      "metadata": {
        "id": "UIm89oIE9VDb",
        "colab_type": "code",
        "colab": {}
      },
      "source": [
        "# calculate top n best for each score\n",
        "#TopN = topn(df_Gini_FI, n = 24)\n",
        "#TopN\n",
        "# select topn"
      ],
      "execution_count": 0,
      "outputs": []
    },
    {
      "cell_type": "code",
      "metadata": {
        "id": "nPZ-bmc3BdNi",
        "colab_type": "code",
        "colab": {}
      },
      "source": [
        "#selection = TopN['Gini'].values + TopN['Gini'].values\n",
        "#print(selection)\n",
        "#output = []\n",
        "#for x in selection:\n",
        "#    if x not in output:\n",
        "#        output.append(x)\n",
        "#print(output)\n",
        "#test = test[output]"
      ],
      "execution_count": 0,
      "outputs": []
    },
    {
      "cell_type": "markdown",
      "metadata": {
        "id": "EfyJ_RhcLz3q",
        "colab_type": "text"
      },
      "source": [
        "Random Forest for classification"
      ]
    },
    {
      "cell_type": "code",
      "metadata": {
        "id": "FJ6X1Nu7Lz3r",
        "colab_type": "code",
        "colab": {}
      },
      "source": [
        ""
      ],
      "execution_count": 0,
      "outputs": []
    },
    {
      "cell_type": "code",
      "metadata": {
        "id": "g6n6Tb2YLz3x",
        "colab_type": "code",
        "colab": {}
      },
      "source": [
        ""
      ],
      "execution_count": 0,
      "outputs": []
    },
    {
      "cell_type": "markdown",
      "metadata": {
        "id": "NF2YoCZMLz34",
        "colab_type": "text"
      },
      "source": [
        "Random Forest for Ranking"
      ]
    },
    {
      "cell_type": "code",
      "metadata": {
        "id": "_llwjJfDLz34",
        "colab_type": "code",
        "colab": {}
      },
      "source": [
        "def RankingRF(df,df_test,df_test_columns,n):\n",
        "\n",
        "# Random Forest to order the submission file\n",
        "    import time\n",
        "    start_time = time.time()\n",
        "\n",
        "    #print(df.columns)\n",
        "    #print(df_test.head())\n",
        "    #from sklearn.preprocessing import MinMaxScaler\n",
        "    #scaler = MinMaxScaler()\n",
        "    #df[:] = scaler.fit_transform(df.values)\n",
        "    #df_test[:] = scaler.fit_transform(df_test.values)\n",
        "    #df = df.reset_index()\n",
        "    #df_test = df_test.reset_index()\n",
        "\n",
        "    from sklearn.model_selection import train_test_split\n",
        "    X=list(df_test.columns)  # Features\n",
        "    y='booking_bool'  # Labels\n",
        "    # Split dataset into training set and test set\n",
        "    X_train, X_test, y_train = df[X], df_test[X], df[y]\n",
        "    #Import Random Forest Model\n",
        "    from sklearn.ensemble import RandomForestClassifier\n",
        "\n",
        "    #Create a Gaussian Classifier\n",
        "    clf=RandomForestClassifier(n_estimators=n)\n",
        "\n",
        "    #Train the model using the training sets y_pred=clf.predict(X_test)\n",
        "    clf.fit(X_train,y_train)\n",
        "    y_pred=clf.predict_proba(X_test)\n",
        "\n",
        "    #print(y_pred)\n",
        "\n",
        "    #Import scikit-learn metrics module for accuracy calculation\n",
        "    #from sklearn import metrics\n",
        "    # Model Accuracy, how often is the classifier correct?\n",
        "    #print(\"Accuracy:\",metrics.accuracy_score(y_test, y_pred))\n",
        "    chances_df = pd.DataFrame(clf.predict_proba(X_test), columns=['chance_not_booked', 'chance_booked'])\n",
        "\n",
        "    df_test_columns['prob'] = chances_df['chance_booked']\n",
        "    df_test_columns = df_test_columns[['srch_id', 'prop_id', 'prob']]\n",
        "    df_test_columns = df_test_columns.sort_values('prob', ascending = False)\n",
        "    #print(df_test_columns.head(100))\n",
        "    #df_test_columns = df_test_columns.sort_values('srch_id')\n",
        "    ranking = df_test_columns\n",
        "    end_time = time.time()\n",
        "    time = end_time - start_time\n",
        "    #print('Time', time, 'seconds.')\n",
        "    return ranking, time"
      ],
      "execution_count": 0,
      "outputs": []
    },
    {
      "cell_type": "code",
      "metadata": {
        "id": "DSPIEDt7Lz37",
        "colab_type": "code",
        "colab": {}
      },
      "source": [
        "#ranking, ranking_time = RankingRF(train,test,test_columns,n)\n",
        "ranking, ranking_time = RankingRF(train,test,test_columns,n)\n",
        "submission = ranking"
      ],
      "execution_count": 0,
      "outputs": []
    },
    {
      "cell_type": "code",
      "metadata": {
        "id": "g14p9AKShYi9",
        "colab_type": "code",
        "colab": {
          "base_uri": "https://localhost:8080/",
          "height": 425
        },
        "outputId": "2a26d83b-f0ff-4070-f75f-e9beea78e5fc"
      },
      "source": [
        "submission_byprob = submission\n",
        "#submission_bysrchid = submission.sort_values('srch_id')\n",
        "#submission_bysrchid = submission_bysrchid.sort_values('prob', ascending = False)\n",
        "#submission_bysrchid = submission_bysrchid.sort_values('srch_id', ascending = True)\n",
        "submission_bysrchid = submission.sort_values(['srch_id','prob'],ascending=[True,False])\n",
        "print(submission_byprob.head())\n",
        "print(submission_bysrchid.head())\n",
        "submission_byprob = submission_byprob[['srch_id', 'prop_id']]\n",
        "submission_bysrchid= submission_bysrchid[['srch_id', 'prop_id']]\n",
        "print(submission_byprob.head())\n",
        "print(submission_bysrchid.head())\n",
        "from google.colab import files\n",
        "#results.to_csv(r'RFtrees2.csv', sep=',', encoding='utf-8', index = True)\n",
        "#results2.to_csv(r'RFtreeshead2.csv', sep=',', encoding='utf-8', index = True)\n",
        "#files.download('RFtrees2.csv')\n",
        "#files.download('RFtreeshead2.csv')"
      ],
      "execution_count": 23,
      "outputs": [
        {
          "output_type": "stream",
          "text": [
            "         srch_id  prop_id      prob\n",
            "4920670   330253   100969  0.697266\n",
            "1688979   113596   106652  0.675781\n",
            "3780737   254047    36030  0.666016\n",
            "4458491   299351   110695  0.666016\n",
            "2957047   199082   100969  0.656250\n",
            "    srch_id  prop_id      prob\n",
            "23        1    99484  0.101562\n",
            "8         1    50162  0.093750\n",
            "21        1    94729  0.085938\n",
            "9         1    54937  0.078125\n",
            "4         1    24194  0.074219\n",
            "         srch_id  prop_id\n",
            "4920670   330253   100969\n",
            "1688979   113596   106652\n",
            "3780737   254047    36030\n",
            "4458491   299351   110695\n",
            "2957047   199082   100969\n",
            "    srch_id  prop_id\n",
            "23        1    99484\n",
            "8         1    50162\n",
            "21        1    94729\n",
            "9         1    54937\n",
            "4         1    24194\n"
          ],
          "name": "stdout"
        }
      ]
    },
    {
      "cell_type": "code",
      "metadata": {
        "id": "ZtfmdeDls13w",
        "colab_type": "code",
        "colab": {}
      },
      "source": [
        "from google.colab import files\n",
        "submission_bysrchid.to_csv(r'RFtrees512srchid_end.csv', sep=',', encoding='utf-8', index = False)\n",
        "submission_byprob.to_csv(r'RFtrees512prob_end.csv', sep=',', encoding='utf-8', index = False)\n",
        "files.download('RFtrees512srchid_end.csv')\n",
        "files.download('RFtrees512prob_end.csv')"
      ],
      "execution_count": 0,
      "outputs": []
    },
    {
      "cell_type": "code",
      "metadata": {
        "id": "sZ02kIdlLz3-",
        "colab_type": "code",
        "colab": {}
      },
      "source": [
        "def evaluation(ranking, test_column):\n",
        "\n",
        "  val = ranking\n",
        "  val[['srch_id', 'prop_id', 'click_bool', 'booking_bool']] = test_columns[['srch_id', 'prop_id', 'click_bool', 'booking_bool']]\n",
        "  val = val[['srch_id', 'prop_id', 'click_bool', 'booking_bool', 'prob']]\n",
        "  val['rank'] = val['click_bool'] + (val['booking_bool'] * 4)\n",
        "\n",
        "  val_check = test_columns[['srch_id', 'prop_id', 'click_bool', 'booking_bool']]\n",
        "  val_check['rank'] = val['rank']\n",
        "\n",
        "  val = val.sort_values('prob', ascending = False)\n",
        "  val_check = val.sort_values('rank', ascending = False)\n",
        "\n",
        "  import statistics as s\n",
        "  #print(s.mean(accuracies))\n",
        "\n",
        "  val_gold = val_check[['srch_id', 'rank']]\n",
        "  val_pred = val[['srch_id', 'rank']]\n",
        "\n",
        "  import numpy as np\n",
        "\n",
        "  def dcgm38(sequence):\n",
        "      score = 0\n",
        "      i = 1\n",
        "      for _, s in sequence.iterrows():\n",
        "          score += (2**s['rank']-1)/np.log2(i+1)\n",
        "          i += 1\n",
        "      return score\n",
        "\n",
        "  # with sorting\n",
        "  srch_ids = np.unique(val_gold['srch_id'])\n",
        "  dcgm_max = np.empty(len(srch_ids))\n",
        "  for i, s in enumerate(srch_ids):\n",
        "      dcgm_max[i] = dcgm38(val_gold.loc[val_gold['srch_id']==s])\n",
        "\n",
        "  srch_ids = np.unique(val_pred['srch_id'])\n",
        "  dcgm_pred = np.empty(len(srch_ids))\n",
        "  for i, s in enumerate(srch_ids):\n",
        "      dcgm_pred[i] = dcgm38(val_pred.loc[val_pred['srch_id']==s])\n",
        "\n",
        "  #print(dcgm_max)\n",
        "  #print(dcgm_max)\n",
        "\n",
        "  maximum = np.average(dcgm_max)\n",
        "  prediction_score = np.average(dcgm_pred)\n",
        "  print(maximum, prediction_score)\n",
        "  grouped = np.mean(np.divide(prediction_score, maximum))\n",
        "  #print('mean NDCG (grouped by \"srch_id\"):', np.mean(np.divide(prediction_score, maximum)))\n",
        "\n",
        "  #without sorting\n",
        "  dcgm_max = dcgm38(val_gold)\n",
        "  #print(val_gold)\n",
        "  #print(dcgm_max)\n",
        "\n",
        "  #rch_ids = np.unique(val_pred['srch_id'])\n",
        "  #cgm_pred = np.empty(len(srch_ids))\n",
        "  #or i, s in enumerate(srch_ids):\n",
        "  dcgm_pred = dcgm38(val_pred)\n",
        "\n",
        "  #print(dcgm_max)\n",
        "  #print(dcgm_max)\n",
        "\n",
        "  #maximum = np.average(dcgm_max)\n",
        "  #prediction_score = np.average(dcgm_pred)\n",
        "  maximum = np.average(dcgm_max)\n",
        "  prediction_score = np.average(dcgm_pred)\n",
        "  print(maximum, prediction_score)\n",
        "  not_grouped = np.mean(np.divide(prediction_score, maximum))\n",
        "  #print('mean NDCG (only sorted by \"prob\"):', np.mean(np.divide(prediction_score, maximum)))\n",
        "  return grouped, not_grouped"
      ],
      "execution_count": 0,
      "outputs": []
    },
    {
      "cell_type": "code",
      "metadata": {
        "id": "WEkWPwNyYYpn",
        "colab_type": "code",
        "colab": {}
      },
      "source": [
        "\n",
        "time_list = []\n",
        "grouped_list = []\n",
        "not_grouped_list= []\n",
        "\n",
        "print('ok1')\n",
        "\n",
        "for n in n_list:\n",
        "  print('ok2')\n",
        "  ranking, ranking_time = RankingRF(train,test,test_columns,n)\n",
        "  print('Trees:', n)\n",
        "  print('Time:', ranking_time)\n",
        "  time_list.append(ranking_time)\n",
        "  grouped, not_grouped = evaluation(ranking, test_columns)\n",
        "  print('Grouped, not_grouped:', grouped, not_grouped)\n",
        "  print('grouped')\n",
        "  grouped_list.append(grouped)\n",
        "  print('not_grouped')\n",
        "  not_grouped_list.append(not_grouped)\n",
        "\n",
        "outcomes = {'trees': n_list, 'time': time_list, 'NDCG sorted': grouped_list, 'NDCG not sorted': not_grouped_list}\n",
        "results = pd.DataFrame(data=outcomes)"
      ],
      "execution_count": 0,
      "outputs": []
    },
    {
      "cell_type": "code",
      "metadata": {
        "id": "7F1S-RlsfRO1",
        "colab_type": "code",
        "colab": {}
      },
      "source": [
        ""
      ],
      "execution_count": 0,
      "outputs": []
    },
    {
      "cell_type": "code",
      "metadata": {
        "id": "2t3_vOipawu3",
        "colab_type": "code",
        "colab": {}
      },
      "source": [
        "print(results)\n",
        "print(results[results['NDCG sorted'] == results['NDCG sorted'].max()])\n",
        "print(results[results['NDCG not sorted'] == results['NDCG not sorted'].max()])"
      ],
      "execution_count": 0,
      "outputs": []
    },
    {
      "cell_type": "code",
      "metadata": {
        "id": "3q4N0q7qe1FL",
        "colab_type": "code",
        "colab": {}
      },
      "source": [
        "print(results[results['NDCG sorted'] == results['NDCG sorted'].max()])\n",
        "print(results[results['NDCG not sorted'] == results['NDCG not sorted'].max()])"
      ],
      "execution_count": 0,
      "outputs": []
    },
    {
      "cell_type": "code",
      "metadata": {
        "id": "m-NRiahKe3JD",
        "colab_type": "code",
        "colab": {}
      },
      "source": [
        "x = results['trees']\n",
        "y1 = results['NDCG sorted']\n",
        "y2= results['NDCG not sorted']\n",
        "\n",
        "import matplotlib.pyplot as plt\n",
        "plt.plot(x, y1, label = \"considering srch_id\")\n",
        "plt.plot(x, y2, label = \"ignoring srch_id\")\n",
        "plt.xlabel('Amount of trees')\n",
        "# Set the y axis label of the current axis.\n",
        "plt.ylabel('NDCG')\n",
        "# Set a title of the current axes.\n",
        "plt.title('NDCG for each amount of trees ')\n",
        "# show a legend on the plot\n",
        "plt.legend()\n",
        "# Display a figure.\n",
        "plt.show()\n"
      ],
      "execution_count": 0,
      "outputs": []
    },
    {
      "cell_type": "code",
      "metadata": {
        "id": "ATep2BOEhH-E",
        "colab_type": "code",
        "colab": {}
      },
      "source": [
        "results2 = results.head(7)\n",
        "print(results2[results2['NDCG sorted'] == results2['NDCG sorted'].max()])\n",
        "print(results2[results2['NDCG not sorted'] == results2['NDCG not sorted'].max()])\n"
      ],
      "execution_count": 0,
      "outputs": []
    },
    {
      "cell_type": "code",
      "metadata": {
        "id": "xMfeUXGnh10C",
        "colab_type": "code",
        "colab": {}
      },
      "source": [
        "from google.colab import files\n",
        "#results.to_csv(r'RFtrees2.csv', sep=',', encoding='utf-8', index = True)\n",
        "#results2.to_csv(r'RFtreeshead2.csv', sep=',', encoding='utf-8', index = True)\n",
        "#files.download('RFtrees2.csv')\n",
        "#files.download('RFtreeshead2.csv')"
      ],
      "execution_count": 0,
      "outputs": []
    },
    {
      "cell_type": "code",
      "metadata": {
        "id": "HjIl53I7Lz4C",
        "colab_type": "code",
        "colab": {}
      },
      "source": [
        ""
      ],
      "execution_count": 0,
      "outputs": []
    },
    {
      "cell_type": "code",
      "metadata": {
        "id": "anAU1330Lz4H",
        "colab_type": "code",
        "colab": {}
      },
      "source": [
        ""
      ],
      "execution_count": 0,
      "outputs": []
    },
    {
      "cell_type": "markdown",
      "metadata": {
        "id": "ofavseG-Lz4K",
        "colab_type": "text"
      },
      "source": [
        "Options"
      ]
    },
    {
      "cell_type": "code",
      "metadata": {
        "id": "tsbCMFS3Lz4L",
        "colab_type": "code",
        "colab": {}
      },
      "source": [
        "\n",
        "\n",
        "\n"
      ],
      "execution_count": 0,
      "outputs": []
    },
    {
      "cell_type": "code",
      "metadata": {
        "id": "5IfnrzVDLz4O",
        "colab_type": "code",
        "colab": {}
      },
      "source": [
        ""
      ],
      "execution_count": 0,
      "outputs": []
    },
    {
      "cell_type": "code",
      "metadata": {
        "id": "7o_KPtN3Lz4R",
        "colab_type": "code",
        "colab": {}
      },
      "source": [
        ""
      ],
      "execution_count": 0,
      "outputs": []
    },
    {
      "cell_type": "code",
      "metadata": {
        "id": "2yNblORQLz4U",
        "colab_type": "code",
        "colab": {}
      },
      "source": [
        ""
      ],
      "execution_count": 0,
      "outputs": []
    },
    {
      "cell_type": "code",
      "metadata": {
        "id": "olxK9t6hLz4X",
        "colab_type": "code",
        "colab": {}
      },
      "source": [
        "\n"
      ],
      "execution_count": 0,
      "outputs": []
    },
    {
      "cell_type": "code",
      "metadata": {
        "id": "W_FqhqSGLz4a",
        "colab_type": "code",
        "colab": {}
      },
      "source": [
        ""
      ],
      "execution_count": 0,
      "outputs": []
    },
    {
      "cell_type": "code",
      "metadata": {
        "id": "eGZiqC-pLz4e",
        "colab_type": "code",
        "colab": {}
      },
      "source": [
        ""
      ],
      "execution_count": 0,
      "outputs": []
    },
    {
      "cell_type": "code",
      "metadata": {
        "id": "qQrRNwHeLz4h",
        "colab_type": "code",
        "colab": {}
      },
      "source": [
        ""
      ],
      "execution_count": 0,
      "outputs": []
    },
    {
      "cell_type": "code",
      "metadata": {
        "id": "zCaFbpO2Lz4r",
        "colab_type": "code",
        "colab": {}
      },
      "source": [
        ""
      ],
      "execution_count": 0,
      "outputs": []
    },
    {
      "cell_type": "code",
      "metadata": {
        "id": "uFaVx3VhLz4w",
        "colab_type": "code",
        "colab": {}
      },
      "source": [
        ""
      ],
      "execution_count": 0,
      "outputs": []
    },
    {
      "cell_type": "code",
      "metadata": {
        "id": "ud51O9RuLz4z",
        "colab_type": "code",
        "colab": {}
      },
      "source": [
        ""
      ],
      "execution_count": 0,
      "outputs": []
    },
    {
      "cell_type": "code",
      "metadata": {
        "id": "WoAkngdGLz44",
        "colab_type": "code",
        "colab": {}
      },
      "source": [
        ""
      ],
      "execution_count": 0,
      "outputs": []
    },
    {
      "cell_type": "code",
      "metadata": {
        "id": "7hQ3vjwSLz48",
        "colab_type": "code",
        "colab": {}
      },
      "source": [
        ""
      ],
      "execution_count": 0,
      "outputs": []
    },
    {
      "cell_type": "code",
      "metadata": {
        "id": "NMwfa3FMLz5D",
        "colab_type": "code",
        "colab": {}
      },
      "source": [
        ""
      ],
      "execution_count": 0,
      "outputs": []
    }
  ]
}