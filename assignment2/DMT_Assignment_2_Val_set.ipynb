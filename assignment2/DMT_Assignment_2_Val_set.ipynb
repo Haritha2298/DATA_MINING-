{
 "cells": [
  {
   "cell_type": "markdown",
   "metadata": {},
   "source": [
    "## Create a validation set\n",
    "\n",
    "We create train and validation  by sampling 1% and 10% of all srch_id's to form a validation set, and equally sample 50K and 5K instances from both classes.\n"
   ]
  },
  {
   "cell_type": "code",
   "execution_count": null,
   "metadata": {},
   "outputs": [],
   "source": [
    "import numpy as np\n",
    "import pandas as pd\n",
    "import matplotlib.pyplot as plt\n",
    "import matplotlib.pylab as pylab\n",
    "import seaborn as sns\n",
    "\n",
    "# Configure Visualization Defaults\n",
    "%matplotlib inline"
   ]
  },
  {
   "cell_type": "code",
   "execution_count": null,
   "metadata": {},
   "outputs": [],
   "source": [
    "# Load the data\n",
    "train = pd.read_csv('data/training_set_VU_DM.csv')"
   ]
  },
  {
   "cell_type": "markdown",
   "metadata": {},
   "source": [
    "### Create a validation set from 10 percent of all search ids"
   ]
  },
  {
   "cell_type": "code",
   "execution_count": null,
   "metadata": {},
   "outputs": [],
   "source": [
    "validation = train.loc[train['srch_id']%10==1]\n",
    "validation = validation.copy()\n",
    "\n",
    "# compute rank score\n",
    "a = 5*validation['booking_bool'].to_numpy()\n",
    "b = validation['click_bool'].to_numpy()\n",
    "validation['rank_score'] = np.maximum(a,b)\n",
    "\n",
    "# rank the validation set\n",
    "validation.sort_values(['srch_id','rank_score'],ascending=[True,False],inplace=True)\n",
    "\n",
    "# save the validation set\n",
    "validation.to_csv('validation_10perc_ranked.csv',index=False)"
   ]
  },
  {
   "cell_type": "code",
   "execution_count": null,
   "metadata": {},
   "outputs": [],
   "source": [
    "# create a corresponding training set\n",
    "training = train.loc[train['srch_id']%10==2]\n",
    "training = training.copy()\n",
    "\n",
    "# compute rank score\n",
    "a = 5*training['booking_bool'].to_numpy()\n",
    "b = training['click_bool'].to_numpy()\n",
    "training['rank_score'] = np.maximum(a,b)\n",
    "\n",
    "training.sort_values(['srch_id','rank_score'],ascending=[True,False],inplace=True)\n",
    "\n",
    "# save the training set\n",
    "training.to_csv('training_10perc_ranked.csv',index = False)"
   ]
  },
  {
   "cell_type": "markdown",
   "metadata": {},
   "source": [
    "Balanced datasets"
   ]
  },
  {
   "cell_type": "code",
   "execution_count": null,
   "metadata": {},
   "outputs": [],
   "source": [
    "# create a corresponding balanced training set with 100K datapoints\n",
    "training = train.loc[train['srch_id']%10!=1]\n",
    "sub1 = training[training['booking_bool'] == 1].sample(50000)\n",
    "sub0 = training[training['booking_bool'] == 0].sample(50000)\n",
    "training = pd.concat([sub0, sub1])\n",
    "\n",
    "# compute rank score\n",
    "a = 5*training['booking_bool'].to_numpy()\n",
    "b = training['click_bool'].to_numpy()\n",
    "training['rank_score'] = np.maximum(a,b)\n",
    "\n",
    "training.sort_values(['srch_id','rank_score'],ascending=[True,False],inplace=True)\n",
    "\n",
    "# save the training set\n",
    "training.to_csv('training_10perc_ranked_balanced_100K.csv',index = False)"
   ]
  },
  {
   "cell_type": "code",
   "execution_count": null,
   "metadata": {},
   "outputs": [],
   "source": [
    "# create a corresponding balanced training set with 10K datapoints\n",
    "training = train.loc[train['srch_id']%10!=1]\n",
    "sub1 = training[training['booking_bool'] == 1].sample(5000)\n",
    "sub0 = training[training['booking_bool'] == 0].sample(5000)\n",
    "training = pd.concat([sub0, sub1])\n",
    "\n",
    "# compute rank score\n",
    "a = 5*training['booking_bool'].to_numpy()\n",
    "b = training['click_bool'].to_numpy()\n",
    "training['rank_score'] = np.maximum(a,b)\n",
    "\n",
    "training.sort_values(['srch_id','rank_score'],ascending=[True,False],inplace=True)\n",
    "\n",
    "# save the training set\n",
    "training.to_csv('training_10perc_ranked_balanced_10K.csv',index = False)"
   ]
  },
  {
   "cell_type": "markdown",
   "metadata": {},
   "source": [
    "### Create a validation set from 1 percent of all search ids"
   ]
  },
  {
   "cell_type": "code",
   "execution_count": null,
   "metadata": {},
   "outputs": [],
   "source": [
    "validation = train.loc[train['srch_id']%100==1]\n",
    "validation = validation.copy()\n",
    "\n",
    "# compute rank score\n",
    "a = 5*validation['booking_bool'].to_numpy()\n",
    "b = validation['click_bool'].to_numpy()\n",
    "validation['rank_score'] = np.maximum(a,b)\n",
    "\n",
    "# rank the validation set\n",
    "validation.sort_values(['srch_id','rank_score'],ascending=[True,False],inplace=True)\n",
    "\n",
    "# save the validation set\n",
    "validation.to_csv('validation_1perc_ranked.csv',index=False)"
   ]
  },
  {
   "cell_type": "code",
   "execution_count": null,
   "metadata": {},
   "outputs": [],
   "source": [
    "# create a corresponding training set\n",
    "training = train.loc[train['srch_id']%100==2]\n",
    "training = training.copy()\n",
    "\n",
    "# compute rank score\n",
    "a = 5*training['booking_bool'].to_numpy()\n",
    "b = training['click_bool'].to_numpy()\n",
    "training['rank_score'] = np.maximum(a,b)\n",
    "\n",
    "training.sort_values(['srch_id','rank_score'],ascending=[True,False],inplace=True)\n",
    "\n",
    "# save the training set\n",
    "training.to_csv('training_1perc_ranked.csv',index = False)"
   ]
  },
  {
   "cell_type": "markdown",
   "metadata": {},
   "source": [
    "Balanced datasets"
   ]
  },
  {
   "cell_type": "code",
   "execution_count": null,
   "metadata": {},
   "outputs": [],
   "source": [
    "# create a corresponding balanced training set with 100K datapoints\n",
    "training = train.loc[train['srch_id']%100!=1]\n",
    "sub1 = training[training['booking_bool'] == 1].sample(50000)\n",
    "sub0 = training[training['booking_bool'] == 0].sample(50000)\n",
    "training = pd.concat([sub0, sub1])\n",
    "\n",
    "# compute rank score\n",
    "a = 5*training['booking_bool'].to_numpy()\n",
    "b = training['click_bool'].to_numpy()\n",
    "training['rank_score'] = np.maximum(a,b)\n",
    "\n",
    "training.sort_values(['srch_id','rank_score'],ascending=[True,False],inplace=True)\n",
    "\n",
    "# save the training set\n",
    "training.to_csv('training_1perc_ranked_balanced_100K.csv',index = False)"
   ]
  },
  {
   "cell_type": "code",
   "execution_count": null,
   "metadata": {},
   "outputs": [],
   "source": [
    "# create a corresponding balanced training set with 10K datapoints\n",
    "training = train.loc[train['srch_id']%100!=1]\n",
    "sub1 = training[training['booking_bool'] == 1].sample(5000)\n",
    "sub0 = training[training['booking_bool'] == 0].sample(5000)\n",
    "training = pd.concat([sub0, sub1])\n",
    "\n",
    "# compute rank score\n",
    "a = 5*training['booking_bool'].to_numpy()\n",
    "b = training['click_bool'].to_numpy()\n",
    "training['rank_score'] = np.maximum(a,b)\n",
    "\n",
    "training.sort_values(['srch_id','rank_score'],ascending=[True,False],inplace=True)\n",
    "\n",
    "# save the training set\n",
    "training.to_csv('training_1perc_ranked_balanced_10K.csv',index = False)"
   ]
  },
  {
   "cell_type": "markdown",
   "metadata": {},
   "source": [
    "### Evaluate the ranking"
   ]
  },
  {
   "cell_type": "code",
   "execution_count": null,
   "metadata": {},
   "outputs": [],
   "source": [
    "def dcgm38(sequence):\n",
    "    score = 0\n",
    "    i = 1\n",
    "    for _, s in sequence.iterrows():\n",
    "        score += (2**s['rank_score']-1)/np.log2(i+1)\n",
    "        i += 1\n",
    "    return score"
   ]
  },
  {
   "cell_type": "code",
   "execution_count": null,
   "metadata": {},
   "outputs": [],
   "source": [
    "srch_ids = np.unique(validation['srch_id'])\n",
    "dcgm = np.empty(len(srch_ids))\n",
    "\n",
    "for i, s in enumerate(srch_ids):\n",
    "    dcgm[i] = dcgm38(validation.loc[validation['srch_id']==s])"
   ]
  },
  {
   "cell_type": "code",
   "execution_count": null,
   "metadata": {},
   "outputs": [],
   "source": [
    "validation_shuffle = validation.copy()\n",
    "\n",
    "srch_ids = np.unique(validation_shuffle['srch_id'])\n",
    "dcgm_shuffle = np.empty(len(srch_ids))\n",
    "for i, s in enumerate(srch_ids):\n",
    "    a = validation_shuffle.loc[validation_shuffle['srch_id']==s].copy()\n",
    "    b = a['rank_score'].to_numpy()\n",
    "    np.random.shuffle(b)\n",
    "    a['rank_score'] = b\n",
    "    a.sort_values(['srch_id'],ascending=True)\n",
    "    dcgm_shuffle[i] = dcgm38(a)"
   ]
  },
  {
   "cell_type": "code",
   "execution_count": null,
   "metadata": {},
   "outputs": [],
   "source": [
    "print('mean NDCG unsorted:', np.mean(np.divide(dcgm_shuffle, dcgm)))"
   ]
  }
 ],
 "metadata": {
  "kernelspec": {
   "display_name": "Python 3",
   "language": "python",
   "name": "python3"
  },
  "language_info": {
   "codemirror_mode": {
    "name": "ipython",
    "version": 3
   },
   "file_extension": ".py",
   "mimetype": "text/x-python",
   "name": "python",
   "nbconvert_exporter": "python",
   "pygments_lexer": "ipython3",
   "version": "3.7.7"
  }
 },
 "nbformat": 4,
 "nbformat_minor": 4
}
