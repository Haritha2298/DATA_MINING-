{
 "cells": [
  {
   "cell_type": "code",
   "execution_count": 1,
   "metadata": {},
   "outputs": [],
   "source": [
    "import numpy as np\n",
    "import pandas as pd\n",
    "import matplotlib.pyplot as plt\n",
    "import matplotlib.pylab as pylab\n",
    "import seaborn as sns\n",
    "\n",
    "# Configure Visualization Defaults\n",
    "%matplotlib inline"
   ]
  },
  {
   "cell_type": "code",
   "execution_count": 24,
   "metadata": {},
   "outputs": [],
   "source": [
    "train = pd.read_csv('data/training_set_VU_DM.csv')"
   ]
  },
  {
   "cell_type": "code",
   "execution_count": 2,
   "metadata": {},
   "outputs": [],
   "source": [
    "train = pd.read_csv('data/training_set_VU_DM.csv',nrows=1000)\n",
    "test  = pd.read_csv('data/test_set_VU_DM.csv')"
   ]
  },
  {
   "cell_type": "markdown",
   "metadata": {},
   "source": [
    "Analyse competitor attributes. There exist three different types of attributes.\n",
    "- comp-rate           : +1 if Expedia has a lower price than competitor for the hotel; 0 if the same; -1 if Expedia’s price is higher than competitor; null signifies there is no competitive data\n",
    "- comp_inv            : +1 if competitor does not have availability in the hotel; 0 if both Expedia and competitor have availability; null signifies there is no competitive data\n",
    "- comp-rate-perc-diff : The absolute percentage difference (if one exists) between Expedia and competitor’s price (Expedia’s price the denominator); null signifies there is no competitive data\n",
    "\n",
    "why are the number of missing values larger for the comp_rate_percent_diff than for the comp_rate attribute? What is the degree of overlap between these sets? If these sets are complementary we might be able to impute one using the other.\n",
    "\n",
    "Is it the case that the comp values are more likely to exist for instances where click_bool or booking_bool are true?"
   ]
  },
  {
   "cell_type": "markdown",
   "metadata": {},
   "source": [
    "## Analysis of competitor variables"
   ]
  },
  {
   "cell_type": "code",
   "execution_count": 4,
   "metadata": {},
   "outputs": [
    {
     "name": "stdout",
     "output_type": "stream",
     "text": [
      "[4843307, 2943222, 3434198, 4646462, 2737262, 4716853, 4643454, 3056794]\n",
      "Average comp_rate (across competitors): 0.7819219415778769\n",
      "\n",
      "\n",
      "[4834309, 2837914, 3317952, 4610375, 2598370, 4696014, 4602430, 2986298]\n",
      "Average comp_inv  (across competitors): 0.7683640127819441\n",
      "\n",
      "\n",
      "[4868715, 4405574, 4487973, 4826056, 4119276, 4862045, 4819860, 4348206]\n",
      "Average comp_diff (across competitors): 0.9260019493130219\n"
     ]
    }
   ],
   "source": [
    "# compute the average number of missing values for each of the three attributes\n",
    "# averaged over the three competitors\n",
    "s = []\n",
    "for i in range(1,9):\n",
    "    s.append(sum(test['comp'+str(i)+'_rate'].isna()))\n",
    "print(s)\n",
    "a = np.average(s)\n",
    "print('Average comp_rate (across competitors):',a/test.shape[0])\n",
    "print('\\n')\n",
    "s = []\n",
    "for i in range(1,9):\n",
    "    s.append(sum(test['comp'+str(i)+'_inv'].isna()))\n",
    "print(s)\n",
    "a = np.average(s)\n",
    "print('Average comp_inv  (across competitors):',a/test.shape[0])\n",
    "print('\\n')\n",
    "s = []\n",
    "for i in range(1,9):\n",
    "    s.append(sum(test['comp'+str(i)+'_rate_percent_diff'].isna()))\n",
    "print(s)\n",
    "a = np.average(s)\n",
    "print('Average comp_diff (across competitors):',a/test.shape[0])"
   ]
  },
  {
   "cell_type": "code",
   "execution_count": 21,
   "metadata": {},
   "outputs": [
    {
     "name": "stdout",
     "output_type": "stream",
     "text": [
      "Proportion of total number of null vals    :  0.34836705965478587\n",
      "Proportion of total number of non-null vals:  0.6516329403452141\n"
     ]
    },
    {
     "data": {
      "image/png": "[encoded data removed]",
      "text/plain": [
       "<Figure size 864x576 with 1 Axes>"
      ]
     },
     "metadata": {
      "needs_background": "light"
     },
     "output_type": "display_data"
    },
    {
     "name": "stdout",
     "output_type": "stream",
     "text": [
      "[0 1 2 3 4 5 6 7 8]\n",
      "[      1      11   10243   48312  758551 1049874  800408  564167 1727616]\n"
     ]
    }
   ],
   "source": [
    "# check the number of missing values for the rate variable if we collapse the variable, across competitors\n",
    "n_comp = 8\n",
    "for i in range(1,n_comp+1):\n",
    "    if i == 1:\n",
    "        rate_na_comp = test['comp'+str(i)+'_rate'].isna().astype(int)\n",
    "    else:\n",
    "        rate_na_comp += test['comp'+str(i)+'_rate'].isna().astype(int)\n",
    "total_na_comp = sum(rate_na_comp==n_comp)\n",
    "print('Proportion of total number of null vals    : ',total_na_comp/test.shape[0])\n",
    "print('Proportion of total number of non-null vals: ',1-(total_na_comp/test.shape[0]))\n",
    "unique_elements, counts_elements = np.unique(rate_not_na_comp, return_counts=True)\n",
    "plt.hist(rate_not_na_comp)\n",
    "plt.show()\n",
    "print(unique_elements)\n",
    "print(counts_elements)"
   ]
  },
  {
   "cell_type": "code",
   "execution_count": 23,
   "metadata": {},
   "outputs": [
    {
     "name": "stdout",
     "output_type": "stream",
     "text": [
      "Proportion of total number of null vals    :  0.32620937763337227\n",
      "Proportion of total number of non-null vals:  0.6737906223666277\n"
     ]
    },
    {
     "data": {
      "image/png": "[encoded data removed]",
      "text/plain": [
       "<Figure size 864x576 with 1 Axes>"
      ]
     },
     "metadata": {
      "needs_background": "light"
     },
     "output_type": "display_data"
    },
    {
     "name": "stdout",
     "output_type": "stream",
     "text": [
      "[ 0  2  3  4  5  6  7  8  9 10 11 12 13 14 15 16]\n",
      "[      1      11       4   10240    2727   46033   14041  746283   95836\n",
      "  966813  102824  706689   83067  502963   63919 1617732]\n"
     ]
    }
   ],
   "source": [
    "# now check the number of missing values if we collapse all three competitor variables, across competitors\n",
    "n_comp = 8\n",
    "for i in range(1,n_comp+1):\n",
    "    if i == 1:\n",
    "        na_comp = test['comp'+str(i)+'_rate'].isna().astype(int)\n",
    "        na_comp += test['comp'+str(i)+'_inv'].isna().astype(int)\n",
    "#         na_comp += test['comp'+str(i)+'_rate_percent_diff'].isna().astype(int)\n",
    "    else:\n",
    "        na_comp += test['comp'+str(i)+'_rate'].isna().astype(int)\n",
    "        na_comp += test['comp'+str(i)+'_inv'].isna().astype(int)\n",
    "#         na_comp += test['comp'+str(i)+'_rate_percent_diff'].isna().astype(int)\n",
    "total_na_comp = sum(na_comp==(2*n_comp))\n",
    "print('Proportion of total number of null vals    : ',total_na_comp/test.shape[0])\n",
    "print('Proportion of total number of non-null vals: ',1-(total_na_comp/test.shape[0]))\n",
    "unique_elements, counts_elements = np.unique(na_comp, return_counts=True)\n",
    "plt.hist(na_comp)\n",
    "plt.show()\n",
    "print(unique_elements)\n",
    "print(counts_elements)"
   ]
  },
  {
   "cell_type": "markdown",
   "metadata": {},
   "source": [
    "## Feature engineering (comp_cheapest)"
   ]
  },
  {
   "cell_type": "code",
   "execution_count": 28,
   "metadata": {},
   "outputs": [
    {
     "name": "stdout",
     "output_type": "stream",
     "text": [
      "[False  True]\n",
      "[ 585371 2646196]\n",
      "Proportion of cheaper hotels (null total):  0.5335951506528394\n",
      "Proportion of cheaper hotels (non-null total):  0.8188584671151797\n",
      "Proportion of null values:  0.34836705965478587\n"
     ]
    }
   ],
   "source": [
    "# engineer new boolean attribute called comp_cheapest, which is 1 if Expedia has the lowest rate of all competitors\n",
    "# and 0 if there is at least one competitor with a lower rate\n",
    "n_comp = 8\n",
    "for i in range(1,n_comp+1):\n",
    "    if i == 1:\n",
    "        rate_na_comp = test['comp'+str(i)+'_rate'].isna().astype(int)\n",
    "        temp_cheapest = (test['comp'+str(i)+'_rate']==-1).astype(int)\n",
    "    else:\n",
    "        rate_na_comp += test['comp'+str(i)+'_rate'].isna().astype(int)\n",
    "        temp_cheapest += (test['comp'+str(i)+'_rate']==-1).astype(int)\n",
    "comp_cheapest_test = temp_cheapest == 0\n",
    "u, c = np.unique(comp_cheapest[rate_na_comp<8], return_counts=True)\n",
    "\n",
    "# next we impute the null values by sampling from the empirical distribution of comp_cheapest\n",
    "comp_cheapest_test[rate_na_comp==8] = np.random.choice(u, np.sum(rate_na_comp==8),p=c/np.sum(c))\n",
    "print(u)\n",
    "print(c)\n",
    "print('Proportion of cheaper hotels (null total): ',c[1]/test.shape[0])\n",
    "print('Proportion of cheaper hotels (non-null total): ',c[1]/(c[0]+c[1]))\n",
    "print('Proportion of null values: ',1-((c[0]+c[1])/test.shape[0]))"
   ]
  },
  {
   "cell_type": "code",
   "execution_count": 26,
   "metadata": {},
   "outputs": [],
   "source": [
    "# repeat this proces for the training set\n",
    "n_comp = 8\n",
    "for i in range(1,n_comp+1):\n",
    "    if i == 1:\n",
    "        rate_na_comp = train['comp'+str(i)+'_rate'].isna().astype(int)\n",
    "        temp_cheapest = (train['comp'+str(i)+'_rate']==-1).astype(int)\n",
    "    else:\n",
    "        rate_na_comp += train['comp'+str(i)+'_rate'].isna().astype(int)\n",
    "        temp_cheapest += (train['comp'+str(i)+'_rate']==-1).astype(int)\n",
    "comp_cheapest_train = temp_cheapest == 0\n",
    "u, c = np.unique(comp_cheapest_train[rate_na_comp<8], return_counts=True)\n",
    "\n",
    "# next we impute the null values by sampling from the empirical distribution of comp_cheapest\n",
    "comp_cheapest_train[rate_na_comp==8] = np.random.choice(u, np.sum(rate_na_comp==8),p=c/np.sum(c))"
   ]
  },
  {
   "cell_type": "markdown",
   "metadata": {},
   "source": [
    "Save the novel features"
   ]
  },
  {
   "cell_type": "code",
   "execution_count": 30,
   "metadata": {},
   "outputs": [
    {
     "name": "stdout",
     "output_type": "stream",
     "text": [
      "<class 'pandas.core.frame.DataFrame'>\n",
      "RangeIndex: 4959183 entries, 0 to 4959182\n",
      "Data columns (total 1 columns):\n",
      " #   Column         Dtype\n",
      "---  ------         -----\n",
      " 0   comp_cheapest  bool \n",
      "dtypes: bool(1)\n",
      "memory usage: 4.7 MB\n"
     ]
    }
   ],
   "source": [
    "# save the novel feature to a csv file\n",
    "df = pd.DataFrame()\n",
    "df['comp_cheapest'] = comp_cheapest_train\n",
    "df.to_csv('test_set_comp_cheapest.csv',index=False)\n",
    "df.info()\n",
    "\n",
    "df = pd.DataFrame()\n",
    "df['comp_cheapest'] = comp_cheapest_test\n",
    "df.info()\n",
    "df.to_csv('train_set_comp_cheapest.csv',index=False)"
   ]
  },
  {
   "cell_type": "code",
   "execution_count": 13,
   "metadata": {},
   "outputs": [
    {
     "name": "stdout",
     "output_type": "stream",
     "text": [
      "[False  True]\n",
      "[ 898673 4060510]\n",
      "Proportion of cheaper hotels (null total):  0.8187860782713604\n",
      "Proportion of cheaper hotels (non-null total):  0.8187860782713604\n",
      "Proportion of null values:  0.0\n"
     ]
    }
   ],
   "source": [
    "# show the proportion of cheaper hotels after imputation\n",
    "u, c = np.unique(comp_cheapest, return_counts=True)\n",
    "print(u)\n",
    "print(c)\n",
    "print('Proportion of cheaper hotels (null total): ',c[1]/test.shape[0])\n",
    "print('Proportion of cheaper hotels (non-null total): ',c[1]/(c[0]+c[1]))\n",
    "print('Proportion of null values: ',1-((c[0]+c[1])/test.shape[0]))"
   ]
  }
 ],
 "metadata": {
  "kernelspec": {
   "display_name": "Python 3",
   "language": "python",
   "name": "python3"
  },
  "language_info": {
   "codemirror_mode": {
    "name": "ipython",
    "version": 3
   },
   "file_extension": ".py",
   "mimetype": "text/x-python",
   "name": "python",
   "nbconvert_exporter": "python",
   "pygments_lexer": "ipython3",
   "version": "3.7.7"
  }
 },
 "nbformat": 4,
 "nbformat_minor": 4
}
