{
 "cells": [
  {
   "cell_type": "markdown",
   "metadata": {},
   "source": [
    "## Replicating Logistic Regression Models by Agarwal et al. (2013) and Liu et al. (2013)"
   ]
  },
  {
   "cell_type": "markdown",
   "metadata": {},
   "source": [
    "In this notebook we are going to try to reproduce the Logistic Regression models by Agarwal et al. (2013) and Liu et al. (2013).\n",
    "\n",
    "To achieve this we will have to complete the following steps:\n",
    "* [Done] Merge the clicked and booked items within each query as positive instances. This will turn the classification task into a binary classification task.\n",
    "* [Done] First, select a smaller feature set, consisting of the features: srch_id, prop_id, srch_destination_id, prop_starrating, prop_location_score1, prop_location_score_2, and price_usd (Liu et al., 2013). Later on, we can try to fit a model using a broader set of features.\n",
    "* [Done] Split the data into a training and an internal validation set. For this dataset, Liu et al. (2013) used a validation set that was 10% of the original data size, generated using the rule: srch_id%10==1. Agarwal et al. (2013) explained that this selection rule minimzed the correlation between searches in close proximity i.e. searches with the same search_id. \n",
    "* [Done] (Also check how many instances there are of each search id). \n",
    "* [Done] To aid in the testing phase we sample a part of the data to train the model on e.g. 10.000 points.\n",
    "* [Done] While both Agarwal et al. (2013) and Liu et al. (2013) added a class weight parameter to the cross-entropy function, we can initially try to use a balanced dataset instead. For this, we need to sample an equal number of positive and negative cases. Afterwards, we can try to fit a model with a weighted cross-entropy function as well.\n",
    "* Binarize float features e.g. using the bucket algorithm presented by Liu et al. (2013)\n",
    "* [Done] Sort the search queries based on the posterior probability of the Logistic Regression model. Here, the posterior probability serves as a measure for the relevance, directly. This approach was proposed by Agarwal et al. (2013).\n",
    "* Finally, check the performance of the model using the NDCG@38 metric. For this, it is important to check whether the evaluation metric was implemented correctly, beforehand.\n",
    "* Check out Automatic Relevance Determination Regression (ARD) (see: https://tinyurl.com/yblqaran)."
   ]
  },
  {
   "cell_type": "code",
   "execution_count": 1,
   "metadata": {},
   "outputs": [],
   "source": [
    "import numpy as np\n",
    "import pandas as pd\n",
    "import matplotlib.pyplot as plt\n",
    "import matplotlib.pylab as pylab\n",
    "import seaborn as sns\n",
    "\n",
    "# Configure Visualization Defaults\n",
    "%matplotlib inline"
   ]
  },
  {
   "cell_type": "code",
   "execution_count": 2,
   "metadata": {},
   "outputs": [],
   "source": [
    "# Load the data\n",
    "train = pd.read_csv('data/training_set_VU_DM.csv')"
   ]
  },
  {
   "cell_type": "code",
   "execution_count": 3,
   "metadata": {},
   "outputs": [],
   "source": [
    "# For the experimental phase we select a subset of the training data\n",
    "train_sub = train.loc[0:9999]"
   ]
  },
  {
   "cell_type": "code",
   "execution_count": 11,
   "metadata": {},
   "outputs": [
    {
     "data": {
      "image/png": "[encoded data removed]",
      "text/plain": [
       "<Figure size 432x288 with 1 Axes>"
      ]
     },
     "metadata": {
      "needs_background": "light"
     },
     "output_type": "display_data"
    }
   ],
   "source": [
    "# Check how many instances there of each search_id on a subset of the data\n",
    "# consisting of 10.000 points\n",
    "u, c = np.unique(train_sub['srch_id'], return_counts=True)\n",
    "plt.bar(u,c)\n",
    "plt.show()"
   ]
  },
  {
   "cell_type": "markdown",
   "metadata": {},
   "source": [
    "From the figure above we can see that the number of search results is not equal across search ids."
   ]
  },
  {
   "cell_type": "code",
   "execution_count": 4,
   "metadata": {},
   "outputs": [],
   "source": [
    "# Make the feature list that we are going to use for the first model\n",
    "f_list = ['srch_id', 'prop_id', 'srch_destination_id', 'prop_starrating',\n",
    "          'prop_location_score1', 'prop_location_score2', 'price_usd',\n",
    "          'click_bool', 'booking_bool']"
   ]
  },
  {
   "cell_type": "code",
   "execution_count": 5,
   "metadata": {},
   "outputs": [],
   "source": [
    "# Select the features from the f_list\n",
    "train = train[f_list]"
   ]
  },
  {
   "cell_type": "code",
   "execution_count": 26,
   "metadata": {},
   "outputs": [
    {
     "data": {
      "text/plain": [
       "srch_id                 0.000000\n",
       "prop_id                 0.000000\n",
       "srch_destination_id     0.000000\n",
       "prop_starrating         0.000000\n",
       "prop_location_score1    0.000000\n",
       "prop_location_score2    0.219902\n",
       "price_usd               0.000000\n",
       "click_bool              0.000000\n",
       "booking_bool            0.000000\n",
       "dtype: float64"
      ]
     },
     "execution_count": 26,
     "metadata": {},
     "output_type": "execute_result"
    }
   ],
   "source": [
    "# Show the proportion of null values for each column\n",
    "train.isna().sum()/train.shape[0]"
   ]
  },
  {
   "cell_type": "code",
   "execution_count": null,
   "metadata": {},
   "outputs": [],
   "source": [
    "# Show the distribution of the prop_location_score2 data\n",
    "plt.hist(train['prop_location_score2'])\n",
    "plt.show()"
   ]
  },
  {
   "cell_type": "markdown",
   "metadata": {},
   "source": [
    "Since the above distribution shows outliers, we will use the median to impute the missing values."
   ]
  },
  {
   "cell_type": "code",
   "execution_count": 6,
   "metadata": {},
   "outputs": [],
   "source": [
    "# Impute the missing values of the prop_location_score2 variable\n",
    "train['prop_location_score2'].fillna(np.nanmedian(train['prop_location_score2']),inplace=True)"
   ]
  },
  {
   "cell_type": "code",
   "execution_count": 7,
   "metadata": {},
   "outputs": [],
   "source": [
    "# Merge the click and booking bools\n",
    "train['merge_bool'] = train[['click_bool','booking_bool']].max(axis=1)"
   ]
  },
  {
   "cell_type": "code",
   "execution_count": 8,
   "metadata": {},
   "outputs": [],
   "source": [
    "# Make the validation set\n",
    "validation = train.loc[train['srch_id']%10==1]"
   ]
  },
  {
   "cell_type": "code",
   "execution_count": 9,
   "metadata": {},
   "outputs": [],
   "source": [
    "# Make sure the train set does not contain the validation set\n",
    "train = train.loc[train['srch_id']%10!=1]"
   ]
  },
  {
   "cell_type": "code",
   "execution_count": 37,
   "metadata": {},
   "outputs": [
    {
     "name": "stdout",
     "output_type": "stream",
     "text": [
      "train:  4461683\n",
      "validation:  496664\n"
     ]
    }
   ],
   "source": [
    "# Check the shapes of the train and validation sets\n",
    "print('train: ', train.shape[0])\n",
    "print('validation: ', validation.shape[0])"
   ]
  },
  {
   "cell_type": "code",
   "execution_count": 10,
   "metadata": {},
   "outputs": [],
   "source": [
    "# We subsample the training data\n",
    "sub_1 = train[train['merge_bool'] == 1].sample(5000)\n",
    "sub_0 = train[train['merge_bool'] == 0].sample(5000)\n",
    "sub_even = pd.concat([sub_0, sub_1])"
   ]
  },
  {
   "cell_type": "code",
   "execution_count": 39,
   "metadata": {},
   "outputs": [
    {
     "name": "stdout",
     "output_type": "stream",
     "text": [
      "<class 'pandas.core.frame.DataFrame'>\n",
      "Int64Index: 10000 entries, 3190909 to 2738809\n",
      "Data columns (total 10 columns):\n",
      " #   Column                Non-Null Count  Dtype  \n",
      "---  ------                --------------  -----  \n",
      " 0   srch_id               10000 non-null  int64  \n",
      " 1   prop_id               10000 non-null  int64  \n",
      " 2   srch_destination_id   10000 non-null  int64  \n",
      " 3   prop_starrating       10000 non-null  int64  \n",
      " 4   prop_location_score1  10000 non-null  float64\n",
      " 5   prop_location_score2  10000 non-null  float64\n",
      " 6   price_usd             10000 non-null  float64\n",
      " 7   click_bool            10000 non-null  int64  \n",
      " 8   booking_bool          10000 non-null  int64  \n",
      " 9   merge_bool            10000 non-null  int64  \n",
      "dtypes: float64(3), int64(7)\n",
      "memory usage: 859.4 KB\n"
     ]
    }
   ],
   "source": [
    "sub_even.info()"
   ]
  },
  {
   "cell_type": "markdown",
   "metadata": {},
   "source": [
    "We now try to fit a Logistic Regression model, using 5 and 10-fold cross validation.\n"
   ]
  },
  {
   "cell_type": "code",
   "execution_count": 11,
   "metadata": {},
   "outputs": [],
   "source": [
    "# First we import the necessary functions\n",
    "from sklearn.linear_model import LogisticRegression\n",
    "from sklearn.linear_model import LogisticRegressionCV"
   ]
  },
  {
   "cell_type": "code",
   "execution_count": 12,
   "metadata": {},
   "outputs": [],
   "source": [
    "# Next we define the data and the outcome variables\n",
    "X = sub_even[['prop_starrating','prop_location_score1',\n",
    "              'prop_location_score2','price_usd']]\n",
    "y = sub_even['merge_bool']\n",
    "\n",
    "# Validation set\n",
    "X_val = validation[['prop_starrating','prop_location_score1',\n",
    "              'prop_location_score2','price_usd']]\n",
    "y_val = validation['merge_bool']"
   ]
  },
  {
   "cell_type": "code",
   "execution_count": 13,
   "metadata": {},
   "outputs": [],
   "source": [
    "# Now we fit the model using 5-fold cross-validation\n",
    "clf5 = LogisticRegressionCV(cv=5).fit(X,y)\n",
    "clf10 = LogisticRegressionCV(cv=10).fit(X,y)"
   ]
  },
  {
   "cell_type": "code",
   "execution_count": 14,
   "metadata": {},
   "outputs": [
    {
     "name": "stdout",
     "output_type": "stream",
     "text": [
      "CV5 score : 0.5824\n",
      "CV10 score: 0.5817\n"
     ]
    }
   ],
   "source": [
    "# And show the performance of the model on the cross validated training data\n",
    "print('CV5 score :', clf5.score(X,y))\n",
    "print('CV10 score:', clf10.score(X,y))"
   ]
  },
  {
   "cell_type": "code",
   "execution_count": 15,
   "metadata": {},
   "outputs": [
    {
     "name": "stdout",
     "output_type": "stream",
     "text": [
      "CV5 score : 0.6688606381779231\n",
      "CV10 score: 0.6673525763896719\n"
     ]
    }
   ],
   "source": [
    "# And show the performance of the cv models on the validation set\n",
    "print('CV5 score :', clf5.score(X_val,y_val))\n",
    "print('CV10 score:', clf10.score(X_val,y_val))"
   ]
  },
  {
   "cell_type": "markdown",
   "metadata": {},
   "source": [
    "So it seems we can predict the merge bool reasonably well. The next step is to sort the search queries. Agarwal et al. (2013) have proposed to use the posterior probability directly as the relevance score for a search query.\n",
    "\n",
    "After sorting, we can check whether our implementation of the evaluation metric (NDCG@38) works correctly."
   ]
  },
  {
   "cell_type": "markdown",
   "metadata": {},
   "source": [
    "## Evaluate model using NDCG@38"
   ]
  },
  {
   "cell_type": "markdown",
   "metadata": {},
   "source": [
    "The following explanation of the evaluation metric used here, is taken directly from Agarwal et al. (2013):\n",
    "\n",
    "\"*Learning to rank methods require evaluation metrics that can account not only for class membership of the test set, but also relative ranking of the result. For our study, we use Normalized Discounted Cumulative Gain (NCDG) at position 38. NCDG is a commonly used benchmark in information retrieval [14], and was the measure used to determine the winner of the official Expedia learning to rank contest.*\n",
    "\n",
    "*NDCG is defined in terms of Discounted Cumulative Gain (DCG). For a sequence of documents $X = \\{x_1,\\dots,x_n\\}$ ranked in order of decreasing predicted relevance, and a relevance function $f(x)$, DCG at position $m < n$ is defined as:*\n",
    "\n",
    "\\begin{equation}\n",
    "DCG_m(X) = \\sum_{i=1}^m = \\frac{2^{f(x_i)}-1}{\\log_2(i+1)}\n",
    "\\end{equation}\n",
    "\n",
    "*Normalized DCG simply divides by the best possible DCG for $X$, which is desirable because different test sets may have different best-case DCGs. Hence, NDCG returns a score that falls between zero and one, with one being a perfect score - that is, one where documents display monotonically decreasing relevence scores.*\n",
    "\n",
    "*The relevance score used in our evaluation was also that provided in the official contest:*\n",
    "\n",
    "\\begin{equation}\n",
    "f(x) =\n",
    "\\begin{cases}\n",
    "5,& \\text{if hotel booked}\\\\\n",
    "1,& \\text{if hotel clicked}\\\\\n",
    "0,& \\text{otherwise}\\\\\n",
    "\\end{cases}\n",
    "\\end{equation}\n",
    "\n",
    "*The relevance function highly rewards hotel purchases, and marginally prefers clicks over no user action.*\""
   ]
  },
  {
   "cell_type": "code",
   "execution_count": 76,
   "metadata": {},
   "outputs": [],
   "source": [
    "# Functions\n",
    "def rel_func(clicking_bool,booking_bool):\n",
    "    if booking_bool:\n",
    "        return 5\n",
    "    if clicking_bool:\n",
    "        return 1\n",
    "    else:\n",
    "        return 0\n",
    "\n",
    "def sort_seq(sequence):\n",
    "    score_mat = np.empty([sequence.shape[0]])\n",
    "    i = 0\n",
    "    for _,s in sequence.iterrows():\n",
    "        score_mat[i] = rel_func(s['click_bool'],s['booking_bool'])\n",
    "        i += 1\n",
    "    return np.argsort(score_mat)[::-1]\n",
    "\n",
    "def dcgm38(sequence):\n",
    "    score = 0\n",
    "    i = 1\n",
    "    for _, s in sequence.iterrows():\n",
    "        score += (2**rel_func(s['click_bool'],\\\n",
    "                              s['booking_bool'])-1)/np.log2(i+1)\n",
    "        i += 1\n",
    "    return score"
   ]
  },
  {
   "cell_type": "code",
   "execution_count": 68,
   "metadata": {},
   "outputs": [
    {
     "name": "stdout",
     "output_type": "stream",
     "text": [
      "sampled srch_id:  [329522 120522  64458 273813 307697 316623 211670 307664 288385 249355]\n"
     ]
    }
   ],
   "source": [
    "# We first sample all queries associated with 10 different search IDs\n",
    "n_sample = 10\n",
    "sample_srch_id = np.random.choice(np.unique(train['srch_id']),n_sample,replace=False)\n",
    "print('sampled srch_id: ', sample_srch_id)\n",
    "sample_train = pd.DataFrame()\n",
    "for i in sample_srch_id:\n",
    "    sample_train = pd.concat([sample_train,train.loc[train['srch_id']==i]])\n",
    "    \n",
    "X_sample = sample_train[['prop_starrating','prop_location_score1',\n",
    "              'prop_location_score2','price_usd']]\n",
    "y_sample = sample_train[['prop_starrating','prop_location_score1',\n",
    "              'prop_location_score2','price_usd']]"
   ]
  },
  {
   "cell_type": "code",
   "execution_count": 69,
   "metadata": {},
   "outputs": [],
   "source": [
    "# Sort the queries based on the merge_bool\n",
    "Ay = pd.DataFrame()\n",
    "Ay['srch_id'] = sample_train['srch_id']\n",
    "Ay['booking_bool'] = sample_train['booking_bool']\n",
    "Ay['click_bool'] = sample_train['click_bool']"
   ]
  },
  {
   "cell_type": "code",
   "execution_count": 74,
   "metadata": {},
   "outputs": [],
   "source": [
    "# Next we sort the queries using their associated posterior probabilities of a click and/or purchase\n",
    "# derived from the Logistic Regression model.\n",
    "rel_score5 = clf5.predict_proba(X_sample)\n",
    "rel_score10 = clf10.predict_proba(X_sample)\n",
    "\n",
    "A5 = pd.DataFrame()\n",
    "A5['srch_id'] = sample_train['srch_id']\n",
    "A5['booking_bool'] = sample_train['booking_bool']\n",
    "A5['click_bool'] = sample_train['click_bool']\n",
    "A5['rel_score5'] = rel_score5[:,1]\n",
    "# A5['pred'] = clf5.predict(X_sample)\n",
    "\n",
    "A10 = pd.DataFrame()\n",
    "A10['srch_id'] = sample_train['srch_id']\n",
    "A10['booking_bool'] = sample_train['booking_bool']\n",
    "A10['click_bool'] = sample_train['click_bool']\n",
    "A10['rel_score10'] = rel_score10[:,1]\n",
    "\n",
    "A5_sort = pd.DataFrame()\n",
    "A10_sort = pd.DataFrame()\n",
    "# Sort\n",
    "for i in sample_srch_id:\n",
    "    A5_sort = pd.concat([A5_sort,A5.loc[A5['srch_id']==i].sort_values(by='rel_score5',ascending=False)])\n",
    "    A10_sort = pd.concat([A10_sort,A10.loc[A10['srch_id']==i].sort_values(by='rel_score10',ascending=False)])"
   ]
  },
  {
   "cell_type": "code",
   "execution_count": 86,
   "metadata": {},
   "outputs": [
    {
     "name": "stdout",
     "output_type": "stream",
     "text": [
      "DCG unsorted : [ 6.76123305  7.93469877 31.          0.33333333  7.93469877  9.77941118\n",
      "  0.38685281 19.55882236  1.         15.5       ]\n",
      "DCG sorted   : [31. 31. 31.  1. 31. 31.  1. 31.  1. 31.]\n",
      "mean NDCG unsorted: 0.4896601112530224\n",
      "mean NDCG sorted  : 1.0\n"
     ]
    }
   ],
   "source": [
    "dcgm = np.empty(n_sample)\n",
    "best = np.empty(n_sample)\n",
    "for i in range(n_sample):\n",
    "    dcgm[i] = dcgm38(A5_sort.loc[A5_sort['srch_id']==sample_srch_id[i]])\n",
    "    A = sort_seq(Ay.loc[Ay['srch_id']==sample_srch_id[i]])\n",
    "    best[i] = dcgm38(Ay.loc[Ay['srch_id']==sample_srch_id[i]].iloc[A])\n",
    "    \n",
    "print('DCG unsorted :', dcgm)\n",
    "print('DCG sorted   :', best)\n",
    "print('mean NDCG unsorted:', np.mean(np.divide(dcgm, best)))\n",
    "print('mean NDCG sorted  :', np.mean(np.divide(best, best)))"
   ]
  },
  {
   "cell_type": "markdown",
   "metadata": {},
   "source": [
    "Note that the NDCG score of almost 0.49 seems way too high(!) so this is very likely to have been a lucky draw."
   ]
  }
 ],
 "metadata": {
  "kernelspec": {
   "display_name": "Python 3",
   "language": "python",
   "name": "python3"
  },
  "language_info": {
   "codemirror_mode": {
    "name": "ipython",
    "version": 3
   },
   "file_extension": ".py",
   "mimetype": "text/x-python",
   "name": "python",
   "nbconvert_exporter": "python",
   "pygments_lexer": "ipython3",
   "version": "3.7.7"
  }
 },
 "nbformat": 4,
 "nbformat_minor": 4
}
