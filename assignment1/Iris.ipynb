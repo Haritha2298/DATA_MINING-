{
 "cells": [
  {
   "cell_type": "code",
   "execution_count": 48,
   "metadata": {},
   "outputs": [],
   "source": [
    "import seaborn as sns\n",
    "import pandas as pd\n",
    "from scipy import stats\n",
    "import numpy as np\n",
    "import seaborn as sns\n",
    "import statistics as s\n",
    "\n",
    "# import from matplotlib\n",
    "import matplotlib.pyplot as plt\n",
    "from matplotlib.patches import Patch\n",
    "\n",
    "# import from sklearn\n",
    "from sklearn.model_selection import train_test_split \n",
    "from sklearn import metrics\n",
    "\n",
    "# import models from sklearn\n",
    "from sklearn.linear_model import LinearRegression\n",
    "from sklearn.linear_model import LogisticRegression\n",
    "from sklearn.tree import DecisionTreeClassifier\n",
    "from sklearn.ensemble import RandomForestClassifier\n",
    "from sklearn.naive_bayes import GaussianNB"
   ]
  },
  {
   "cell_type": "code",
   "execution_count": 49,
   "metadata": {},
   "outputs": [
    {
     "data": {
      "text/html": [
       "<div>\n",
       "<style scoped>\n",
       "    .dataframe tbody tr th:only-of-type {\n",
       "        vertical-align: middle;\n",
       "    }\n",
       "\n",
       "    .dataframe tbody tr th {\n",
       "        vertical-align: top;\n",
       "    }\n",
       "\n",
       "    .dataframe thead th {\n",
       "        text-align: right;\n",
       "    }\n",
       "</style>\n",
       "<table border=\"1\" class=\"dataframe\">\n",
       "  <thead>\n",
       "    <tr style=\"text-align: right;\">\n",
       "      <th></th>\n",
       "      <th>sepal_length</th>\n",
       "      <th>sepal_width</th>\n",
       "      <th>petal_length</th>\n",
       "      <th>petal_width</th>\n",
       "      <th>species</th>\n",
       "    </tr>\n",
       "  </thead>\n",
       "  <tbody>\n",
       "    <tr>\n",
       "      <th>0</th>\n",
       "      <td>5.1</td>\n",
       "      <td>3.5</td>\n",
       "      <td>1.4</td>\n",
       "      <td>0.2</td>\n",
       "      <td>Iris-setosa</td>\n",
       "    </tr>\n",
       "    <tr>\n",
       "      <th>1</th>\n",
       "      <td>4.9</td>\n",
       "      <td>3.0</td>\n",
       "      <td>1.4</td>\n",
       "      <td>0.2</td>\n",
       "      <td>Iris-setosa</td>\n",
       "    </tr>\n",
       "    <tr>\n",
       "      <th>2</th>\n",
       "      <td>4.7</td>\n",
       "      <td>3.2</td>\n",
       "      <td>1.3</td>\n",
       "      <td>0.2</td>\n",
       "      <td>Iris-setosa</td>\n",
       "    </tr>\n",
       "    <tr>\n",
       "      <th>3</th>\n",
       "      <td>4.6</td>\n",
       "      <td>3.1</td>\n",
       "      <td>1.5</td>\n",
       "      <td>0.2</td>\n",
       "      <td>Iris-setosa</td>\n",
       "    </tr>\n",
       "    <tr>\n",
       "      <th>4</th>\n",
       "      <td>5.0</td>\n",
       "      <td>3.6</td>\n",
       "      <td>1.4</td>\n",
       "      <td>0.2</td>\n",
       "      <td>Iris-setosa</td>\n",
       "    </tr>\n",
       "  </tbody>\n",
       "</table>\n",
       "</div>"
      ],
      "text/plain": [
       "   sepal_length  sepal_width  petal_length  petal_width      species\n",
       "0           5.1          3.5           1.4          0.2  Iris-setosa\n",
       "1           4.9          3.0           1.4          0.2  Iris-setosa\n",
       "2           4.7          3.2           1.3          0.2  Iris-setosa\n",
       "3           4.6          3.1           1.5          0.2  Iris-setosa\n",
       "4           5.0          3.6           1.4          0.2  Iris-setosa"
      ]
     },
     "execution_count": 49,
     "metadata": {},
     "output_type": "execute_result"
    }
   ],
   "source": [
    "df = pd.read_csv('IRIS.csv')\n",
    "df.head()"
   ]
  },
  {
   "cell_type": "code",
   "execution_count": 50,
   "metadata": {},
   "outputs": [
    {
     "data": {
      "text/plain": [
       "sepal_length    0\n",
       "sepal_width     0\n",
       "petal_length    0\n",
       "petal_width     0\n",
       "species         0\n",
       "dtype: int64"
      ]
     },
     "execution_count": 50,
     "metadata": {},
     "output_type": "execute_result"
    }
   ],
   "source": [
    "# count missing values in each column\n",
    "df.isnull().sum()"
   ]
  },
  {
   "cell_type": "code",
   "execution_count": 51,
   "metadata": {},
   "outputs": [
    {
     "name": "stdout",
     "output_type": "stream",
     "text": [
      "Instances: 150\n"
     ]
    }
   ],
   "source": [
    "# count instances\n",
    "print('Instances:', len(df))"
   ]
  },
  {
   "cell_type": "code",
   "execution_count": 52,
   "metadata": {},
   "outputs": [
    {
     "name": "stdout",
     "output_type": "stream",
     "text": [
      "counts: Iris-versicolor    50\n",
      "Iris-setosa        50\n",
      "Iris-virginica     50\n",
      "Name: species, dtype: int64\n"
     ]
    },
    {
     "name": "stderr",
     "output_type": "stream",
     "text": [
      "C:\\Users\\Gebruiker\\Anaconda3\\lib\\site-packages\\ipykernel_launcher.py:6: MatplotlibDeprecationWarning: Adding an axes using the same arguments as a previous axes currently reuses the earlier instance.  In a future version, a new instance will always be created and returned.  Meanwhile, this warning can be suppressed, and the future behavior ensured, by passing a unique label to each axes instance.\n",
      "  \n"
     ]
    },
    {
     "data": {
      "text/plain": [
       "Text(0, 0.5, '')"
      ]
     },
     "execution_count": 52,
     "metadata": {},
     "output_type": "execute_result"
    },
    {
     "data": {
      "image/png": "[encoded data removed]",
      "text/plain": [
       "<Figure size 432x288 with 1 Axes>"
      ]
     },
     "metadata": {},
     "output_type": "display_data"
    }
   ],
   "source": [
    "# create pie plot of species\n",
    "counts = df['species'].value_counts()\n",
    "print('counts:', counts)\n",
    "counts.plot(kind = 'pie', autopct='%1.1f%%')\n",
    "plt.title('Species', y=1.08)\n",
    "plt.axes().set_ylabel('')"
   ]
  },
  {
   "cell_type": "code",
   "execution_count": 53,
   "metadata": {},
   "outputs": [
    {
     "data": {
      "text/plain": [
       "<matplotlib.axes._subplots.AxesSubplot at 0x2a26932b248>"
      ]
     },
     "execution_count": 53,
     "metadata": {},
     "output_type": "execute_result"
    },
    {
     "data": {
      "image/png": "[encoded data removed]",
      "text/plain": [
       "<Figure size 432x288 with 1 Axes>"
      ]
     },
     "metadata": {
      "needs_background": "light"
     },
     "output_type": "display_data"
    }
   ],
   "source": [
    "# find means of characteristics by species\n",
    "means = df.groupby(['species']).mean()\n",
    "means\n",
    "means.plot(kind = 'bar')"
   ]
  },
  {
   "cell_type": "code",
   "execution_count": 54,
   "metadata": {},
   "outputs": [
    {
     "data": {
      "text/plain": [
       "<matplotlib.axes._subplots.AxesSubplot at 0x2a2693abf08>"
      ]
     },
     "execution_count": 54,
     "metadata": {},
     "output_type": "execute_result"
    },
    {
     "data": {
      "image/png": "[encoded data removed]",
      "text/plain": [
       "<Figure size 432x288 with 1 Axes>"
      ]
     },
     "metadata": {
      "needs_background": "light"
     },
     "output_type": "display_data"
    }
   ],
   "source": [
    "# find means of characteristics by species\n",
    "stds = df.groupby(['species']).std()\n",
    "stds\n",
    "stds.plot(kind = 'bar')"
   ]
  },
  {
   "cell_type": "code",
   "execution_count": 55,
   "metadata": {},
   "outputs": [
    {
     "data": {
      "text/plain": [
       "array([[<matplotlib.axes._subplots.AxesSubplot object at 0x000002A2693F6A08>,\n",
       "        <matplotlib.axes._subplots.AxesSubplot object at 0x000002A2694622C8>],\n",
       "       [<matplotlib.axes._subplots.AxesSubplot object at 0x000002A26941AB08>,\n",
       "        <matplotlib.axes._subplots.AxesSubplot object at 0x000002A2694CA448>]],\n",
       "      dtype=object)"
      ]
     },
     "execution_count": 55,
     "metadata": {},
     "output_type": "execute_result"
    },
    {
     "data": {
      "image/png": "[encoded data removed]",
      "text/plain": [
       "<Figure size 720x720 with 4 Axes>"
      ]
     },
     "metadata": {
      "needs_background": "light"
     },
     "output_type": "display_data"
    }
   ],
   "source": [
    "# plot distributions of characteristics\n",
    "df.plot.hist(subplots=True, layout=(2,2), figsize=(10, 10), bins=20)"
   ]
  },
  {
   "cell_type": "code",
   "execution_count": 56,
   "metadata": {},
   "outputs": [
    {
     "data": {
      "image/png": "[encoded data removed]",
      "text/plain": [
       "<Figure size 432x288 with 1 Axes>"
      ]
     },
     "metadata": {
      "needs_background": "light"
     },
     "output_type": "display_data"
    }
   ],
   "source": [
    "# temporary dataframes by species\n",
    "df_setosa = df[df['species'] == 'Iris-setosa']\n",
    "df_versicolor = df[df['species'] == 'Iris-versicolor']\n",
    "df_virginica = df[df['species'] == 'Iris-virginica']\n",
    "\n",
    "# subplotting made the text unreadible, so I made four seperate histograms below\n",
    "# histogram sepal lengths\n",
    "plt.hist(df_setosa['sepal_length'], 10, alpha=0.75, edgecolor='black', linewidth=0.5, label='Iris Setosa')\n",
    "plt.hist(df_versicolor['sepal_length'], 10, alpha=0.75, edgecolor='black', linewidth=0.5, label='Iris Versicolor')\n",
    "plt.hist(df_virginica['sepal_length'], 10, alpha=0.75, edgecolor='black', linewidth=0.5, label='Iris Virginica')\n",
    "plt.legend(loc='upper right')\n",
    "plt.title('Sepal lengths in cm')\n",
    "plt.show()\n",
    "#plt.savefig('sepal_lengths(1).jpg')"
   ]
  },
  {
   "cell_type": "code",
   "execution_count": 57,
   "metadata": {},
   "outputs": [
    {
     "data": {
      "image/png": "[encoded data removed]",
      "text/plain": [
       "<Figure size 432x288 with 1 Axes>"
      ]
     },
     "metadata": {
      "needs_background": "light"
     },
     "output_type": "display_data"
    }
   ],
   "source": [
    "# histogram sepal widths\n",
    "plt.hist(df_setosa['sepal_width'], 10, alpha=0.75, edgecolor='black', linewidth=0.5, label='Iris Setosa')\n",
    "plt.hist(df_versicolor['sepal_width'], 10, alpha=0.75, edgecolor='black', linewidth=0.5, label='Iris Versicolor')\n",
    "plt.hist(df_virginica['sepal_width'], 10, alpha=0.75, edgecolor='black', linewidth=0.5, label='Iris Virginica')\n",
    "plt.legend(loc='upper right')\n",
    "plt.title('Sepal widths in cm')\n",
    "plt.show()\n",
    "#plt.savefig('sepal_widths(2).jpg')"
   ]
  },
  {
   "cell_type": "code",
   "execution_count": 58,
   "metadata": {},
   "outputs": [
    {
     "data": {
      "image/png": "[encoded data removed]",
      "text/plain": [
       "<Figure size 432x288 with 1 Axes>"
      ]
     },
     "metadata": {
      "needs_background": "light"
     },
     "output_type": "display_data"
    }
   ],
   "source": [
    "# histogram petal lengths\n",
    "plt.hist(df_setosa['petal_length'], 10, alpha=0.75, edgecolor='black', linewidth=0.75, label='Iris Setosa')\n",
    "plt.hist(df_versicolor['petal_length'], 10, alpha=0.75, edgecolor='black', linewidth=0.75, label='Iris Versicolor')\n",
    "plt.hist(df_virginica['petal_length'], 10, alpha=0.75, edgecolor='black', linewidth=0.75, label='Iris Virginica')\n",
    "plt.legend(loc='upper right')\n",
    "plt.title('Petal lengths in cm')\n",
    "plt.show()\n",
    "#plt.savefig('petal_widths(3).jpg')"
   ]
  },
  {
   "cell_type": "code",
   "execution_count": 59,
   "metadata": {},
   "outputs": [
    {
     "data": {
      "image/png": "[encoded data removed]",
      "text/plain": [
       "<Figure size 432x288 with 1 Axes>"
      ]
     },
     "metadata": {
      "needs_background": "light"
     },
     "output_type": "display_data"
    }
   ],
   "source": [
    "# histogram petal widths\n",
    "plt.hist(df_setosa['petal_width'], 10, alpha=0.75, edgecolor='black', linewidth=0.75, label='Iris Setosa')\n",
    "plt.hist(df_versicolor['petal_width'], 10, alpha=0.75, edgecolor='black', linewidth=0.75, label='Iris Versicolor')\n",
    "plt.hist(df_virginica['petal_width'], 10, alpha=0.75, edgecolor='black', linewidth=0.75, label='Iris Virginica')\n",
    "plt.legend(loc='upper right')\n",
    "plt.title('Petal widths in cm')\n",
    "plt.show()\n",
    "#plt.savefig('petal_lengths(4).jpg')"
   ]
  },
  {
   "cell_type": "code",
   "execution_count": null,
   "metadata": {},
   "outputs": [],
   "source": []
  },
  {
   "cell_type": "code",
   "execution_count": null,
   "metadata": {},
   "outputs": [],
   "source": []
  },
  {
   "cell_type": "code",
   "execution_count": 60,
   "metadata": {},
   "outputs": [
    {
     "data": {
      "text/html": [
       "<div>\n",
       "<style scoped>\n",
       "    .dataframe tbody tr th:only-of-type {\n",
       "        vertical-align: middle;\n",
       "    }\n",
       "\n",
       "    .dataframe tbody tr th {\n",
       "        vertical-align: top;\n",
       "    }\n",
       "\n",
       "    .dataframe thead th {\n",
       "        text-align: right;\n",
       "    }\n",
       "</style>\n",
       "<table border=\"1\" class=\"dataframe\">\n",
       "  <thead>\n",
       "    <tr style=\"text-align: right;\">\n",
       "      <th></th>\n",
       "      <th>sepal_length</th>\n",
       "      <th>sepal_width</th>\n",
       "      <th>petal_length</th>\n",
       "      <th>petal_width</th>\n",
       "    </tr>\n",
       "  </thead>\n",
       "  <tbody>\n",
       "    <tr>\n",
       "      <th>count</th>\n",
       "      <td>150.000000</td>\n",
       "      <td>150.000000</td>\n",
       "      <td>150.000000</td>\n",
       "      <td>150.000000</td>\n",
       "    </tr>\n",
       "    <tr>\n",
       "      <th>mean</th>\n",
       "      <td>5.843333</td>\n",
       "      <td>3.054000</td>\n",
       "      <td>3.758667</td>\n",
       "      <td>1.198667</td>\n",
       "    </tr>\n",
       "    <tr>\n",
       "      <th>std</th>\n",
       "      <td>0.828066</td>\n",
       "      <td>0.433594</td>\n",
       "      <td>1.764420</td>\n",
       "      <td>0.763161</td>\n",
       "    </tr>\n",
       "    <tr>\n",
       "      <th>min</th>\n",
       "      <td>4.300000</td>\n",
       "      <td>2.000000</td>\n",
       "      <td>1.000000</td>\n",
       "      <td>0.100000</td>\n",
       "    </tr>\n",
       "    <tr>\n",
       "      <th>25%</th>\n",
       "      <td>5.100000</td>\n",
       "      <td>2.800000</td>\n",
       "      <td>1.600000</td>\n",
       "      <td>0.300000</td>\n",
       "    </tr>\n",
       "    <tr>\n",
       "      <th>50%</th>\n",
       "      <td>5.800000</td>\n",
       "      <td>3.000000</td>\n",
       "      <td>4.350000</td>\n",
       "      <td>1.300000</td>\n",
       "    </tr>\n",
       "    <tr>\n",
       "      <th>75%</th>\n",
       "      <td>6.400000</td>\n",
       "      <td>3.300000</td>\n",
       "      <td>5.100000</td>\n",
       "      <td>1.800000</td>\n",
       "    </tr>\n",
       "    <tr>\n",
       "      <th>max</th>\n",
       "      <td>7.900000</td>\n",
       "      <td>4.400000</td>\n",
       "      <td>6.900000</td>\n",
       "      <td>2.500000</td>\n",
       "    </tr>\n",
       "  </tbody>\n",
       "</table>\n",
       "</div>"
      ],
      "text/plain": [
       "       sepal_length  sepal_width  petal_length  petal_width\n",
       "count    150.000000   150.000000    150.000000   150.000000\n",
       "mean       5.843333     3.054000      3.758667     1.198667\n",
       "std        0.828066     0.433594      1.764420     0.763161\n",
       "min        4.300000     2.000000      1.000000     0.100000\n",
       "25%        5.100000     2.800000      1.600000     0.300000\n",
       "50%        5.800000     3.000000      4.350000     1.300000\n",
       "75%        6.400000     3.300000      5.100000     1.800000\n",
       "max        7.900000     4.400000      6.900000     2.500000"
      ]
     },
     "execution_count": 60,
     "metadata": {},
     "output_type": "execute_result"
    }
   ],
   "source": [
    "# descriptive statistics\n",
    "df.describe()"
   ]
  },
  {
   "cell_type": "code",
   "execution_count": 61,
   "metadata": {},
   "outputs": [
    {
     "name": "stdout",
     "output_type": "stream",
     "text": [
      "outliers Iris-setosa:\n",
      "sepal_length    0\n",
      "sepal_width     0\n",
      "petal_length    0\n",
      "petal_width     0\n",
      "dtype: int64\n",
      "outliers versicolor:\n",
      "sepal_length    0\n",
      "sepal_width     0\n",
      "petal_length    0\n",
      "petal_width     0\n",
      "dtype: int64\n",
      "outliers virginica:\n",
      "sepal_length    0\n",
      "sepal_width     0\n",
      "petal_length    0\n",
      "petal_width     0\n",
      "dtype: int64\n"
     ]
    }
   ],
   "source": [
    "# count the amount of outliers for every characteristic by species\n",
    "species = ['Iris-setosa', 'versicolor', 'virginica']\n",
    "\n",
    "for i in range(0, len(species)):\n",
    "    sp_df = df[df['species'] == 'Iris-setosa']\n",
    "    del sp_df['species']\n",
    "    print(f'outliers {species[i]}:')\n",
    "    outliers = sp_df[(np.abs(stats.zscore(sp_df)) >= 3).all(axis=1)]\n",
    "    print(outliers.count())\n"
   ]
  },
  {
   "cell_type": "code",
   "execution_count": 62,
   "metadata": {},
   "outputs": [
    {
     "data": {
      "text/plain": [
       "<seaborn.axisgrid.PairGrid at 0x2a26aae3388>"
      ]
     },
     "execution_count": 62,
     "metadata": {},
     "output_type": "execute_result"
    },
    {
     "data": {
      "image/png": "[encoded data removed]",
      "text/plain": [
       "<Figure size 720x720 with 20 Axes>"
      ]
     },
     "metadata": {
      "needs_background": "light"
     },
     "output_type": "display_data"
    }
   ],
   "source": [
    "# pairplot\n",
    "sns.pairplot(df)"
   ]
  },
  {
   "cell_type": "code",
   "execution_count": 63,
   "metadata": {},
   "outputs": [
    {
     "name": "stdout",
     "output_type": "stream",
     "text": [
      "              sepal_length  sepal_width  petal_length  petal_width\n",
      "sepal_length      1.000000    -0.109369      0.871754     0.817954\n",
      "sepal_width      -0.109369     1.000000     -0.420516    -0.356544\n",
      "petal_length      0.871754    -0.420516      1.000000     0.962757\n",
      "petal_width       0.817954    -0.356544      0.962757     1.000000\n"
     ]
    }
   ],
   "source": [
    "# correlations\n",
    "corr = df.corr()\n",
    "print(corr)"
   ]
  },
  {
   "cell_type": "code",
   "execution_count": 64,
   "metadata": {},
   "outputs": [
    {
     "data": {
      "text/plain": [
       "(array([0.5, 1.5, 2.5, 3.5]), <a list of 4 Text xticklabel objects>)"
      ]
     },
     "execution_count": 64,
     "metadata": {},
     "output_type": "execute_result"
    },
    {
     "data": {
      "image/png": "[encoded data removed]",
      "text/plain": [
       "<Figure size 432x288 with 2 Axes>"
      ]
     },
     "metadata": {
      "needs_background": "light"
     },
     "output_type": "display_data"
    }
   ],
   "source": [
    "# correlations visualised\n",
    "sns.heatmap(df.corr(), annot = True, cmap= 'coolwarm')\n",
    "plt.yticks(rotation=0) \n",
    "plt.xticks(rotation=45) "
   ]
  },
  {
   "cell_type": "code",
   "execution_count": 65,
   "metadata": {},
   "outputs": [
    {
     "name": "stdout",
     "output_type": "stream",
     "text": [
      "[-0.37635649]\n",
      "[[0.42118973]]\n"
     ]
    }
   ],
   "source": [
    "# linear regression between petal length and petal width\n",
    "X = df['petal_length'].values.reshape(-1,1)\n",
    "y = df['petal_width'].values.reshape(-1,1)\n",
    "X_train, X_test, y_train, y_test = train_test_split(X, y, test_size=0.2, random_state=0)\n",
    "regressor = LinearRegression()  \n",
    "regressor.fit(X_train, y_train) #training the algorithm\n",
    "#To retrieve the intercept:\n",
    "print(regressor.intercept_)\n",
    "#For retrieving the slope:\n",
    "print(regressor.coef_)\n",
    "y_pred = regressor.predict(X_test)"
   ]
  },
  {
   "cell_type": "code",
   "execution_count": 66,
   "metadata": {},
   "outputs": [
    {
     "data": {
      "text/html": [
       "<div>\n",
       "<style scoped>\n",
       "    .dataframe tbody tr th:only-of-type {\n",
       "        vertical-align: middle;\n",
       "    }\n",
       "\n",
       "    .dataframe tbody tr th {\n",
       "        vertical-align: top;\n",
       "    }\n",
       "\n",
       "    .dataframe thead th {\n",
       "        text-align: right;\n",
       "    }\n",
       "</style>\n",
       "<table border=\"1\" class=\"dataframe\">\n",
       "  <thead>\n",
       "    <tr style=\"text-align: right;\">\n",
       "      <th></th>\n",
       "      <th>Actual</th>\n",
       "      <th>Predicted</th>\n",
       "    </tr>\n",
       "  </thead>\n",
       "  <tbody>\n",
       "    <tr>\n",
       "      <th>0</th>\n",
       "      <td>2.4</td>\n",
       "      <td>1.771711</td>\n",
       "    </tr>\n",
       "    <tr>\n",
       "      <th>1</th>\n",
       "      <td>1.0</td>\n",
       "      <td>1.308402</td>\n",
       "    </tr>\n",
       "    <tr>\n",
       "      <th>2</th>\n",
       "      <td>0.2</td>\n",
       "      <td>0.213309</td>\n",
       "    </tr>\n",
       "    <tr>\n",
       "      <th>3</th>\n",
       "      <td>1.8</td>\n",
       "      <td>2.277139</td>\n",
       "    </tr>\n",
       "    <tr>\n",
       "      <th>4</th>\n",
       "      <td>0.2</td>\n",
       "      <td>0.255428</td>\n",
       "    </tr>\n",
       "    <tr>\n",
       "      <th>5</th>\n",
       "      <td>2.5</td>\n",
       "      <td>2.150782</td>\n",
       "    </tr>\n",
       "    <tr>\n",
       "      <th>6</th>\n",
       "      <td>0.3</td>\n",
       "      <td>0.171190</td>\n",
       "    </tr>\n",
       "    <tr>\n",
       "      <th>7</th>\n",
       "      <td>1.5</td>\n",
       "      <td>1.603235</td>\n",
       "    </tr>\n",
       "    <tr>\n",
       "      <th>8</th>\n",
       "      <td>1.4</td>\n",
       "      <td>1.645354</td>\n",
       "    </tr>\n",
       "    <tr>\n",
       "      <th>9</th>\n",
       "      <td>1.3</td>\n",
       "      <td>1.308402</td>\n",
       "    </tr>\n",
       "    <tr>\n",
       "      <th>10</th>\n",
       "      <td>1.4</td>\n",
       "      <td>1.982306</td>\n",
       "    </tr>\n",
       "    <tr>\n",
       "      <th>11</th>\n",
       "      <td>1.5</td>\n",
       "      <td>1.518997</td>\n",
       "    </tr>\n",
       "    <tr>\n",
       "      <th>12</th>\n",
       "      <td>1.2</td>\n",
       "      <td>1.603235</td>\n",
       "    </tr>\n",
       "    <tr>\n",
       "      <th>13</th>\n",
       "      <td>1.5</td>\n",
       "      <td>1.561116</td>\n",
       "    </tr>\n",
       "    <tr>\n",
       "      <th>14</th>\n",
       "      <td>1.4</td>\n",
       "      <td>1.603235</td>\n",
       "    </tr>\n",
       "    <tr>\n",
       "      <th>15</th>\n",
       "      <td>0.1</td>\n",
       "      <td>0.255428</td>\n",
       "    </tr>\n",
       "    <tr>\n",
       "      <th>16</th>\n",
       "      <td>1.5</td>\n",
       "      <td>1.518997</td>\n",
       "    </tr>\n",
       "    <tr>\n",
       "      <th>17</th>\n",
       "      <td>1.2</td>\n",
       "      <td>1.476878</td>\n",
       "    </tr>\n",
       "    <tr>\n",
       "      <th>18</th>\n",
       "      <td>0.3</td>\n",
       "      <td>0.213309</td>\n",
       "    </tr>\n",
       "    <tr>\n",
       "      <th>19</th>\n",
       "      <td>0.4</td>\n",
       "      <td>0.171190</td>\n",
       "    </tr>\n",
       "    <tr>\n",
       "      <th>20</th>\n",
       "      <td>2.0</td>\n",
       "      <td>1.687473</td>\n",
       "    </tr>\n",
       "    <tr>\n",
       "      <th>21</th>\n",
       "      <td>1.5</td>\n",
       "      <td>1.518997</td>\n",
       "    </tr>\n",
       "    <tr>\n",
       "      <th>22</th>\n",
       "      <td>0.2</td>\n",
       "      <td>0.423904</td>\n",
       "    </tr>\n",
       "    <tr>\n",
       "      <th>23</th>\n",
       "      <td>0.2</td>\n",
       "      <td>0.213309</td>\n",
       "    </tr>\n",
       "    <tr>\n",
       "      <th>24</th>\n",
       "      <td>1.8</td>\n",
       "      <td>1.645354</td>\n",
       "    </tr>\n",
       "    <tr>\n",
       "      <th>25</th>\n",
       "      <td>0.2</td>\n",
       "      <td>0.044833</td>\n",
       "    </tr>\n",
       "    <tr>\n",
       "      <th>26</th>\n",
       "      <td>0.4</td>\n",
       "      <td>0.423904</td>\n",
       "    </tr>\n",
       "    <tr>\n",
       "      <th>27</th>\n",
       "      <td>1.3</td>\n",
       "      <td>1.434759</td>\n",
       "    </tr>\n",
       "    <tr>\n",
       "      <th>28</th>\n",
       "      <td>1.0</td>\n",
       "      <td>1.013570</td>\n",
       "    </tr>\n",
       "    <tr>\n",
       "      <th>29</th>\n",
       "      <td>0.4</td>\n",
       "      <td>0.297547</td>\n",
       "    </tr>\n",
       "  </tbody>\n",
       "</table>\n",
       "</div>"
      ],
      "text/plain": [
       "    Actual  Predicted\n",
       "0      2.4   1.771711\n",
       "1      1.0   1.308402\n",
       "2      0.2   0.213309\n",
       "3      1.8   2.277139\n",
       "4      0.2   0.255428\n",
       "5      2.5   2.150782\n",
       "6      0.3   0.171190\n",
       "7      1.5   1.603235\n",
       "8      1.4   1.645354\n",
       "9      1.3   1.308402\n",
       "10     1.4   1.982306\n",
       "11     1.5   1.518997\n",
       "12     1.2   1.603235\n",
       "13     1.5   1.561116\n",
       "14     1.4   1.603235\n",
       "15     0.1   0.255428\n",
       "16     1.5   1.518997\n",
       "17     1.2   1.476878\n",
       "18     0.3   0.213309\n",
       "19     0.4   0.171190\n",
       "20     2.0   1.687473\n",
       "21     1.5   1.518997\n",
       "22     0.2   0.423904\n",
       "23     0.2   0.213309\n",
       "24     1.8   1.645354\n",
       "25     0.2   0.044833\n",
       "26     0.4   0.423904\n",
       "27     1.3   1.434759\n",
       "28     1.0   1.013570\n",
       "29     0.4   0.297547"
      ]
     },
     "execution_count": 66,
     "metadata": {},
     "output_type": "execute_result"
    }
   ],
   "source": [
    "# print the actual datapoints and the predictions\n",
    "df2 = pd.DataFrame({'Actual': y_test.flatten(), 'Predicted': y_pred.flatten()})\n",
    "df2"
   ]
  },
  {
   "cell_type": "code",
   "execution_count": 67,
   "metadata": {},
   "outputs": [
    {
     "data": {
      "image/png": "[encoded data removed]",
      "text/plain": [
       "<Figure size 432x288 with 1 Axes>"
      ]
     },
     "metadata": {
      "needs_background": "light"
     },
     "output_type": "display_data"
    }
   ],
   "source": [
    "# visualise the outome of linear regression\n",
    "plt.scatter(X_test, y_test,  color='green')\n",
    "plt.plot(X_test, y_pred, color='gray', linewidth=2)\n",
    "plt.title(\"Prediction line vs. actual data\")\n",
    "plt.xlabel(\"Petal length\")\n",
    "plt.ylabel(\"Petal width\")\n",
    "plt.show()"
   ]
  },
  {
   "cell_type": "code",
   "execution_count": null,
   "metadata": {},
   "outputs": [],
   "source": []
  },
  {
   "cell_type": "code",
   "execution_count": 68,
   "metadata": {},
   "outputs": [
    {
     "name": "stdout",
     "output_type": "stream",
     "text": [
      "Mean Absolute Error: 0.18355058283010275\n",
      "Mean Squared Error: 0.06213731552896662\n"
     ]
    }
   ],
   "source": [
    "# print the MAE and the MSE\n",
    "print('Mean Absolute Error:', metrics.mean_absolute_error(y_test, y_pred))  \n",
    "print('Mean Squared Error:', metrics.mean_squared_error(y_test, y_pred)) "
   ]
  },
  {
   "cell_type": "code",
   "execution_count": 69,
   "metadata": {},
   "outputs": [
    {
     "name": "stdout",
     "output_type": "stream",
     "text": [
      "Mean Absolute Error: 0.1416797541823147\n",
      "Mean Squared Error: 0.03143458653837525\n",
      "Mean Absolute Error: 0.13342015554769968\n",
      "Mean Squared Error: 0.0385900690093474\n",
      "Mean Absolute Error: 0.18141609547246748\n",
      "Mean Squared Error: 0.04708807239220683\n",
      "Mean Absolute Error: 0.18135214140970038\n",
      "Mean Squared Error: 0.05702974086283286\n",
      "Mean Absolute Error: 0.15159810959264555\n",
      "Mean Squared Error: 0.03876546548267097\n",
      "Mean MAE: 0.15789325124096557\n",
      "St. dev. MAE: 0.022389073432945522\n",
      "Mean MSE: 0.04258158685708666\n",
      "St. dev. MSE: 0.009795511462277673\n"
     ]
    }
   ],
   "source": [
    "# now the same process, but with 5-fold cross validation\n",
    "df_shuffle = df.sample(frac=1).reset_index(drop=True)\n",
    "\n",
    "# divide into 5 folds\n",
    "fold1 = df_shuffle.loc[0:29]\n",
    "fold2 = df_shuffle.loc[30:59]\n",
    "fold3 = df_shuffle.loc[60:89]\n",
    "fold4 = df_shuffle.loc[90:119]\n",
    "fold5 = df_shuffle.loc[120:149]\n",
    "\n",
    "MAEs = []\n",
    "MSEs = []\n",
    "\n",
    "for i in range(0, 5):\n",
    "    folds = [fold1, fold2, fold3, fold4, fold5]\n",
    "    test = folds[i]\n",
    "    del folds[i]\n",
    "    train_set = pd.concat([folds[0], folds[1], folds[2], folds[3]])\n",
    "    X_train, X_test, y_train, y_test = train_set['petal_length'].values.reshape(-1,1), test['petal_length'].values.reshape(-1,1) , train_set['petal_width'].values.reshape(-1,1), test['petal_width'].values.reshape(-1,1)\n",
    "    regressor.fit(X_train, y_train)\n",
    "    y_pred = regressor.predict(X_test)\n",
    "    MAE = metrics.mean_absolute_error(y_test, y_pred) \n",
    "    MSE = metrics.mean_squared_error(y_test, y_pred)\n",
    "    print('Mean Absolute Error:', MAE)  \n",
    "    print('Mean Squared Error:', MSE)\n",
    "    MAEs.append(MAE)\n",
    "    MSEs.append(MSE)\n",
    "\n",
    "# print the eventual outcomes after five folds\n",
    "print('Mean MAE:', s.mean(MAEs))\n",
    "print('St. dev. MAE:', s.stdev(MAEs))\n",
    "print('Mean MSE:', s.mean(MSEs))\n",
    "print('St. dev. MSE:', s.stdev(MSEs))\n",
    "    \n"
   ]
  },
  {
   "cell_type": "code",
   "execution_count": null,
   "metadata": {},
   "outputs": [],
   "source": []
  },
  {
   "cell_type": "code",
   "execution_count": null,
   "metadata": {},
   "outputs": [],
   "source": []
  },
  {
   "cell_type": "code",
   "execution_count": null,
   "metadata": {},
   "outputs": [],
   "source": []
  },
  {
   "cell_type": "code",
   "execution_count": 70,
   "metadata": {},
   "outputs": [],
   "source": [
    "# assign every species their own color\n",
    "df_colours = df.replace(['Iris-setosa', 'Iris-versicolor', 'Iris-virginica'], ['b', 'r', 'g'])"
   ]
  },
  {
   "cell_type": "code",
   "execution_count": 100,
   "metadata": {},
   "outputs": [
    {
     "data": {
      "text/plain": [
       "([], <a list of 0 Text xticklabel objects>)"
      ]
     },
     "execution_count": 100,
     "metadata": {},
     "output_type": "execute_result"
    },
    {
     "data": {
      "image/png": "[encoded data removed]",
      "text/plain": [
       "<Figure size 432x288 with 1 Axes>"
      ]
     },
     "metadata": {
      "needs_background": "light"
     },
     "output_type": "display_data"
    }
   ],
   "source": [
    "# visualise discretization process for sepal lengths\n",
    "sep_length = df_colours.sort_values(by=['sepal_length'])\n",
    "sep_length['sepal_length'].plot(kind = 'bar', color = sep_length['species'], title = 'Sepal lengths')\n",
    "\n",
    "legend_elements = [Patch(facecolor='b', edgecolor='black',\n",
    "                         label='Iris Setosa'), Patch(facecolor='r', edgecolor='black',\n",
    "                         label= 'Iris Versicolor') , Patch(facecolor='g', edgecolor='black',\n",
    "                         label= 'Iris Virginica')]\n",
    "plt.legend(handles=legend_elements, loc='upper left')\n",
    "# The x-ticks were unreadible, so were removed. The plot is stil understandable (the instances are sorted in increasing order)\n",
    "plt.xticks([], [])"
   ]
  },
  {
   "cell_type": "code",
   "execution_count": 101,
   "metadata": {},
   "outputs": [
    {
     "data": {
      "text/plain": [
       "([], <a list of 0 Text xticklabel objects>)"
      ]
     },
     "execution_count": 101,
     "metadata": {},
     "output_type": "execute_result"
    },
    {
     "data": {
      "image/png": "[encoded data removed]",
      "text/plain": [
       "<Figure size 432x288 with 1 Axes>"
      ]
     },
     "metadata": {
      "needs_background": "light"
     },
     "output_type": "display_data"
    }
   ],
   "source": [
    "# visualise discretization process for sepal widths\n",
    "sep_width = df_colours.sort_values(by=['sepal_width'])\n",
    "sep_width['sepal_width'].plot(kind = 'bar', color = sep_width['species'], title = 'Sepal widths')\n",
    "plt.legend(handles=legend_elements, loc='upper left')\n",
    "plt.xticks([], [])"
   ]
  },
  {
   "cell_type": "code",
   "execution_count": 102,
   "metadata": {},
   "outputs": [
    {
     "data": {
      "text/plain": [
       "([], <a list of 0 Text xticklabel objects>)"
      ]
     },
     "execution_count": 102,
     "metadata": {},
     "output_type": "execute_result"
    },
    {
     "data": {
      "image/png": "[encoded data removed]",
      "text/plain": [
       "<Figure size 432x288 with 1 Axes>"
      ]
     },
     "metadata": {
      "needs_background": "light"
     },
     "output_type": "display_data"
    }
   ],
   "source": [
    "# visualise discretization process for petal lengths\n",
    "petal_length = df_colours.sort_values(by=['petal_length'])\n",
    "petal_length['petal_length'].plot(kind = 'bar', color = petal_length['species'], title = 'Petal lengths')\n",
    "plt.legend(handles=legend_elements, loc='upper left')\n",
    "plt.xticks([], [])"
   ]
  },
  {
   "cell_type": "code",
   "execution_count": 103,
   "metadata": {},
   "outputs": [
    {
     "data": {
      "text/plain": [
       "([], <a list of 0 Text xticklabel objects>)"
      ]
     },
     "execution_count": 103,
     "metadata": {},
     "output_type": "execute_result"
    },
    {
     "data": {
      "image/png": "[encoded data removed]",
      "text/plain": [
       "<Figure size 432x288 with 1 Axes>"
      ]
     },
     "metadata": {
      "needs_background": "light"
     },
     "output_type": "display_data"
    }
   ],
   "source": [
    "# visualise discretization process for petal widths\n",
    "petal_width = df_colours.sort_values(by=['petal_width'])\n",
    "petal_width['petal_width'].plot(kind = 'bar', color = petal_width['species'], title = 'Petal widths')\n",
    "plt.legend(handles=legend_elements, loc='upper left')\n",
    "plt.xticks([], [])"
   ]
  },
  {
   "cell_type": "code",
   "execution_count": null,
   "metadata": {},
   "outputs": [],
   "source": []
  },
  {
   "cell_type": "code",
   "execution_count": 75,
   "metadata": {},
   "outputs": [
    {
     "name": "stdout",
     "output_type": "stream",
     "text": [
      "1.9 4.9 0.6 1.6 5.4 6.3 2.9 3.2\n"
     ]
    }
   ],
   "source": [
    "# divide everything into first, middle and last one third of measurements\n",
    "petlength_cut1 = sorted(list(df['petal_length']))[49]\n",
    "petlength_cut2 =sorted(list(df['petal_length']))[99]\n",
    "petwidth_cut1 =sorted(list(df['petal_width']))[49]\n",
    "petwidth_cut2 =sorted(list(df['petal_width']))[99]\n",
    "seplength_cut1 = sorted(list(df['sepal_length']))[49]\n",
    "seplength_cut2 =sorted(list(df['sepal_length']))[99]\n",
    "sepwidth_cut1 =sorted(list(df['sepal_width']))[49]\n",
    "sepwidth_cut2 =sorted(list(df['sepal_width']))[99]\n",
    "print(petlength_cut1, petlength_cut2, petwidth_cut1, petwidth_cut2, seplength_cut1, seplength_cut2, sepwidth_cut1, sepwidth_cut2)\n"
   ]
  },
  {
   "cell_type": "code",
   "execution_count": null,
   "metadata": {},
   "outputs": [],
   "source": []
  },
  {
   "cell_type": "code",
   "execution_count": null,
   "metadata": {},
   "outputs": [],
   "source": []
  },
  {
   "cell_type": "code",
   "execution_count": null,
   "metadata": {},
   "outputs": [],
   "source": []
  },
  {
   "cell_type": "code",
   "execution_count": 76,
   "metadata": {},
   "outputs": [
    {
     "name": "stdout",
     "output_type": "stream",
     "text": [
      "Accuracy: 0.6222222222222222\n"
     ]
    }
   ],
   "source": [
    "# changing labels to 'short' for petal_length\n",
    "df.loc[df['petal_length'] <= petlength_cut1, 'petal_length_label'] = 'short' \n",
    "# changing labels to 'medium' for petal_width\n",
    "df.loc[(df['petal_length'] > petlength_cut1) & (df['petal_length'] <= petlength_cut2), 'petal_length_label'] = 'medium'\n",
    "# changing labels to 'long' for petal_width\n",
    "df.loc[df['petal_length'] > petlength_cut2, 'petal_length_label'] = 'long'\n",
    "\n",
    "\n",
    "# changing labels to 'narrow' for petal_width\n",
    "df.loc[df['petal_width'] <= petwidth_cut1, 'petal_width_label'] = 'narrow' \n",
    "# changing labels to 'medium' for petal_width\n",
    "df.loc[(df['petal_width'] > petwidth_cut1) & (df['petal_width'] <= petwidth_cut2), 'petal_width_label'] = 'medium'\n",
    "# changing labels to 'broad' for petal_width\n",
    "df.loc[df['petal_width'] > petwidth_cut2, 'petal_width_label'] = 'broad'\n",
    "\n",
    "\n",
    "#Classifier = Decision tree, predictors = sepal length and width, data type = continuous , accuracy = 0.622\n",
    "\n",
    "X = df[['sepal_length', 'sepal_width']] # Features\n",
    "y = df['species'] # Target variable\n",
    "# Split dataset into training set and test set\n",
    "X_train, X_test, y_train, y_test = train_test_split(X, y, test_size=0.3, random_state=1) # 70% training and 30% test\n",
    "# Create Decision Tree classifer object\n",
    "clf = DecisionTreeClassifier()\n",
    "# Train Decision Tree Classifer\n",
    "clf = clf.fit(X_train,y_train)\n",
    "#Predict the response for test dataset\n",
    "y_pred = clf.predict(X_test)\n",
    "# Model Accuracy, how often is the classifier correct?\n",
    "print(\"Accuracy:\",metrics.accuracy_score(y_test, y_pred))\n",
    "# changing labels to 'short' for sepal_length\n",
    "df.loc[df['sepal_length'] <= seplength_cut1, 'sepal_length_label'] = 'short' \n",
    "# changing labels to 'medium' for sepal_width\n",
    "df.loc[(df['sepal_length'] > seplength_cut1) & (df['sepal_length'] <= seplength_cut2), 'sepal_length_label'] = 'medium'\n",
    "# changing labels to 'long' for petal_width\n",
    "df.loc[df['sepal_length'] > seplength_cut2, 'sepal_length_label'] = 'long'\n",
    "\n",
    "\n",
    "# changing labels to 'narrow' for sepal_width\n",
    "df.loc[df['sepal_width'] <= sepwidth_cut1, 'sepal_width_label'] = 'narrow' \n",
    "# changing labels to 'medium' for sepal_width\n",
    "df.loc[(df['sepal_width'] > sepwidth_cut1) & (df['sepal_width'] <= sepwidth_cut2), 'sepal_width_label'] = 'medium'\n",
    "# changing labels to 'broad' for sepal_width\n",
    "df.loc[df['sepal_width'] > sepwidth_cut2, 'sepal_width_label'] = 'broad'"
   ]
  },
  {
   "cell_type": "code",
   "execution_count": 77,
   "metadata": {},
   "outputs": [
    {
     "name": "stdout",
     "output_type": "stream",
     "text": [
      "    petal_length_label petal_width_label sepal_length_label sepal_width_label\n",
      "0                short            narrow              short             broad\n",
      "1                short            narrow              short            medium\n",
      "2                short            narrow              short            medium\n",
      "3                short            narrow              short            medium\n",
      "4                short            narrow              short             broad\n",
      "5                short            narrow              short             broad\n",
      "6                short            narrow              short             broad\n",
      "7                short            narrow              short             broad\n",
      "8                short            narrow              short            narrow\n",
      "9                short            narrow              short            medium\n",
      "10               short            narrow              short             broad\n",
      "11               short            narrow              short             broad\n",
      "12               short            narrow              short            medium\n",
      "13               short            narrow              short            medium\n",
      "14               short            narrow             medium             broad\n",
      "15               short            narrow             medium             broad\n",
      "16               short            narrow              short             broad\n",
      "17               short            narrow              short             broad\n",
      "18               short            narrow             medium             broad\n",
      "19               short            narrow              short             broad\n",
      "20               short            narrow              short             broad\n",
      "21               short            narrow              short             broad\n",
      "22               short            narrow              short             broad\n",
      "23               short            narrow              short             broad\n",
      "24               short            narrow              short             broad\n",
      "25               short            narrow              short            medium\n",
      "26               short            narrow              short             broad\n",
      "27               short            narrow              short             broad\n",
      "28               short            narrow              short             broad\n",
      "29               short            narrow              short            medium\n",
      "30               short            narrow              short            medium\n",
      "31               short            narrow              short             broad\n",
      "32               short            narrow              short             broad\n",
      "33               short            narrow             medium             broad\n",
      "34               short            narrow              short            medium\n",
      "35               short            narrow              short            medium\n",
      "36               short            narrow             medium             broad\n",
      "37               short            narrow              short            medium\n",
      "38               short            narrow              short            medium\n",
      "39               short            narrow              short             broad\n",
      "40               short            narrow              short             broad\n",
      "41               short            narrow              short            narrow\n",
      "42               short            narrow              short            medium\n",
      "43               short            narrow              short             broad\n",
      "44               short            narrow              short             broad\n",
      "45               short            narrow              short            medium\n",
      "46               short            narrow              short             broad\n",
      "47               short            narrow              short            medium\n",
      "48               short            narrow              short             broad\n",
      "49               short            narrow              short             broad\n",
      "50              medium            medium               long            medium\n",
      "51              medium            medium               long            medium\n",
      "52              medium            medium               long            medium\n",
      "53              medium            medium             medium            narrow\n",
      "54              medium            medium               long            narrow\n",
      "55              medium            medium             medium            narrow\n",
      "56              medium            medium             medium             broad\n",
      "57              medium            medium              short            narrow\n",
      "58              medium            medium               long            narrow\n",
      "59              medium            medium              short            narrow\n",
      "60              medium            medium              short            narrow\n",
      "61              medium            medium             medium            medium\n",
      "62              medium            medium             medium            narrow\n",
      "63              medium            medium             medium            narrow\n",
      "64              medium            medium             medium            narrow\n",
      "65              medium            medium               long            medium\n",
      "66              medium            medium             medium            medium\n",
      "67              medium            medium             medium            narrow\n",
      "68              medium            medium             medium            narrow\n",
      "69              medium            medium             medium            narrow\n",
      "70              medium             broad             medium            medium\n",
      "71              medium            medium             medium            narrow\n",
      "72              medium            medium             medium            narrow\n",
      "73              medium            medium             medium            narrow\n",
      "74              medium            medium               long            narrow\n",
      "75              medium            medium               long            medium\n",
      "76              medium            medium               long            narrow\n",
      "77                long             broad               long            medium\n",
      "78              medium            medium             medium            narrow\n",
      "79              medium            medium             medium            narrow\n",
      "80              medium            medium             medium            narrow\n",
      "81              medium            medium             medium            narrow\n",
      "82              medium            medium             medium            narrow\n",
      "83                long            medium             medium            narrow\n",
      "84              medium            medium              short            medium\n",
      "85              medium            medium             medium             broad\n",
      "86              medium            medium               long            medium\n",
      "87              medium            medium             medium            narrow\n",
      "88              medium            medium             medium            medium\n",
      "89              medium            medium             medium            narrow\n",
      "90              medium            medium             medium            narrow\n",
      "91              medium            medium             medium            medium\n",
      "92              medium            medium             medium            narrow\n",
      "93              medium            medium              short            narrow\n",
      "94              medium            medium             medium            narrow\n",
      "95              medium            medium             medium            medium\n",
      "96              medium            medium             medium            narrow\n",
      "97              medium            medium             medium            narrow\n",
      "98              medium            medium              short            narrow\n",
      "99              medium            medium             medium            narrow\n",
      "100               long             broad             medium             broad\n",
      "101               long             broad             medium            narrow\n",
      "102               long             broad               long            medium\n",
      "103               long             broad             medium            narrow\n",
      "104               long             broad               long            medium\n",
      "105               long             broad               long            medium\n",
      "106             medium             broad              short            narrow\n",
      "107               long             broad               long            narrow\n",
      "108               long             broad               long            narrow\n",
      "109               long             broad               long             broad\n",
      "110               long             broad               long            medium\n",
      "111               long             broad               long            narrow\n",
      "112               long             broad               long            medium\n",
      "113               long             broad             medium            narrow\n",
      "114               long             broad             medium            narrow\n",
      "115               long             broad               long            medium\n",
      "116               long             broad               long            medium\n",
      "117               long             broad               long             broad\n",
      "118               long             broad               long            narrow\n",
      "119               long            medium             medium            narrow\n",
      "120               long             broad               long            medium\n",
      "121             medium             broad             medium            narrow\n",
      "122               long             broad               long            narrow\n",
      "123             medium             broad             medium            narrow\n",
      "124               long             broad               long             broad\n",
      "125               long             broad               long            medium\n",
      "126             medium             broad             medium            narrow\n",
      "127             medium             broad             medium            medium\n",
      "128               long             broad               long            narrow\n",
      "129               long            medium               long            medium\n",
      "130               long             broad               long            narrow\n",
      "131               long             broad               long             broad\n",
      "132               long             broad               long            narrow\n",
      "133               long            medium             medium            narrow\n",
      "134               long            medium             medium            narrow\n",
      "135               long             broad               long            medium\n",
      "136               long             broad             medium             broad\n",
      "137               long             broad               long            medium\n",
      "138             medium             broad             medium            medium\n",
      "139               long             broad               long            medium\n",
      "140               long             broad               long            medium\n",
      "141               long             broad               long            medium\n",
      "142               long             broad             medium            narrow\n",
      "143               long             broad               long            medium\n",
      "144               long             broad               long             broad\n",
      "145               long             broad               long            medium\n",
      "146               long             broad             medium            narrow\n",
      "147               long             broad               long            medium\n",
      "148               long             broad             medium             broad\n",
      "149               long             broad             medium            medium\n"
     ]
    }
   ],
   "source": [
    "# check labels\n",
    "with pd.option_context('display.max_rows', None, 'display.max_columns', None):  # more options can be specified also\n",
    "    print(df[['petal_length_label', 'petal_width_label', 'sepal_length_label', 'sepal_width_label']])"
   ]
  },
  {
   "cell_type": "code",
   "execution_count": 78,
   "metadata": {},
   "outputs": [
    {
     "name": "stdout",
     "output_type": "stream",
     "text": [
      "Accuracy: 0.9555555555555556\n"
     ]
    }
   ],
   "source": [
    "# Try some Decision Tree classification with continious data\n",
    "#Classifier = Decision tree, predictors = petal length and width, data type = continuous , accuracy = 0.956\n",
    "\n",
    "X = df[['petal_length', 'petal_width']] # Features\n",
    "y = df['species'] # Target variable\n",
    "# Split dataset into training set and test set\n",
    "X_train, X_test, y_train, y_test = train_test_split(X, y, test_size=0.3, random_state=1) # 70% training and 30% test\n",
    "# Create Decision Tree classifer object\n",
    "clf = DecisionTreeClassifier()\n",
    "# Train Decision Tree Classifer\n",
    "clf = clf.fit(X_train,y_train)\n",
    "#Predict the response for test dataset\n",
    "y_pred = clf.predict(X_test)\n",
    "# Model Accuracy, how often is the classifier correct?\n",
    "print(\"Accuracy:\",metrics.accuracy_score(y_test, y_pred))"
   ]
  },
  {
   "cell_type": "code",
   "execution_count": 79,
   "metadata": {},
   "outputs": [
    {
     "name": "stdout",
     "output_type": "stream",
     "text": [
      "Accuracy: 0.6222222222222222\n"
     ]
    }
   ],
   "source": [
    "#Classifier = Decision tree, predictors = sepal length and width, data type = continuous , accuracy = 0.622\n",
    "\n",
    "X = df[['sepal_length', 'sepal_width']] # Features\n",
    "y = df['species'] # Target variable\n",
    "# Split dataset into training set and test set\n",
    "X_train, X_test, y_train, y_test = train_test_split(X, y, test_size=0.3, random_state=1) # 70% training and 30% test\n",
    "# Create Decision Tree classifer object\n",
    "clf = DecisionTreeClassifier()\n",
    "# Train Decision Tree Classifer\n",
    "clf = clf.fit(X_train,y_train)\n",
    "#Predict the response for test dataset\n",
    "y_pred = clf.predict(X_test)\n",
    "# Model Accuracy, how often is the classifier correct?\n",
    "print(\"Accuracy:\",metrics.accuracy_score(y_test, y_pred))"
   ]
  },
  {
   "cell_type": "code",
   "execution_count": 80,
   "metadata": {},
   "outputs": [
    {
     "data": {
      "text/html": [
       "<div>\n",
       "<style scoped>\n",
       "    .dataframe tbody tr th:only-of-type {\n",
       "        vertical-align: middle;\n",
       "    }\n",
       "\n",
       "    .dataframe tbody tr th {\n",
       "        vertical-align: top;\n",
       "    }\n",
       "\n",
       "    .dataframe thead th {\n",
       "        text-align: right;\n",
       "    }\n",
       "</style>\n",
       "<table border=\"1\" class=\"dataframe\">\n",
       "  <thead>\n",
       "    <tr style=\"text-align: right;\">\n",
       "      <th></th>\n",
       "      <th>sepal_length</th>\n",
       "      <th>sepal_width</th>\n",
       "      <th>petal_length</th>\n",
       "      <th>petal_width</th>\n",
       "      <th>species</th>\n",
       "      <th>petal_length_label_long</th>\n",
       "      <th>petal_length_label_medium</th>\n",
       "      <th>petal_length_label_short</th>\n",
       "      <th>petal_width_label_broad</th>\n",
       "      <th>petal_width_label_medium</th>\n",
       "      <th>petal_width_label_narrow</th>\n",
       "      <th>sepal_length_label_long</th>\n",
       "      <th>sepal_length_label_medium</th>\n",
       "      <th>sepal_length_label_short</th>\n",
       "      <th>sepal_width_label_broad</th>\n",
       "      <th>sepal_width_label_medium</th>\n",
       "      <th>sepal_width_label_narrow</th>\n",
       "    </tr>\n",
       "  </thead>\n",
       "  <tbody>\n",
       "    <tr>\n",
       "      <th>0</th>\n",
       "      <td>5.1</td>\n",
       "      <td>3.5</td>\n",
       "      <td>1.4</td>\n",
       "      <td>0.2</td>\n",
       "      <td>Iris-setosa</td>\n",
       "      <td>0</td>\n",
       "      <td>0</td>\n",
       "      <td>1</td>\n",
       "      <td>0</td>\n",
       "      <td>0</td>\n",
       "      <td>1</td>\n",
       "      <td>0</td>\n",
       "      <td>0</td>\n",
       "      <td>1</td>\n",
       "      <td>1</td>\n",
       "      <td>0</td>\n",
       "      <td>0</td>\n",
       "    </tr>\n",
       "    <tr>\n",
       "      <th>1</th>\n",
       "      <td>4.9</td>\n",
       "      <td>3.0</td>\n",
       "      <td>1.4</td>\n",
       "      <td>0.2</td>\n",
       "      <td>Iris-setosa</td>\n",
       "      <td>0</td>\n",
       "      <td>0</td>\n",
       "      <td>1</td>\n",
       "      <td>0</td>\n",
       "      <td>0</td>\n",
       "      <td>1</td>\n",
       "      <td>0</td>\n",
       "      <td>0</td>\n",
       "      <td>1</td>\n",
       "      <td>0</td>\n",
       "      <td>1</td>\n",
       "      <td>0</td>\n",
       "    </tr>\n",
       "    <tr>\n",
       "      <th>2</th>\n",
       "      <td>4.7</td>\n",
       "      <td>3.2</td>\n",
       "      <td>1.3</td>\n",
       "      <td>0.2</td>\n",
       "      <td>Iris-setosa</td>\n",
       "      <td>0</td>\n",
       "      <td>0</td>\n",
       "      <td>1</td>\n",
       "      <td>0</td>\n",
       "      <td>0</td>\n",
       "      <td>1</td>\n",
       "      <td>0</td>\n",
       "      <td>0</td>\n",
       "      <td>1</td>\n",
       "      <td>0</td>\n",
       "      <td>1</td>\n",
       "      <td>0</td>\n",
       "    </tr>\n",
       "    <tr>\n",
       "      <th>3</th>\n",
       "      <td>4.6</td>\n",
       "      <td>3.1</td>\n",
       "      <td>1.5</td>\n",
       "      <td>0.2</td>\n",
       "      <td>Iris-setosa</td>\n",
       "      <td>0</td>\n",
       "      <td>0</td>\n",
       "      <td>1</td>\n",
       "      <td>0</td>\n",
       "      <td>0</td>\n",
       "      <td>1</td>\n",
       "      <td>0</td>\n",
       "      <td>0</td>\n",
       "      <td>1</td>\n",
       "      <td>0</td>\n",
       "      <td>1</td>\n",
       "      <td>0</td>\n",
       "    </tr>\n",
       "    <tr>\n",
       "      <th>4</th>\n",
       "      <td>5.0</td>\n",
       "      <td>3.6</td>\n",
       "      <td>1.4</td>\n",
       "      <td>0.2</td>\n",
       "      <td>Iris-setosa</td>\n",
       "      <td>0</td>\n",
       "      <td>0</td>\n",
       "      <td>1</td>\n",
       "      <td>0</td>\n",
       "      <td>0</td>\n",
       "      <td>1</td>\n",
       "      <td>0</td>\n",
       "      <td>0</td>\n",
       "      <td>1</td>\n",
       "      <td>1</td>\n",
       "      <td>0</td>\n",
       "      <td>0</td>\n",
       "    </tr>\n",
       "    <tr>\n",
       "      <th>...</th>\n",
       "      <td>...</td>\n",
       "      <td>...</td>\n",
       "      <td>...</td>\n",
       "      <td>...</td>\n",
       "      <td>...</td>\n",
       "      <td>...</td>\n",
       "      <td>...</td>\n",
       "      <td>...</td>\n",
       "      <td>...</td>\n",
       "      <td>...</td>\n",
       "      <td>...</td>\n",
       "      <td>...</td>\n",
       "      <td>...</td>\n",
       "      <td>...</td>\n",
       "      <td>...</td>\n",
       "      <td>...</td>\n",
       "      <td>...</td>\n",
       "    </tr>\n",
       "    <tr>\n",
       "      <th>145</th>\n",
       "      <td>6.7</td>\n",
       "      <td>3.0</td>\n",
       "      <td>5.2</td>\n",
       "      <td>2.3</td>\n",
       "      <td>Iris-virginica</td>\n",
       "      <td>1</td>\n",
       "      <td>0</td>\n",
       "      <td>0</td>\n",
       "      <td>1</td>\n",
       "      <td>0</td>\n",
       "      <td>0</td>\n",
       "      <td>1</td>\n",
       "      <td>0</td>\n",
       "      <td>0</td>\n",
       "      <td>0</td>\n",
       "      <td>1</td>\n",
       "      <td>0</td>\n",
       "    </tr>\n",
       "    <tr>\n",
       "      <th>146</th>\n",
       "      <td>6.3</td>\n",
       "      <td>2.5</td>\n",
       "      <td>5.0</td>\n",
       "      <td>1.9</td>\n",
       "      <td>Iris-virginica</td>\n",
       "      <td>1</td>\n",
       "      <td>0</td>\n",
       "      <td>0</td>\n",
       "      <td>1</td>\n",
       "      <td>0</td>\n",
       "      <td>0</td>\n",
       "      <td>0</td>\n",
       "      <td>1</td>\n",
       "      <td>0</td>\n",
       "      <td>0</td>\n",
       "      <td>0</td>\n",
       "      <td>1</td>\n",
       "    </tr>\n",
       "    <tr>\n",
       "      <th>147</th>\n",
       "      <td>6.5</td>\n",
       "      <td>3.0</td>\n",
       "      <td>5.2</td>\n",
       "      <td>2.0</td>\n",
       "      <td>Iris-virginica</td>\n",
       "      <td>1</td>\n",
       "      <td>0</td>\n",
       "      <td>0</td>\n",
       "      <td>1</td>\n",
       "      <td>0</td>\n",
       "      <td>0</td>\n",
       "      <td>1</td>\n",
       "      <td>0</td>\n",
       "      <td>0</td>\n",
       "      <td>0</td>\n",
       "      <td>1</td>\n",
       "      <td>0</td>\n",
       "    </tr>\n",
       "    <tr>\n",
       "      <th>148</th>\n",
       "      <td>6.2</td>\n",
       "      <td>3.4</td>\n",
       "      <td>5.4</td>\n",
       "      <td>2.3</td>\n",
       "      <td>Iris-virginica</td>\n",
       "      <td>1</td>\n",
       "      <td>0</td>\n",
       "      <td>0</td>\n",
       "      <td>1</td>\n",
       "      <td>0</td>\n",
       "      <td>0</td>\n",
       "      <td>0</td>\n",
       "      <td>1</td>\n",
       "      <td>0</td>\n",
       "      <td>1</td>\n",
       "      <td>0</td>\n",
       "      <td>0</td>\n",
       "    </tr>\n",
       "    <tr>\n",
       "      <th>149</th>\n",
       "      <td>5.9</td>\n",
       "      <td>3.0</td>\n",
       "      <td>5.1</td>\n",
       "      <td>1.8</td>\n",
       "      <td>Iris-virginica</td>\n",
       "      <td>1</td>\n",
       "      <td>0</td>\n",
       "      <td>0</td>\n",
       "      <td>1</td>\n",
       "      <td>0</td>\n",
       "      <td>0</td>\n",
       "      <td>0</td>\n",
       "      <td>1</td>\n",
       "      <td>0</td>\n",
       "      <td>0</td>\n",
       "      <td>1</td>\n",
       "      <td>0</td>\n",
       "    </tr>\n",
       "  </tbody>\n",
       "</table>\n",
       "<p>150 rows × 17 columns</p>\n",
       "</div>"
      ],
      "text/plain": [
       "     sepal_length  sepal_width  petal_length  petal_width         species  \\\n",
       "0             5.1          3.5           1.4          0.2     Iris-setosa   \n",
       "1             4.9          3.0           1.4          0.2     Iris-setosa   \n",
       "2             4.7          3.2           1.3          0.2     Iris-setosa   \n",
       "3             4.6          3.1           1.5          0.2     Iris-setosa   \n",
       "4             5.0          3.6           1.4          0.2     Iris-setosa   \n",
       "..            ...          ...           ...          ...             ...   \n",
       "145           6.7          3.0           5.2          2.3  Iris-virginica   \n",
       "146           6.3          2.5           5.0          1.9  Iris-virginica   \n",
       "147           6.5          3.0           5.2          2.0  Iris-virginica   \n",
       "148           6.2          3.4           5.4          2.3  Iris-virginica   \n",
       "149           5.9          3.0           5.1          1.8  Iris-virginica   \n",
       "\n",
       "     petal_length_label_long  petal_length_label_medium  \\\n",
       "0                          0                          0   \n",
       "1                          0                          0   \n",
       "2                          0                          0   \n",
       "3                          0                          0   \n",
       "4                          0                          0   \n",
       "..                       ...                        ...   \n",
       "145                        1                          0   \n",
       "146                        1                          0   \n",
       "147                        1                          0   \n",
       "148                        1                          0   \n",
       "149                        1                          0   \n",
       "\n",
       "     petal_length_label_short  petal_width_label_broad  \\\n",
       "0                           1                        0   \n",
       "1                           1                        0   \n",
       "2                           1                        0   \n",
       "3                           1                        0   \n",
       "4                           1                        0   \n",
       "..                        ...                      ...   \n",
       "145                         0                        1   \n",
       "146                         0                        1   \n",
       "147                         0                        1   \n",
       "148                         0                        1   \n",
       "149                         0                        1   \n",
       "\n",
       "     petal_width_label_medium  petal_width_label_narrow  \\\n",
       "0                           0                         1   \n",
       "1                           0                         1   \n",
       "2                           0                         1   \n",
       "3                           0                         1   \n",
       "4                           0                         1   \n",
       "..                        ...                       ...   \n",
       "145                         0                         0   \n",
       "146                         0                         0   \n",
       "147                         0                         0   \n",
       "148                         0                         0   \n",
       "149                         0                         0   \n",
       "\n",
       "     sepal_length_label_long  sepal_length_label_medium  \\\n",
       "0                          0                          0   \n",
       "1                          0                          0   \n",
       "2                          0                          0   \n",
       "3                          0                          0   \n",
       "4                          0                          0   \n",
       "..                       ...                        ...   \n",
       "145                        1                          0   \n",
       "146                        0                          1   \n",
       "147                        1                          0   \n",
       "148                        0                          1   \n",
       "149                        0                          1   \n",
       "\n",
       "     sepal_length_label_short  sepal_width_label_broad  \\\n",
       "0                           1                        1   \n",
       "1                           1                        0   \n",
       "2                           1                        0   \n",
       "3                           1                        0   \n",
       "4                           1                        1   \n",
       "..                        ...                      ...   \n",
       "145                         0                        0   \n",
       "146                         0                        0   \n",
       "147                         0                        0   \n",
       "148                         0                        1   \n",
       "149                         0                        0   \n",
       "\n",
       "     sepal_width_label_medium  sepal_width_label_narrow  \n",
       "0                           0                         0  \n",
       "1                           1                         0  \n",
       "2                           1                         0  \n",
       "3                           1                         0  \n",
       "4                           0                         0  \n",
       "..                        ...                       ...  \n",
       "145                         1                         0  \n",
       "146                         0                         1  \n",
       "147                         1                         0  \n",
       "148                         0                         0  \n",
       "149                         1                         0  \n",
       "\n",
       "[150 rows x 17 columns]"
      ]
     },
     "execution_count": 80,
     "metadata": {},
     "output_type": "execute_result"
    }
   ],
   "source": [
    "# One hot encode the labels for experiments with categorical data\n",
    "df_with_dummies= pd.get_dummies(df,columns=['petal_length_label', 'petal_width_label', 'sepal_length_label', 'sepal_width_label'],drop_first=False)\n",
    "df_with_dummies"
   ]
  },
  {
   "cell_type": "code",
   "execution_count": 81,
   "metadata": {},
   "outputs": [
    {
     "name": "stdout",
     "output_type": "stream",
     "text": [
      "Accuracy: 0.9777777777777777\n"
     ]
    }
   ],
   "source": [
    "#Try the Decision trees again with categorical data \n",
    "#Classifier = Decision tree, predictors = petal length and width, data type = categorical, accuracy = 0.978\n",
    "\n",
    "X = df_with_dummies[['petal_length_label_long', 'petal_length_label_medium', 'petal_length_label_short', 'petal_width_label_broad', 'petal_width_label_medium', 'petal_width_label_narrow']] # Features\n",
    "y = df_with_dummies['species'] # Target variable\n",
    "# Split dataset into training set and test set\n",
    "X_train, X_test, y_train, y_test = train_test_split(X, y, test_size=0.3, random_state=1) # 70% training and 30% test\n",
    "# Create Decision Tree classifer object\n",
    "clf = DecisionTreeClassifier()\n",
    "# Train Decision Tree Classifer\n",
    "clf = clf.fit(X_train,y_train)\n",
    "#Predict the response for test dataset\n",
    "y_pred = clf.predict(X_test)\n",
    "# Model Accuracy, how often is the classifier correct?\n",
    "print(\"Accuracy:\",metrics.accuracy_score(y_test, y_pred))"
   ]
  },
  {
   "cell_type": "code",
   "execution_count": 82,
   "metadata": {},
   "outputs": [
    {
     "name": "stdout",
     "output_type": "stream",
     "text": [
      "Accuracy: 0.7555555555555555\n"
     ]
    }
   ],
   "source": [
    "#Classifier = Decision tree, predictors = sepal length and width, data type = categorical , accuracy = 0.756\n",
    "\n",
    "X = df_with_dummies[['sepal_length_label_long', 'sepal_length_label_medium', 'sepal_length_label_short', 'sepal_width_label_broad', 'sepal_width_label_medium', 'sepal_width_label_narrow']] # Features\n",
    "y = df_with_dummies['species'] # Target variable\n",
    "# Split dataset into training set and test set\n",
    "X_train, X_test, y_train, y_test = train_test_split(X, y, test_size=0.3, random_state=1) # 70% training and 30% test\n",
    "# Create Decision Tree classifer object\n",
    "clf = DecisionTreeClassifier()\n",
    "# Train Decision Tree Classifer\n",
    "clf = clf.fit(X_train,y_train)\n",
    "#Predict the response for test dataset\n",
    "y_pred = clf.predict(X_test)\n",
    "# Model Accuracy, how often is the classifier correct?\n",
    "print(\"Accuracy:\",metrics.accuracy_score(y_test, y_pred))"
   ]
  },
  {
   "cell_type": "code",
   "execution_count": 83,
   "metadata": {},
   "outputs": [
    {
     "name": "stdout",
     "output_type": "stream",
     "text": [
      "Accuracy: 0.9555555555555556\n"
     ]
    }
   ],
   "source": [
    "# Experiments with random forest\n",
    "#Classifier = Random forest, predictors = petal length and width, data type = continuous , accuracy = 0.956\n",
    "\n",
    "X = df[['petal_length', 'petal_width']] # Features\n",
    "y = df['species'] # Target variable\n",
    "# Split dataset into training set and test set\n",
    "X_train, X_test, y_train, y_test = train_test_split(X, y, test_size=0.3, random_state=1) # 70% training and 30% test\n",
    "# Create Random forest classifer object\n",
    "clf = RandomForestClassifier(n_estimators = 50)\n",
    "# Train Random forest Classifer\n",
    "clf = clf.fit(X_train,y_train)\n",
    "#Predict the response for test dataset\n",
    "y_pred = clf.predict(X_test)\n",
    "# Model Accuracy, how often is the classifier correct?\n",
    "print(\"Accuracy:\",metrics.accuracy_score(y_test, y_pred))"
   ]
  },
  {
   "cell_type": "code",
   "execution_count": 84,
   "metadata": {},
   "outputs": [
    {
     "name": "stdout",
     "output_type": "stream",
     "text": [
      "Accuracy: 0.7111111111111111\n"
     ]
    }
   ],
   "source": [
    "#Classifier = Random forest, predictors = sepal length and width, data type = continuous , accuracy = 0.667\n",
    "\n",
    "X = df[['sepal_length', 'sepal_width']] # Features\n",
    "y = df['species'] # Target variable\n",
    "# Split dataset into training set and test set\n",
    "X_train, X_test, y_train, y_test = train_test_split(X, y, test_size=0.3, random_state=1) # 70% training and 30% test\n",
    "# Create Random forest classifer object\n",
    "clf = RandomForestClassifier(n_estimators = 50)\n",
    "# Train Random forest Classifer\n",
    "clf = clf.fit(X_train,y_train)\n",
    "#Predict the response for test dataset\n",
    "y_pred = clf.predict(X_test)\n",
    "# Model Accuracy, how often is the classifier correct?\n",
    "print(\"Accuracy:\",metrics.accuracy_score(y_test, y_pred))"
   ]
  },
  {
   "cell_type": "code",
   "execution_count": 85,
   "metadata": {},
   "outputs": [
    {
     "name": "stdout",
     "output_type": "stream",
     "text": [
      "Accuracy: 0.9777777777777777\n"
     ]
    }
   ],
   "source": [
    "#Classifier = Random forest, predictors = petal length and width, data type = categorical, accuracy = 0.978\n",
    "\n",
    "X = df_with_dummies[['petal_length_label_long', 'petal_length_label_medium', 'petal_length_label_short', 'petal_width_label_broad', 'petal_width_label_medium', 'petal_width_label_narrow']] # Features\n",
    "y = df_with_dummies['species'] # Target variable\n",
    "# Split dataset into training set and test set\n",
    "X_train, X_test, y_train, y_test = train_test_split(X, y, test_size=0.3, random_state=1) # 70% training and 30% test\n",
    "# Create Random forest classifer object\n",
    "clf = RandomForestClassifier(n_estimators = 50)\n",
    "# Train Random forest Classifer\n",
    "clf = clf.fit(X_train,y_train)\n",
    "#Predict the response for test dataset\n",
    "y_pred = clf.predict(X_test)\n",
    "# Model Accuracy, how often is the classifier correct?\n",
    "print(\"Accuracy:\",metrics.accuracy_score(y_test, y_pred))"
   ]
  },
  {
   "cell_type": "code",
   "execution_count": 86,
   "metadata": {},
   "outputs": [
    {
     "name": "stdout",
     "output_type": "stream",
     "text": [
      "Accuracy: 0.7555555555555555\n"
     ]
    }
   ],
   "source": [
    "#Classifier = Random forest, predictors = sepal length and width, data type = categorical , accuracy = 0.711\n",
    "\n",
    "X = df_with_dummies[['sepal_length_label_long', 'sepal_length_label_medium', 'sepal_length_label_short', 'sepal_width_label_broad', 'sepal_width_label_medium', 'sepal_width_label_narrow']] # Features\n",
    "y = df_with_dummies['species'] # Target variable\n",
    "# Split dataset into training set and test set\n",
    "X_train, X_test, y_train, y_test = train_test_split(X, y, test_size=0.3, random_state=1) # 70% training and 30% test\n",
    "# Create Random forest classifer object\n",
    "clf = RandomForestClassifier(n_estimators = 50)\n",
    "# Train Random forest Classifer\n",
    "clf = clf.fit(X_train,y_train)\n",
    "#Predict the response for test dataset\n",
    "y_pred = clf.predict(X_test)\n",
    "# Model Accuracy, how often is the classifier correct?\n",
    "print(\"Accuracy:\",metrics.accuracy_score(y_test, y_pred))"
   ]
  },
  {
   "cell_type": "code",
   "execution_count": null,
   "metadata": {},
   "outputs": [],
   "source": []
  },
  {
   "cell_type": "code",
   "execution_count": 87,
   "metadata": {},
   "outputs": [
    {
     "name": "stdout",
     "output_type": "stream",
     "text": [
      "Accuracy: 0.9333333333333333\n",
      "Accuracy: 0.9\n",
      "Accuracy: 1.0\n",
      "Accuracy: 0.9333333333333333\n",
      "Accuracy: 0.9666666666666667\n",
      "Mean accuracy: 0.9466666666666667\n",
      "St. dev. accuract: 0.03800584750330459\n"
     ]
    }
   ],
   "source": [
    "# Experiments with logistic regression and CV. The data are shuffled every time again, but shuffling once is also sufficient.\n",
    "#Classifier = Logistic regression, 5-fold cross validation, predictors = petal length, data type = categorical, accuracy = 0.947\n",
    "df_shuffle = df_with_dummies.sample(frac=1).reset_index(drop=True)\n",
    "\n",
    "fold1 = df_shuffle.loc[0:29]\n",
    "fold2 = df_shuffle.loc[30:59]\n",
    "fold3 = df_shuffle.loc[60:89]\n",
    "fold4 = df_shuffle.loc[90:119]\n",
    "fold5 = df_shuffle.loc[120:149]\n",
    "\n",
    "accuracies = []\n",
    "\n",
    "for i in range(0, 5):\n",
    "    folds = [fold1, fold2, fold3, fold4, fold5]\n",
    "    test = folds[i]\n",
    "    del folds[i]\n",
    "    train_set = pd.concat([folds[0], folds[1], folds[2], folds[3]])\n",
    "    X_train, X_test, y_train, y_test = train_set[['petal_length_label_long', 'petal_length_label_medium', 'petal_length_label_short']], test[['petal_length_label_long', 'petal_length_label_medium', 'petal_length_label_short']] , train_set['species'], test['species']\n",
    "    # Create Decision Tree classifer object\n",
    "    clf = LogisticRegression(class_weight='balanced', multi_class='multinomial', solver='lbfgs')\n",
    "    # Train Decision Tree Classifer\n",
    "    clf = clf.fit(X_train,y_train)\n",
    "    #Predict the response for test dataset\n",
    "    y_pred = clf.predict(X_test)\n",
    "    # Model Accuracy, how often is the classifier correct?\n",
    "    acc = metrics.accuracy_score(y_test, y_pred)\n",
    "    print(\"Accuracy:\", acc)                        \n",
    "    accuracies.append(acc)\n",
    "\n",
    "print('Mean accuracy:', s.mean(accuracies))\n",
    "print('St. dev. accuract:', s.stdev(accuracies))"
   ]
  },
  {
   "cell_type": "code",
   "execution_count": 88,
   "metadata": {},
   "outputs": [
    {
     "name": "stdout",
     "output_type": "stream",
     "text": [
      "Accuracy: 0.9666666666666667\n",
      "Accuracy: 0.9666666666666667\n",
      "Accuracy: 0.9\n",
      "Accuracy: 1.0\n",
      "Accuracy: 0.9666666666666667\n",
      "Mean accuracy: 0.96\n",
      "St. dev. accuract: 0.036514837167011066\n"
     ]
    }
   ],
   "source": [
    "#Classifier = Logistic regression, 5-fold cross validation, predictors = petal width, data type = categorical, accuracy = 0.955\n",
    "df_shuffle = df_with_dummies.sample(frac=1).reset_index(drop=True)\n",
    "\n",
    "fold1 = df_shuffle.loc[0:29]\n",
    "fold2 = df_shuffle.loc[30:59]\n",
    "fold3 = df_shuffle.loc[60:89]\n",
    "fold4 = df_shuffle.loc[90:119]\n",
    "fold5 = df_shuffle.loc[120:149]\n",
    "\n",
    "accuracies = []\n",
    "\n",
    "for i in range(0, 5):\n",
    "    folds = [fold1, fold2, fold3, fold4, fold5]\n",
    "    test = folds[i]\n",
    "    del folds[i]\n",
    "    train_set = pd.concat([folds[0], folds[1], folds[2], folds[3]])\n",
    "    X_train, X_test, y_train, y_test = train_set[['petal_width_label_broad', 'petal_width_label_medium', 'petal_width_label_narrow']], test[['petal_width_label_broad', 'petal_width_label_medium', 'petal_width_label_narrow']] , train_set['species'], test['species']\n",
    "    # Create Decision Tree classifer object\n",
    "    clf = LogisticRegression(class_weight='balanced', multi_class='multinomial', solver='lbfgs')\n",
    "    # Train Decision Tree Classifer\n",
    "    clf = clf.fit(X_train,y_train)\n",
    "    #Predict the response for test dataset\n",
    "    y_pred = clf.predict(X_test)\n",
    "    # Model Accuracy, how often is the classifier correct?\n",
    "    acc = metrics.accuracy_score(y_test, y_pred)\n",
    "    print(\"Accuracy:\", acc)                        \n",
    "    accuracies.append(acc)\n",
    "\n",
    "print('Mean accuracy:', s.mean(accuracies))\n",
    "print('St. dev. accuract:', s.stdev(accuracies))\n",
    "\n",
    "\n",
    "\n"
   ]
  },
  {
   "cell_type": "code",
   "execution_count": 89,
   "metadata": {},
   "outputs": [
    {
     "name": "stdout",
     "output_type": "stream",
     "text": [
      "Accuracy: 0.7666666666666667\n",
      "Accuracy: 0.7666666666666667\n",
      "Accuracy: 0.8\n",
      "Accuracy: 0.7\n",
      "Accuracy: 0.6\n",
      "Mean accuracy: 0.7266666666666667\n",
      "St. dev. accuract: 0.07958224257542218\n"
     ]
    }
   ],
   "source": [
    "#Classifier = Logistic regression, 5-fold cross validation, predictors = sepal length, data type = categorical, accuracy = 0.711\n",
    "df_shuffle = df_with_dummies.sample(frac=1).reset_index(drop=True)\n",
    "\n",
    "fold1 = df_shuffle.loc[0:29]\n",
    "fold2 = df_shuffle.loc[30:59]\n",
    "fold3 = df_shuffle.loc[60:89]\n",
    "fold4 = df_shuffle.loc[90:119]\n",
    "fold5 = df_shuffle.loc[120:149]\n",
    "\n",
    "accuracies = []\n",
    "\n",
    "for i in range(0, 5):\n",
    "    folds = [fold1, fold2, fold3, fold4, fold5]\n",
    "    test = folds[i]\n",
    "    del folds[i]\n",
    "    train_set = pd.concat([folds[0], folds[1], folds[2], folds[3]])\n",
    "    X_train, X_test, y_train, y_test = train_set[['sepal_length_label_long', 'sepal_length_label_medium', 'sepal_length_label_short']], test[['sepal_length_label_long', 'sepal_length_label_medium', 'sepal_length_label_short']] , train_set['species'], test['species']\n",
    "    # Create Decision Tree classifer object\n",
    "    clf = LogisticRegression(class_weight='balanced', multi_class='multinomial', solver='lbfgs')\n",
    "    # Train Decision Tree Classifer\n",
    "    clf = clf.fit(X_train,y_train)\n",
    "    #Predict the response for test dataset\n",
    "    y_pred = clf.predict(X_test)\n",
    "    # Model Accuracy, how often is the classifier correct?\n",
    "    acc = metrics.accuracy_score(y_test, y_pred)\n",
    "    print(\"Accuracy:\", acc)                        \n",
    "    accuracies.append(acc)\n",
    "\n",
    "print('Mean accuracy:', s.mean(accuracies))\n",
    "print('St. dev. accuract:', s.stdev(accuracies))"
   ]
  },
  {
   "cell_type": "code",
   "execution_count": 90,
   "metadata": {},
   "outputs": [
    {
     "name": "stdout",
     "output_type": "stream",
     "text": [
      "Accuracy: 0.9333333333333333\n",
      "Accuracy: 1.0\n",
      "Accuracy: 0.9333333333333333\n",
      "Accuracy: 1.0\n",
      "Accuracy: 0.9666666666666667\n",
      "Mean accuracy: 0.9666666666666667\n",
      "St. dev. accuract: 0.033333333333333326\n"
     ]
    }
   ],
   "source": [
    "#Classifier = Logistic regression, 5-fold cross validation, predictors = sepal lenght and width, petal length and width, data type = categorical, accuracy = 0.622\n",
    "df_shuffle = df_with_dummies.sample(frac=1).reset_index(drop=True)\n",
    "\n",
    "fold1 = df_shuffle.loc[0:29]\n",
    "fold2 = df_shuffle.loc[30:59]\n",
    "fold3 = df_shuffle.loc[60:89]\n",
    "fold4 = df_shuffle.loc[90:119]\n",
    "fold5 = df_shuffle.loc[120:149]\n",
    "\n",
    "accuracies = []\n",
    "\n",
    "for i in range(0, 5):\n",
    "    folds = [fold1, fold2, fold3, fold4, fold5]\n",
    "    test = folds[i]\n",
    "    del folds[i]\n",
    "    train_set = pd.concat([folds[0], folds[1], folds[2], folds[3]])\n",
    "    X_train, X_test, y_train, y_test = train_set[['sepal_width_label_broad', 'sepal_width_label_medium', 'sepal_width_label_narrow', 'sepal_length_label_long', 'sepal_length_label_medium', 'sepal_length_label_short', 'petal_width_label_broad', 'petal_width_label_medium', 'petal_width_label_narrow', 'petal_length_label_long', 'petal_length_label_medium', 'petal_length_label_short']], test[['sepal_width_label_broad', 'sepal_width_label_medium', 'sepal_width_label_narrow', 'sepal_length_label_long', 'sepal_length_label_medium', 'sepal_length_label_short', 'petal_width_label_broad', 'petal_width_label_medium', 'petal_width_label_narrow', 'petal_length_label_long', 'petal_length_label_medium', 'petal_length_label_short']] , train_set['species'], test['species']\n",
    "    # Create Decision Tree classifer object\n",
    "    clf = LogisticRegression(class_weight='balanced', multi_class='multinomial', solver='lbfgs')\n",
    "    # Train Decision Tree Classifer\n",
    "    clf = clf.fit(X_train,y_train)\n",
    "    #Predict the response for test dataset\n",
    "    y_pred = clf.predict(X_test)\n",
    "    # Model Accuracy, how often is the classifier correct?\n",
    "    acc = metrics.accuracy_score(y_test, y_pred)\n",
    "    print(\"Accuracy:\", acc)                        \n",
    "    accuracies.append(acc)\n",
    "\n",
    "print('Mean accuracy:', s.mean(accuracies))\n",
    "print('St. dev. accuract:', s.stdev(accuracies))\n"
   ]
  },
  {
   "cell_type": "code",
   "execution_count": 91,
   "metadata": {},
   "outputs": [
    {
     "name": "stdout",
     "output_type": "stream",
     "text": [
      "Accuracy: 1.0\n",
      "Accuracy: 0.9666666666666667\n",
      "Accuracy: 0.9333333333333333\n",
      "Accuracy: 0.9666666666666667\n",
      "Accuracy: 0.9666666666666667\n",
      "Mean accuracy: 0.9666666666666667\n",
      "St. dev. accuract: 0.02357022603955158\n"
     ]
    }
   ],
   "source": [
    "#Classifier = Logistic regression, predictors = petal length and width, data type = categorical, accuracy = 0.978\n",
    "df_shuffle = df_with_dummies.sample(frac=1).reset_index(drop=True)\n",
    "\n",
    "fold1 = df_shuffle.loc[0:29]\n",
    "fold2 = df_shuffle.loc[30:59]\n",
    "fold3 = df_shuffle.loc[60:89]\n",
    "fold4 = df_shuffle.loc[90:119]\n",
    "fold5 = df_shuffle.loc[120:149]\n",
    "\n",
    "accuracies = []\n",
    "\n",
    "for i in range(0, 5):\n",
    "    folds = [fold1, fold2, fold3, fold4, fold5]\n",
    "    test = folds[i]\n",
    "    del folds[i]\n",
    "    train_set = pd.concat([folds[0], folds[1], folds[2], folds[3]])\n",
    "    X_train, X_test, y_train, y_test = train_set[['petal_length_label_long', 'petal_length_label_medium', 'petal_length_label_short','petal_width_label_broad', 'petal_width_label_medium', 'petal_width_label_narrow']], test[['petal_length_label_long', 'petal_length_label_medium', 'petal_length_label_short','petal_width_label_broad', 'petal_width_label_medium', 'petal_width_label_narrow']] , train_set['species'], test['species']\n",
    "    # Create Decision Tree classifer object\n",
    "    clf = LogisticRegression(class_weight='balanced', multi_class='multinomial', solver='lbfgs')\n",
    "    # Train Decision Tree Classifer\n",
    "    clf = clf.fit(X_train,y_train)\n",
    "    #Predict the response for test dataset\n",
    "    y_pred = clf.predict(X_test)\n",
    "    # Model Accuracy, how often is the classifier correct?\n",
    "    acc = metrics.accuracy_score(y_test, y_pred)\n",
    "    print(\"Accuracy:\", acc)                        \n",
    "    accuracies.append(acc)\n",
    "\n",
    "print('Mean accuracy:', s.mean(accuracies))\n",
    "print('St. dev. accuract:', s.stdev(accuracies))"
   ]
  },
  {
   "cell_type": "code",
   "execution_count": 92,
   "metadata": {},
   "outputs": [
    {
     "name": "stdout",
     "output_type": "stream",
     "text": [
      "Accuracy: 0.7111111111111111\n"
     ]
    }
   ],
   "source": [
    "#Classifier = Logistic regression, predictors = sepal length and width, data type = categorical , accuracy = 0.711\n",
    "\n",
    "\n",
    "X = df_with_dummies[['sepal_length_label_long', 'sepal_length_label_medium', 'sepal_length_label_short', 'sepal_width_label_broad', 'sepal_width_label_medium', 'sepal_width_label_narrow']] # Features\n",
    "y = df_with_dummies['species'] # Target variable\n",
    "# Split dataset into training set and test set\n",
    "X_train, X_test, y_train, y_test = train_test_split(X, y, test_size=0.3, random_state=1) # 70% training and 30% test\n",
    "# Create Decision Tree classifer object\n",
    "clf = LogisticRegression(class_weight='balanced', multi_class='multinomial', solver='lbfgs')\n",
    "# Train Decision Tree Classifer\n",
    "clf = clf.fit(X_train,y_train)\n",
    "#Predict the response for test dataset\n",
    "y_pred = clf.predict(X_test)\n",
    "# Model Accuracy, how often is the classifier correct?\n",
    "print(\"Accuracy:\",metrics.accuracy_score(y_test, y_pred))"
   ]
  },
  {
   "cell_type": "code",
   "execution_count": 93,
   "metadata": {},
   "outputs": [
    {
     "name": "stdout",
     "output_type": "stream",
     "text": [
      "Accuracy: 0.9555555555555556\n"
     ]
    }
   ],
   "source": [
    "# Trying some Naive Bayes experiments\n",
    "#Classifier = Naive Bayes, predictors = petal length and width, data type = continuous , accuracy = 0.956\n",
    "\n",
    "X = df[['petal_length', 'petal_width']] # Features\n",
    "y = df['species'] # Target variable\n",
    "# Split dataset into training set and test set\n",
    "X_train, X_test, y_train, y_test = train_test_split(X, y, test_size=0.3, random_state=1) # 70% training and 30% test\n",
    "# Create Decision Tree classifer object\n",
    "clf = GaussianNB()\n",
    "# Train Decision Tree Classifer\n",
    "clf = clf.fit(X_train,y_train)\n",
    "#Predict the response for test dataset\n",
    "y_pred = clf.predict(X_test)\n",
    "# Model Accuracy, how often is the classifier correct?\n",
    "print(\"Accuracy:\",metrics.accuracy_score(y_test, y_pred))"
   ]
  },
  {
   "cell_type": "code",
   "execution_count": 94,
   "metadata": {},
   "outputs": [
    {
     "name": "stdout",
     "output_type": "stream",
     "text": [
      "Accuracy: 0.7555555555555555\n"
     ]
    }
   ],
   "source": [
    "#Classifier = Naive Bayes, predictors = sepal length and width, data type = continuous , accuracy = 0.756\n",
    "\n",
    "X = df[['sepal_length', 'sepal_width']] # Features\n",
    "y = df['species'] # Target variable\n",
    "# Split dataset into training set and test set\n",
    "X_train, X_test, y_train, y_test = train_test_split(X, y, test_size=0.3, random_state=1) # 70% training and 30% test\n",
    "# Create Naive Bayes classifer object\n",
    "clf = GaussianNB()\n",
    "# Train Naive Bayes Classifer\n",
    "clf = clf.fit(X_train,y_train)\n",
    "#Predict the response for test dataset\n",
    "y_pred = clf.predict(X_test)\n",
    "# Model Accuracy, how often is the classifier correct?\n",
    "print(\"Accuracy:\",metrics.accuracy_score(y_test, y_pred))"
   ]
  },
  {
   "cell_type": "code",
   "execution_count": 95,
   "metadata": {},
   "outputs": [
    {
     "name": "stdout",
     "output_type": "stream",
     "text": [
      "Accuracy: 0.9777777777777777\n"
     ]
    }
   ],
   "source": [
    "#Classifier = Naive Bayes, predictors = petal length and width, data type = categorical, accuracy = 0.978\n",
    "\n",
    "X = df_with_dummies[['petal_length_label_long', 'petal_length_label_medium', 'petal_length_label_short', 'petal_width_label_broad', 'petal_width_label_medium', 'petal_width_label_narrow']] # Features\n",
    "y = df_with_dummies['species'] # Target variable\n",
    "# Split dataset into training set and test set\n",
    "X_train, X_test, y_train, y_test = train_test_split(X, y, test_size=0.3, random_state=1) # 70% training and 30% test\n",
    "# Create Naive Bayes classifer object\n",
    "clf = GaussianNB()\n",
    "# Train Naive Bayes Classifer\n",
    "clf = clf.fit(X_train,y_train)\n",
    "#Predict the response for test dataset\n",
    "y_pred = clf.predict(X_test)\n",
    "# Model Accuracy, how often is the classifier correct?\n",
    "print(\"Accuracy:\",metrics.accuracy_score(y_test, y_pred))"
   ]
  },
  {
   "cell_type": "code",
   "execution_count": 96,
   "metadata": {},
   "outputs": [
    {
     "name": "stdout",
     "output_type": "stream",
     "text": [
      "Accuracy: 0.9333333333333333\n"
     ]
    }
   ],
   "source": [
    "#Classifier = Naive Bayes, predictors = septal length and width, data type = categorical, accuracy = 0.933\n",
    "\n",
    "X = df_with_dummies[['sepal_length_label_long', 'sepal_length_label_medium', 'sepal_length_label_short', 'sepal_width_label_broad', 'petal_width_label_medium', 'petal_width_label_narrow']] # Features\n",
    "y = df_with_dummies['species'] # Target variable\n",
    "# Split dataset into training set and test set\n",
    "X_train, X_test, y_train, y_test = train_test_split(X, y, test_size=0.3, random_state=1) # 70% training and 30% test\n",
    "# Create Naive Bayes classifer object\n",
    "clf = GaussianNB()\n",
    "# Train Naive Bayes Classifer\n",
    "clf = clf.fit(X_train,y_train)\n",
    "#Predict the response for test dataset\n",
    "y_pred = clf.predict(X_test)\n",
    "# Model Accuracy, how often is the classifier correct?\n",
    "print(\"Accuracy:\",metrics.accuracy_score(y_test, y_pred))"
   ]
  },
  {
   "cell_type": "code",
   "execution_count": null,
   "metadata": {},
   "outputs": [],
   "source": []
  }
 ],
 "metadata": {
  "kernelspec": {
   "display_name": "Python 3",
   "language": "python",
   "name": "python3"
  },
  "language_info": {
   "codemirror_mode": {
    "name": "ipython",
    "version": 3
   },
   "file_extension": ".py",
   "mimetype": "text/x-python",
   "name": "python",
   "nbconvert_exporter": "python",
   "pygments_lexer": "ipython3",
   "version": "3.7.4"
  }
 },
 "nbformat": 4,
 "nbformat_minor": 2
}
