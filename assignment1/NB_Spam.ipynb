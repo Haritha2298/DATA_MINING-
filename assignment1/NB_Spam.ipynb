{
 "cells": [
  {
   "cell_type": "code",
   "execution_count": 1,
   "metadata": {},
   "outputs": [],
   "source": [
    "import pandas as pd\n",
    "import re\n",
    "from nltk.corpus import stopwords \n",
    "from nltk.tokenize import word_tokenize \n",
    "from nltk.stem.porter import PorterStemmer\n",
    "import numpy as np\n",
    "from math import log\n",
    "import math"
   ]
  },
  {
   "cell_type": "code",
   "execution_count": 2,
   "metadata": {},
   "outputs": [
    {
     "data": {
      "text/html": [
       "<div>\n",
       "<style scoped>\n",
       "    .dataframe tbody tr th:only-of-type {\n",
       "        vertical-align: middle;\n",
       "    }\n",
       "\n",
       "    .dataframe tbody tr th {\n",
       "        vertical-align: top;\n",
       "    }\n",
       "\n",
       "    .dataframe thead th {\n",
       "        text-align: right;\n",
       "    }\n",
       "</style>\n",
       "<table border=\"1\" class=\"dataframe\">\n",
       "  <thead>\n",
       "    <tr style=\"text-align: right;\">\n",
       "      <th></th>\n",
       "      <th>label</th>\n",
       "      <th>text</th>\n",
       "    </tr>\n",
       "  </thead>\n",
       "  <tbody>\n",
       "    <tr>\n",
       "      <th>0</th>\n",
       "      <td>ham</td>\n",
       "      <td>Go until jurong point, crazy.. Available only ...</td>\n",
       "    </tr>\n",
       "    <tr>\n",
       "      <th>1</th>\n",
       "      <td>ham</td>\n",
       "      <td>Ok lar... Joking wif u oni...</td>\n",
       "    </tr>\n",
       "    <tr>\n",
       "      <th>2</th>\n",
       "      <td>spam</td>\n",
       "      <td>Free entry in 2 a wkly comp to win FA Cup fina...</td>\n",
       "    </tr>\n",
       "    <tr>\n",
       "      <th>3</th>\n",
       "      <td>ham</td>\n",
       "      <td>U dun say so early hor... U c already then say...</td>\n",
       "    </tr>\n",
       "    <tr>\n",
       "      <th>4</th>\n",
       "      <td>ham</td>\n",
       "      <td>Nah I don't think he goes to usf, he lives aro...</td>\n",
       "    </tr>\n",
       "  </tbody>\n",
       "</table>\n",
       "</div>"
      ],
      "text/plain": [
       "  label                                               text\n",
       "0   ham  Go until jurong point, crazy.. Available only ...\n",
       "1   ham                      Ok lar... Joking wif u oni...\n",
       "2  spam  Free entry in 2 a wkly comp to win FA Cup fina...\n",
       "3   ham  U dun say so early hor... U c already then say...\n",
       "4   ham  Nah I don't think he goes to usf, he lives aro..."
      ]
     },
     "execution_count": 2,
     "metadata": {},
     "output_type": "execute_result"
    }
   ],
   "source": [
    "df = pd.read_csv('SmsCollection_new.csv', delimiter=\";\")\n",
    "df.head()"
   ]
  },
  {
   "cell_type": "code",
   "execution_count": null,
   "metadata": {},
   "outputs": [],
   "source": [
    "\n",
    "\n"
   ]
  },
  {
   "cell_type": "code",
   "execution_count": 3,
   "metadata": {},
   "outputs": [
    {
     "data": {
      "text/html": [
       "<div>\n",
       "<style scoped>\n",
       "    .dataframe tbody tr th:only-of-type {\n",
       "        vertical-align: middle;\n",
       "    }\n",
       "\n",
       "    .dataframe tbody tr th {\n",
       "        vertical-align: top;\n",
       "    }\n",
       "\n",
       "    .dataframe thead th {\n",
       "        text-align: right;\n",
       "    }\n",
       "</style>\n",
       "<table border=\"1\" class=\"dataframe\">\n",
       "  <thead>\n",
       "    <tr style=\"text-align: right;\">\n",
       "      <th></th>\n",
       "      <th>label</th>\n",
       "      <th>text</th>\n",
       "    </tr>\n",
       "  </thead>\n",
       "  <tbody>\n",
       "    <tr>\n",
       "      <th>0</th>\n",
       "      <td>ham</td>\n",
       "      <td>go until jurong point, crazy.. available only ...</td>\n",
       "    </tr>\n",
       "    <tr>\n",
       "      <th>1</th>\n",
       "      <td>ham</td>\n",
       "      <td>ok lar... joking wif u oni...</td>\n",
       "    </tr>\n",
       "    <tr>\n",
       "      <th>2</th>\n",
       "      <td>spam</td>\n",
       "      <td>free entry in 2 a wkly comp to win fa cup fina...</td>\n",
       "    </tr>\n",
       "    <tr>\n",
       "      <th>3</th>\n",
       "      <td>ham</td>\n",
       "      <td>u dun say so early hor... u c already then say...</td>\n",
       "    </tr>\n",
       "    <tr>\n",
       "      <th>4</th>\n",
       "      <td>ham</td>\n",
       "      <td>nah i don't think he goes to usf, he lives aro...</td>\n",
       "    </tr>\n",
       "    <tr>\n",
       "      <th>...</th>\n",
       "      <td>...</td>\n",
       "      <td>...</td>\n",
       "    </tr>\n",
       "    <tr>\n",
       "      <th>5567</th>\n",
       "      <td>spam</td>\n",
       "      <td>this is the 2nd time we have tried 2 contact u...</td>\n",
       "    </tr>\n",
       "    <tr>\n",
       "      <th>5568</th>\n",
       "      <td>ham</td>\n",
       "      <td>will ü b going to esplanade fr home?</td>\n",
       "    </tr>\n",
       "    <tr>\n",
       "      <th>5569</th>\n",
       "      <td>ham</td>\n",
       "      <td>pity, * was in mood for that. so...any other s...</td>\n",
       "    </tr>\n",
       "    <tr>\n",
       "      <th>5570</th>\n",
       "      <td>ham</td>\n",
       "      <td>the guy did some bitching but i acted like i'd...</td>\n",
       "    </tr>\n",
       "    <tr>\n",
       "      <th>5571</th>\n",
       "      <td>ham</td>\n",
       "      <td>rofl. its true to its name</td>\n",
       "    </tr>\n",
       "  </tbody>\n",
       "</table>\n",
       "<p>5572 rows × 2 columns</p>\n",
       "</div>"
      ],
      "text/plain": [
       "     label                                               text\n",
       "0      ham  go until jurong point, crazy.. available only ...\n",
       "1      ham                      ok lar... joking wif u oni...\n",
       "2     spam  free entry in 2 a wkly comp to win fa cup fina...\n",
       "3      ham  u dun say so early hor... u c already then say...\n",
       "4      ham  nah i don't think he goes to usf, he lives aro...\n",
       "...    ...                                                ...\n",
       "5567  spam  this is the 2nd time we have tried 2 contact u...\n",
       "5568   ham               will ü b going to esplanade fr home?\n",
       "5569   ham  pity, * was in mood for that. so...any other s...\n",
       "5570   ham  the guy did some bitching but i acted like i'd...\n",
       "5571   ham                         rofl. its true to its name\n",
       "\n",
       "[5572 rows x 2 columns]"
      ]
     },
     "execution_count": 3,
     "metadata": {},
     "output_type": "execute_result"
    }
   ],
   "source": [
    "# lowercase text\n",
    "df = df.apply(lambda x: x.str.lower())\n",
    "df"
   ]
  },
  {
   "cell_type": "code",
   "execution_count": 4,
   "metadata": {},
   "outputs": [
    {
     "data": {
      "text/html": [
       "<div>\n",
       "<style scoped>\n",
       "    .dataframe tbody tr th:only-of-type {\n",
       "        vertical-align: middle;\n",
       "    }\n",
       "\n",
       "    .dataframe tbody tr th {\n",
       "        vertical-align: top;\n",
       "    }\n",
       "\n",
       "    .dataframe thead th {\n",
       "        text-align: right;\n",
       "    }\n",
       "</style>\n",
       "<table border=\"1\" class=\"dataframe\">\n",
       "  <thead>\n",
       "    <tr style=\"text-align: right;\">\n",
       "      <th></th>\n",
       "      <th>label</th>\n",
       "      <th>text</th>\n",
       "    </tr>\n",
       "  </thead>\n",
       "  <tbody>\n",
       "    <tr>\n",
       "      <th>0</th>\n",
       "      <td>ham</td>\n",
       "      <td>go until jurong point crazy available only in ...</td>\n",
       "    </tr>\n",
       "    <tr>\n",
       "      <th>1</th>\n",
       "      <td>ham</td>\n",
       "      <td>ok lar joking wif u oni</td>\n",
       "    </tr>\n",
       "    <tr>\n",
       "      <th>2</th>\n",
       "      <td>spam</td>\n",
       "      <td>free entry in a wkly comp to win fa cup final ...</td>\n",
       "    </tr>\n",
       "    <tr>\n",
       "      <th>3</th>\n",
       "      <td>ham</td>\n",
       "      <td>u dun say so early hor u c already then say</td>\n",
       "    </tr>\n",
       "    <tr>\n",
       "      <th>4</th>\n",
       "      <td>ham</td>\n",
       "      <td>nah i don t think he goes to usf he lives arou...</td>\n",
       "    </tr>\n",
       "    <tr>\n",
       "      <th>...</th>\n",
       "      <td>...</td>\n",
       "      <td>...</td>\n",
       "    </tr>\n",
       "    <tr>\n",
       "      <th>5567</th>\n",
       "      <td>spam</td>\n",
       "      <td>this is the nd time we have tried contact u u ...</td>\n",
       "    </tr>\n",
       "    <tr>\n",
       "      <th>5568</th>\n",
       "      <td>ham</td>\n",
       "      <td>will b going to esplanade fr home</td>\n",
       "    </tr>\n",
       "    <tr>\n",
       "      <th>5569</th>\n",
       "      <td>ham</td>\n",
       "      <td>pity was in mood for that so any other suggest...</td>\n",
       "    </tr>\n",
       "    <tr>\n",
       "      <th>5570</th>\n",
       "      <td>ham</td>\n",
       "      <td>the guy did some bitching but i acted like i d...</td>\n",
       "    </tr>\n",
       "    <tr>\n",
       "      <th>5571</th>\n",
       "      <td>ham</td>\n",
       "      <td>rofl its true to its name</td>\n",
       "    </tr>\n",
       "  </tbody>\n",
       "</table>\n",
       "<p>5572 rows × 2 columns</p>\n",
       "</div>"
      ],
      "text/plain": [
       "     label                                               text\n",
       "0      ham  go until jurong point crazy available only in ...\n",
       "1      ham                           ok lar joking wif u oni \n",
       "2     spam  free entry in a wkly comp to win fa cup final ...\n",
       "3      ham       u dun say so early hor u c already then say \n",
       "4      ham  nah i don t think he goes to usf he lives arou...\n",
       "...    ...                                                ...\n",
       "5567  spam  this is the nd time we have tried contact u u ...\n",
       "5568   ham                 will b going to esplanade fr home \n",
       "5569   ham  pity was in mood for that so any other suggest...\n",
       "5570   ham  the guy did some bitching but i acted like i d...\n",
       "5571   ham                          rofl its true to its name\n",
       "\n",
       "[5572 rows x 2 columns]"
      ]
     },
     "execution_count": 4,
     "metadata": {},
     "output_type": "execute_result"
    }
   ],
   "source": [
    "#remove every nonalphanumerical \n",
    "df['text'] = df['text'].apply(lambda x: re.sub('[^0-9a-zA-Z]+', ' ', x))\n",
    "df\n",
    "\n",
    "# remove every nonalphabetical\n",
    "df['text'] = df['text'].apply(lambda x: re.sub('[^a-zA-Z]+', ' ', x))\n",
    "df\n",
    "\n",
    "\n",
    "\n",
    "\n",
    "\n"
   ]
  },
  {
   "cell_type": "code",
   "execution_count": null,
   "metadata": {},
   "outputs": [],
   "source": []
  },
  {
   "cell_type": "code",
   "execution_count": 5,
   "metadata": {},
   "outputs": [
    {
     "name": "stdout",
     "output_type": "stream",
     "text": [
      "4457\n",
      "1114\n"
     ]
    }
   ],
   "source": [
    "# divide data into training and test set\n",
    "df = df.sample(frac=1).reset_index(drop=True)\n",
    "train_set = df.head(int(len(df)*(80/100)))\n",
    "test_set = df.tail(int(len(df)*(20/100)))\n",
    "print(len(train_set))\n",
    "print(len(test_set))"
   ]
  },
  {
   "cell_type": "code",
   "execution_count": null,
   "metadata": {},
   "outputs": [],
   "source": []
  },
  {
   "cell_type": "code",
   "execution_count": 6,
   "metadata": {},
   "outputs": [
    {
     "name": "stdout",
     "output_type": "stream",
     "text": [
      "label    0.13821\n",
      "text     0.13821\n",
      "dtype: float64\n",
      "label    0.86179\n",
      "text     0.86179\n",
      "dtype: float64\n"
     ]
    }
   ],
   "source": [
    "df = train_set\n",
    "# calculate chance spam class and ham class\n",
    "p_spam = df[df['label'] == 'spam'].count() / len(df)\n",
    "p_ham = df[df['label'] == 'ham'].count() / len(df)\n",
    "print(p_spam)\n",
    "print(p_ham)"
   ]
  },
  {
   "cell_type": "code",
   "execution_count": 7,
   "metadata": {},
   "outputs": [],
   "source": [
    "# create dictionaries to save word occurrence in\n",
    "spam_dict = {}\n",
    "ham_dict = {}\n",
    "\n",
    "spam_df = df[df['label'] == 'spam'].text.values\n",
    "ham_df = df[df['label'] == 'ham'].text.values\n",
    "spam = ' '.join(spam_df).split()\n",
    "ham = ' '.join(ham_df).split()\n",
    "\n"
   ]
  },
  {
   "cell_type": "code",
   "execution_count": 8,
   "metadata": {},
   "outputs": [],
   "source": [
    "#removing stopwords\n",
    "stop_words = set(stopwords.words('english'))\n",
    "\n",
    "for word in spam:\n",
    "    if word in stop_words:\n",
    "        spam.remove(word)\n",
    "for word in ham:\n",
    "    if word in stop_words:\n",
    "        ham.remove(word)\n"
   ]
  },
  {
   "cell_type": "code",
   "execution_count": 9,
   "metadata": {},
   "outputs": [],
   "source": [
    "#stemming words\n",
    "stemmer = PorterStemmer()\n",
    "\n",
    "spam = [stemmer.stem(word) for word in spam]\n",
    "ham = [stemmer.stem(word) for word in ham]   \n",
    "    "
   ]
  },
  {
   "cell_type": "code",
   "execution_count": 10,
   "metadata": {},
   "outputs": [
    {
     "name": "stdout",
     "output_type": "stream",
     "text": [
      "1691\n",
      "4932\n"
     ]
    }
   ],
   "source": [
    "# fill dictionaries of each class with word occurrence of said class\n",
    "for word in spam:\n",
    "    if word not in spam_dict:\n",
    "        spam_dict[word] = 0 \n",
    "    spam_dict[word] += 1\n",
    "\n",
    "for word in ham:\n",
    "    if word not in ham_dict:\n",
    "        ham_dict[word] = 0 \n",
    "    ham_dict[word] += 1\n",
    "    \n",
    "print(len(spam_dict))\n",
    "print(len(ham_dict))"
   ]
  },
  {
   "cell_type": "code",
   "execution_count": 11,
   "metadata": {},
   "outputs": [],
   "source": [
    "# create spam and ham scores for each word\n",
    "spam_score_dict = {}\n",
    "ham_score_dict = {}\n",
    "temp_dict = {**spam_dict , **ham_dict}\n",
    "\n",
    "for word in temp_dict:\n",
    "    if word in spam_dict:\n",
    "        x = spam_dict[word]\n",
    "    else:\n",
    "        x = 0\n",
    "    if word in ham_dict:\n",
    "        y = ham_dict[word]\n",
    "    else:\n",
    "        y = 0\n",
    "    spam_score = x / (x + y)\n",
    "    spam_score_dict[word] = spam_score\n",
    "    \n",
    "for word in temp_dict:\n",
    "    if word in spam_dict:\n",
    "        x = spam_dict[word]\n",
    "    else:\n",
    "        x = 0\n",
    "    if word in ham_dict:\n",
    "        y = ham_dict[word]\n",
    "    else:\n",
    "        y = 0\n",
    "    ham_score = y / (x + y)\n",
    "    ham_score_dict[word] = ham_score\n"
   ]
  },
  {
   "cell_type": "code",
   "execution_count": 12,
   "metadata": {},
   "outputs": [
    {
     "name": "stdout",
     "output_type": "stream",
     "text": [
      "3.5460867952522257\n",
      "0.2820009936978635\n"
     ]
    }
   ],
   "source": [
    "# equalize based on vocabulary size\n",
    "dif_spam = (sum(ham_dict.values()))/(sum(spam_dict.values()))\n",
    "dif_ham = 1/dif_spam\n",
    "\n",
    "print(dif_spam)\n",
    "print(dif_ham)\n",
    "\n",
    "for word in spam_dict:\n",
    "   spam_dict[word] *= dif_ham\n",
    "for word in ham_dict:\n",
    "   ham_dict[word] *= dif_spam"
   ]
  },
  {
   "cell_type": "code",
   "execution_count": 13,
   "metadata": {},
   "outputs": [],
   "source": [
    "# calculate probabilities of features given a certain class\n",
    "# the k is for Laplace smoothing\n",
    "def chance_word_in_class(word, spam_dict, ham_dict, k = 0):\n",
    "    if word in spam_dict:\n",
    "        x = spam_dict.get(word)\n",
    "    else: \n",
    "        x = 0\n",
    "    chance_spam = (x + k) / (sum(spam_dict.values()) + k)\n",
    "    if word in ham_dict:\n",
    "        x = ham_dict.get(word)\n",
    "    else: \n",
    "        x = 0\n",
    "    chance_ham = (x + k) / (sum(ham_dict.values()) + k)\n",
    "    return chance_spam, chance_ham"
   ]
  },
  {
   "cell_type": "code",
   "execution_count": 14,
   "metadata": {},
   "outputs": [],
   "source": [
    "# labeling when using the spam and ham score\n",
    "def labeling(message):\n",
    "\n",
    "    chances_spam = []\n",
    "    chances_ham = []\n",
    "\n",
    "    for word in message.split():\n",
    "        chance_spam_word, chance_ham_word = chance_word_in_class(word, spam_dict, ham_dict)\n",
    "        try:\n",
    "           chance_spam_word, chance_ham_word = chance_spam_word * spam_score_dict[word], chance_ham_word * ham_score_dict[word]\n",
    "        except KeyError:\n",
    "           pass\n",
    "        try:\n",
    "            if spam_score_dict[word] >= 0.95:\n",
    "                chance_spam_word, chance_ham_word = 1, 0\n",
    "        except KeyError:\n",
    "            pass\n",
    "        try:\n",
    "            if ham_score_dict[word] >= 0.95:\n",
    "                chance_spam_word, chance_ham_word = 0, 1\n",
    "        except KeyError:\n",
    "            pass\n",
    "        chances_spam.append(chance_spam_word)\n",
    "        chances_ham.append(chance_ham_word)\n",
    "\n",
    "\n",
    "    chances_spam = [i for i in chances_spam if i != 0]\n",
    "    chances_ham = [i for i in chances_ham if i != 0]\n",
    "\n",
    "    if 1 in chances_spam:\n",
    "        label = 'spam'\n",
    "    elif 1 in chances_ham:\n",
    "        label = 'ham'\n",
    "    else:\n",
    "\n",
    "        chance_spam = np.prod(list(map(math.log10, chances_spam)))\n",
    "        chance_ham = np.prod(list(map(math.log10, chances_ham)))\n",
    "\n",
    "        if chance_spam > chance_ham:\n",
    "            label = 'spam'\n",
    "        elif chance_ham > chance_spam:\n",
    "            label = 'ham'\n",
    "        else:\n",
    "            label ='neutral'\n",
    "\n",
    "    return label"
   ]
  },
  {
   "cell_type": "code",
   "execution_count": 15,
   "metadata": {},
   "outputs": [],
   "source": [
    "# labeling when not using the spam and ham score\n",
    "\n",
    "# def labeling(message):\n",
    "\n",
    "#     chances_spam = []\n",
    "#     chances_ham = []\n",
    "\n",
    "#     for word in message.split():\n",
    "#         chance_spam_word, chance_ham_word = chance_word_in_class(word, spam_dict, ham_dict)\n",
    "#         chances_spam.append(chance_spam_word)\n",
    "#         chances_ham.append(chance_ham_word)\n",
    "\n",
    "\n",
    "#     chances_spam = [i for i in chances_spam if i != 0]\n",
    "#     chances_ham = [i for i in chances_ham if i != 0]\n",
    "\n",
    "#     chance_spam = np.prod(list(map(math.log10, chances_spam)))\n",
    "#     chance_ham = np.prod(list(map(math.log10, chances_ham)))\n",
    "\n",
    "#     if chance_spam > chance_ham:\n",
    "#         label = 'spam'\n",
    "#     elif chance_ham > chance_spam:\n",
    "#         label = 'ham'\n",
    "#     else:\n",
    "#         label ='neutral'\n",
    "\n",
    "#     return label"
   ]
  },
  {
   "cell_type": "code",
   "execution_count": 16,
   "metadata": {},
   "outputs": [
    {
     "name": "stdout",
     "output_type": "stream",
     "text": [
      "Accuracy: 0.9488330341113106\n"
     ]
    }
   ],
   "source": [
    "# evaluation\n",
    "golden_labels = []\n",
    "labels = []\n",
    "\n",
    "for label in test_set['label']:\n",
    "    golden_labels.append(label)\n",
    "\n",
    "for message in test_set['text']:\n",
    "    labeled = labeling(message)\n",
    "    labels.append(labeled)\n",
    "    \n",
    "accurates = 0\n",
    "errors = 0\n",
    "    \n",
    "for i in range(0, len(labels)):\n",
    "    if labels[i] == golden_labels[i]:\n",
    "        accurates += 1\n",
    "    if labels[i] != golden_labels[i]:\n",
    "        errors += 1\n",
    "\n",
    "accuracy = accurates / len(labels)\n",
    "\n",
    "print('Accuracy:', accuracy)   "
   ]
  },
  {
   "cell_type": "code",
   "execution_count": null,
   "metadata": {},
   "outputs": [],
   "source": []
  },
  {
   "cell_type": "code",
   "execution_count": null,
   "metadata": {},
   "outputs": [],
   "source": []
  },
  {
   "cell_type": "code",
   "execution_count": null,
   "metadata": {},
   "outputs": [],
   "source": []
  }
 ],
 "metadata": {
  "kernelspec": {
   "display_name": "Python 3",
   "language": "python",
   "name": "python3"
  },
  "language_info": {
   "codemirror_mode": {
    "name": "ipython",
    "version": 3
   },
   "file_extension": ".py",
   "mimetype": "text/x-python",
   "name": "python",
   "nbconvert_exporter": "python",
   "pygments_lexer": "ipython3",
   "version": "3.7.4"
  }
 },
 "nbformat": 4,
 "nbformat_minor": 2
}
